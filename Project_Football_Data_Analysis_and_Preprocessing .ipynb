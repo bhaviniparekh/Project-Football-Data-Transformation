{
  "nbformat": 4,
  "nbformat_minor": 0,
  "metadata": {
    "colab": {
      "name": "May-13-Project Football- Data Analysis and Preprocessing.ipynb",
      "provenance": [],
      "collapsed_sections": []
    },
    "kernelspec": {
      "name": "python3",
      "display_name": "Python 3"
    }
  },
  "cells": [
    {
      "cell_type": "markdown",
      "metadata": {
        "id": "8id0nJq6xkdr",
        "colab_type": "text"
      },
      "source": [
        "**Introduction**"
      ]
    },
    {
      "cell_type": "markdown",
      "metadata": {
        "id": "Qfb4a_ZmqTXU",
        "colab_type": "text"
      },
      "source": [
        "The project is to work on Football data set which has 30697 records. These details are of a particular player. The data spans from  1996-2016 for a player. The project is to analyze every column, its relationship with other columns, and how well it will help in predicting.\n",
        "Therefore one of the most important tasks of this project is dimensionality reduction or eliminate the features that will not contribute to prediction. The preprocessing of the important feature is another major task to get the right prediction.\n",
        "\n",
        "Here we will go 1 column at a time. We will study the column along with the is_goal column to get a trend/pattern. We will also we if the given column alone can help in predicting scoring of a goal or there is a dependency of other columns to make the prediction more meaningful and better.\n",
        "\n",
        "The above analyses will help us to understand the importance of the given column in predicting ie whether the column should be included in the predictive algorithm.\n",
        "\n",
        "If the column is important, then based on the above analyses we will define a strategy of preprocessing the column data.\n"
      ]
    },
    {
      "cell_type": "markdown",
      "metadata": {
        "id": "J7mdFmDdwUfl",
        "colab_type": "text"
      },
      "source": [
        "**1.Upload the data set into a data frame** "
      ]
    },
    {
      "cell_type": "code",
      "metadata": {
        "id": "oIrGnFaiRtK_",
        "colab_type": "code",
        "colab": {}
      },
      "source": [
        "import pandas as pd\n",
        "import numpy as np\n",
        "import re\n",
        "import matplotlib.pyplot as plt\n",
        "%matplotlib inline\n",
        "import seaborn as sns\n",
        "import datetime as dt\n",
        "import calendar\n",
        "import matplotlib.pyplot as plt; plt.rcdefaults()\n",
        "sns.set_style('whitegrid')\n",
        "import math\n",
        "pd.set_option('display.max_columns', None)\n"
      ],
      "execution_count": 0,
      "outputs": []
    },
    {
      "cell_type": "code",
      "metadata": {
        "id": "s35i7x1kxCBf",
        "colab_type": "code",
        "colab": {}
      },
      "source": [
        "#Read the data in dataset\n",
        "\n",
        "df = pd.read_csv(\"data.csv\")"
      ],
      "execution_count": 0,
      "outputs": []
    },
    {
      "cell_type": "markdown",
      "metadata": {
        "id": "1fjq-Rg_y8O_",
        "colab_type": "text"
      },
      "source": [
        "**2. Run the below query to get list of columns in the dataset**"
      ]
    },
    {
      "cell_type": "code",
      "metadata": {
        "id": "EaMirII6yMDI",
        "colab_type": "code",
        "outputId": "58f96bd1-45f9-4202-b8b8-2684f2132e69",
        "colab": {
          "base_uri": "https://localhost:8080/",
          "height": 168
        }
      },
      "source": [
        "df.columns"
      ],
      "execution_count": 0,
      "outputs": [
        {
          "output_type": "execute_result",
          "data": {
            "text/plain": [
              "Index(['Unnamed: 0', 'match_event_id', 'location_x', 'location_y',\n",
              "       'remaining_min', 'power_of_shot', 'knockout_match', 'game_season',\n",
              "       'remaining_sec', 'distance_of_shot', 'is_goal', 'area_of_shot',\n",
              "       'shot_basics', 'range_of_shot', 'team_name', 'date_of_game',\n",
              "       'home/away', 'shot_id_number', 'lat/lng', 'type_of_shot',\n",
              "       'type_of_combined_shot', 'match_id', 'team_id', 'remaining_min.1',\n",
              "       'power_of_shot.1', 'knockout_match.1', 'remaining_sec.1',\n",
              "       'distance_of_shot.1'],\n",
              "      dtype='object')"
            ]
          },
          "metadata": {
            "tags": []
          },
          "execution_count": 3
        }
      ]
    },
    {
      "cell_type": "markdown",
      "metadata": {
        "id": "cD6FR_TszMOU",
        "colab_type": "text"
      },
      "source": [
        "**3.Run the below query to get the data type of every column**"
      ]
    },
    {
      "cell_type": "code",
      "metadata": {
        "id": "T1vdQq-TzF99",
        "colab_type": "code",
        "outputId": "16fe6f14-d81e-4d5e-beb7-33a567a60559",
        "colab": {
          "base_uri": "https://localhost:8080/",
          "height": 504
        }
      },
      "source": [
        "df.dtypes"
      ],
      "execution_count": 0,
      "outputs": [
        {
          "output_type": "execute_result",
          "data": {
            "text/plain": [
              "Unnamed: 0                 int64\n",
              "match_event_id           float64\n",
              "location_x               float64\n",
              "location_y               float64\n",
              "remaining_min            float64\n",
              "power_of_shot            float64\n",
              "knockout_match           float64\n",
              "game_season               object\n",
              "remaining_sec            float64\n",
              "distance_of_shot         float64\n",
              "is_goal                  float64\n",
              "area_of_shot              object\n",
              "shot_basics               object\n",
              "range_of_shot             object\n",
              "team_name                 object\n",
              "date_of_game              object\n",
              "shot_id_number           float64\n",
              "lat/lng                   object\n",
              "type_of_shot              object\n",
              "type_of_combined_shot     object\n",
              "match_id                   int64\n",
              "team_id                    int64\n",
              "remaining_min.1          float64\n",
              "power_of_shot.1          float64\n",
              "knockout_match.1         float64\n",
              "remaining_sec.1          float64\n",
              "distance_of_shot.1       float64\n",
              "opponent                  object\n",
              "dtype: object"
            ]
          },
          "metadata": {
            "tags": []
          },
          "execution_count": 29
        }
      ]
    },
    {
      "cell_type": "markdown",
      "metadata": {
        "id": "UxYC9sl41q_4",
        "colab_type": "text"
      },
      "source": [
        "**4.From here on we will study every column. Will try to establish a relationship with the is_goal and other columns if possible. Decide the importance of the feature in the predictive model. At the end based on the study, we will define a strategy of preprocessing the column data.**"
      ]
    },
    {
      "cell_type": "markdown",
      "metadata": {
        "id": "YMocKNCD3ScH",
        "colab_type": "text"
      },
      "source": [
        "**4a) MATCH_EVENT_ID AND MATCH_ID COLUMNS**\n",
        "\n",
        "Every match played is given a number/id, this id is provided in match_id column.\n",
        "\n",
        "On closely looking at the data set we see that for a given match_id there are many match_event_id associated. So we can say that each match_event_id corresponds to some event of that match_id, here every shot hit is considered as an event. But the match_event_id values do not provide any information about the shot that can help us predict the goal. **This information ie match_event_id column,  will have no contribution in helping us determine whether the given event/shot was a goal or not. Therefore this column will not be included in the predictive algorithm.**\n",
        "\n",
        "Based on the above, the match_id column alone will not help us predict anything about goal scoring. The column that tightly relates to this column is date_of_game(refer section 4h for more details). Therefore we should study match_id column along with the date_of_game column, the correlation of match_id column will be given in detail in the date_of_game section.\n",
        "\n",
        "**This column is required in building the predictive model.**\n",
        "\n",
        "**The match_id column has no null values so we do not require any preprocessing of the column data.**\n",
        "\n",
        "\n",
        "\n"
      ]
    },
    {
      "cell_type": "markdown",
      "metadata": {
        "id": "IUu5nXerMuhF",
        "colab_type": "text"
      },
      "source": [
        "**4b) Location_x,Location_y ,lat/lng columns**\n",
        "\n",
        "Both these columns indicate some co-ordinate of the ground, the location from where the ball was hit. In a way, these columns seem important in predicting ie at what coordinates x and y from the goal post have better prospects of scoring a goal. But after studying the other columns we can see that distance_of_shot gives the same information ie at what distance from the goal post the ball was hit to score a goal/not a goal. \n",
        "\n",
        "Graphically the relationship of distance_of_shot and these columns are shown below. Here we have shown with only 1 values of distance_of shot=25.\n",
        "\n",
        "As we see from the graph below, the red dots are distance=25 represented as x and y coordinates. In a way, we can say that these co-ordinates represent the distance from the goal post from where the goal was score/not scored.\n",
        "\n",
        "**Similar explanation we have for lat/lng column.**\n",
        "\n",
        "Based on the above study we consider distance_of_shot column over these 3 columns. The reason being **a)** This will help in feature reduction at the same time preserving the information **b)** other columns are related to distance_of shot (area_of_shot,range_of_shot,shot_basics.Details are explained in the below sections,**4f**).\n",
        "\n",
        "**Therefore location_x ,location_y ,lat/lng columns will not be included in the predictive algorithm**\n",
        "\n",
        "\n"
      ]
    },
    {
      "cell_type": "code",
      "metadata": {
        "id": "qVAgAv1HP6jp",
        "colab_type": "code",
        "outputId": "50acf01e-8420-4a16-9d62-81cb7d76a122",
        "colab": {
          "base_uri": "https://localhost:8080/",
          "height": 485
        }
      },
      "source": [
        "#Create data frame with columns distance_of_shot,location_x,location_y \n",
        "df_loc=df[['distance_of_shot','location_x','location_y']].copy()\n",
        "\n",
        "#Create data frame containing location_x ,location_y data for distance_of_shot=25\n",
        "dist_25=df_loc[(df_loc.distance_of_shot==25.0)].copy()\n",
        "\n",
        "\n",
        "#Plot a graph to show the coordinates for distance=25\n",
        "alpha = 0.02\n",
        "plt.figure(figsize=(12,5))\n",
        "plt.subplot(121)\n",
        "plt.scatter(dist_25.location_x, dist_25.location_y, color='red', alpha=1)\n",
        "plt.title('loc_x and loc_y for distance_of_shot=25')"
      ],
      "execution_count": 0,
      "outputs": [
        {
          "output_type": "execute_result",
          "data": {
            "text/plain": [
              "Text(0.5, 1.0, 'loc_x and loc_y for distance_of_shot=25')"
            ]
          },
          "metadata": {
            "tags": []
          },
          "execution_count": 16
        },
        {
          "output_type": "display_data",
          "data": {
            "image/png": "[encoded data removed]",
            "text/plain": [
              "<Figure size 1200x500 with 1 Axes>"
            ]
          },
          "metadata": {
            "tags": []
          }
        }
      ]
    },
    {
      "cell_type": "markdown",
      "metadata": {
        "id": "0HrEzaoUIc4W",
        "colab_type": "text"
      },
      "source": [
        ""
      ]
    },
    {
      "cell_type": "markdown",
      "metadata": {
        "id": "npRjij2QIahr",
        "colab_type": "text"
      },
      "source": [
        "**4c)Remaining_min and Remaining_sec columns**\n",
        "\n",
        "These columns tell you the time in min/sec left before the match is finished. Indirectly this gives the information about when the goal was scored ie how many mins/sec before the finish of the match the goal was scored. With the basic observation, this column is important in predicting the scoring of the goal. But a detailed analysis is required for that we need to process the columns data. The processing will be done **a)** to replace the nan values of both the columns(count of nan values are given below. **b)** Feature reduction ie transform the min to sec and add the output to the remaining_sec. This way we will require only remaining_sec columns to represent the information of both the columns. We will then rename the remaining_sec column to more meaning full(time_in_sec)\n",
        "\n",
        "Nan values,remaining_min =1562 \n",
        "\n",
        "Nan values, remaining_sec =1594\n",
        "\n",
        "Once preprocessing is completed we will make a deeper analysis of the remaining_sec and is_goal column to see how they are related and how well it will help in predicting.\n",
        "\n",
        "**Preprocessing**\n",
        "\n",
        "**a:-** The data set has a duplicate column (remaining_min.1,remaining_sec.1) corresponding to the above original columns. These duplicates columns will be used to replace the nan values of the original columns. Therefore for a given row, if the original column value has nan, then the value of their corresponding duplicate column will be replaced. There are chances that for a given row both original and duplicate will have nan. For such a scenario, we will take the mode of the original column and replace the nan. This check and process are done for both the original columns. For both the above columns the query is given below.\n",
        "**b:-** Once we have replaced with nan, we will convert the remaining_min columns to sec. The output is then added to the remaining_sec column. The remaining_sec column is then renamed to 'time_in_sec. Post this the original columns are dropped.\n",
        "\n",
        "\n"
      ]
    },
    {
      "cell_type": "code",
      "metadata": {
        "id": "5g8GWCCnQBvq",
        "colab_type": "code",
        "outputId": "effe6ddb-24f2-4e66-89d8-3ea60aa0ec48",
        "colab": {
          "base_uri": "https://localhost:8080/",
          "height": 50
        }
      },
      "source": [
        "#Replace the NaN values from remaining_sec.1 column\n",
        "for ind,r in df.iterrows():\n",
        "    if math.isnan(r.get('remaining_sec')):\n",
        "        if math.isnan(r.get('remaining_sec.1')) or r.get('remaining_sec.1')<60: # get values from duplicate column only if its <60.Reason, seconds cannot be more than 60.\n",
        "            df.at[ind,'remaining_sec']=r.get('remaining_sec.1') \n",
        "            \n",
        "print('Nan values before mode for   ',df[['remaining_sec']].isnull().sum()) \n",
        "\n",
        "#Replacing value with mode of remainig_sec,since there are still 330 row with NaN.May be both the columns can have  NaN or \n",
        "#values of remaining_sec.1 are >60 therefore it cannot replace NaN of remaining_sec column\n",
        "\n",
        "mode_val_sec=df['remaining_sec'].mode().values[0]\n",
        "df['remaining_sec'] = df['remaining_sec'].replace({ np.nan:mode_val_sec})"
      ],
      "execution_count": 0,
      "outputs": [
        {
          "output_type": "stream",
          "text": [
            "Nan values before mode for    remaining_sec    330\n",
            "dtype: int64\n"
          ],
          "name": "stdout"
        }
      ]
    },
    {
      "cell_type": "code",
      "metadata": {
        "id": "pcCsHHCQG4Wj",
        "colab_type": "code",
        "outputId": "95d52cda-19aa-4e59-ce59-2d0ec0b07222",
        "colab": {
          "base_uri": "https://localhost:8080/",
          "height": 50
        }
      },
      "source": [
        "# Replacing the NaN values from remaining_min.1 column\n",
        "for ind,r in df.iterrows():\n",
        "    \n",
        "    if math.isnan(r.get('remaining_min')):\n",
        "        df.at[ind,'remaining_min']=r.get('remaining_min.1')\n",
        "        \n",
        "print('Nan values before mode for ',df[['remaining_min']].isnull().sum()) \n",
        "\n",
        "#Replacing value with mode of remainig_min,since there are still 81 row where both the columns have NaN\n",
        "\n",
        "mode_val_min=df['remaining_min'].mode().values[0]\n",
        "df['remaining_min'] = df['remaining_min'].replace({ np.nan:mode_val_min})"
      ],
      "execution_count": 0,
      "outputs": [
        {
          "output_type": "stream",
          "text": [
            "Nan values before mode for  remaining_min    81\n",
            "dtype: int64\n"
          ],
          "name": "stdout"
        }
      ]
    },
    {
      "cell_type": "code",
      "metadata": {
        "id": "CfBd0IKTHOEh",
        "colab_type": "code",
        "colab": {}
      },
      "source": [
        "# Convert the remaining_min into sec. Add this and  remaining_sec column to a new column 'time_in_sec'.\n",
        "df['time_in_sec'] = 60 * df['remaining_min'] + df['remaining_sec']"
      ],
      "execution_count": 0,
      "outputs": []
    },
    {
      "cell_type": "code",
      "metadata": {
        "id": "krdCOu_wPfwR",
        "colab_type": "code",
        "outputId": "b0507c98-b637-4bf4-c218-edb652766ac4",
        "colab": {
          "base_uri": "https://localhost:8080/",
          "height": 84
        }
      },
      "source": [
        "print('Nan values for     ',df[['remaining_sec']].isnull().sum()) \n",
        "print('Nan values for     ',df[['remaining_min']].isnull().sum()) "
      ],
      "execution_count": 0,
      "outputs": [
        {
          "output_type": "stream",
          "text": [
            "Nan values for      remaining_sec    0\n",
            "dtype: int64\n",
            "Nan values for      remaining_min    0\n",
            "dtype: int64\n"
          ],
          "name": "stdout"
        }
      ]
    },
    {
      "cell_type": "code",
      "metadata": {
        "id": "1BzMiOoWHPwf",
        "colab_type": "code",
        "colab": {}
      },
      "source": [
        "#Drop the remaining_min  and remaining_sec columns thereafter.time_in_sec column will be used for further analysis.\n",
        "df.drop('remaining_min', axis=1, inplace=True)\n",
        "df.drop('remaining_sec', axis=1, inplace=True)"
      ],
      "execution_count": 0,
      "outputs": []
    },
    {
      "cell_type": "markdown",
      "metadata": {
        "id": "SvLjRiliGzUf",
        "colab_type": "text"
      },
      "source": [
        "**Analysis**\n",
        "\n",
        "To check how the new column time_in_sec is related to the is_goal column, we will run the below query. As you see from the below output the last few seconds (0-120 sec) have the maximum goal scored,  especially the last few secs (0-1 sec) have the highest number of goal scored. This indicates that the last few seconds of the match are very crucial and deciding factors for the scoring of a  goal.  Based on this we can say that this column will help in predicting scoring of a goal\n",
        "\n",
        "**This column will be included in the predictive algorithm.**"
      ]
    },
    {
      "cell_type": "code",
      "metadata": {
        "id": "DKZRjV-QNEBb",
        "colab_type": "code",
        "outputId": "5967db20-bc27-44c0-9f2c-197325d97e66",
        "colab": {
          "base_uri": "https://localhost:8080/",
          "height": 218
        }
      },
      "source": [
        "df_time=df[['time_in_sec','is_goal']]\n",
        "\n",
        "#The below given query output shows that the maximum number of goals are scored in last few seconds.\n",
        "df_time['time_in_sec'][df_time['is_goal']==1].value_counts()"
      ],
      "execution_count": 0,
      "outputs": [
        {
          "output_type": "execute_result",
          "data": {
            "text/plain": [
              "0.0       93\n",
              "1.0       46\n",
              "4.0       37\n",
              "37.0      35\n",
              "120.0     34\n",
              "          ..\n",
              "3709.4     1\n",
              "2769.4     1\n",
              "4126.4     1\n",
              "2684.4     1\n",
              "3302.4     1\n",
              "Name: time_in_sec, Length: 859, dtype: int64"
            ]
          },
          "metadata": {
            "tags": []
          },
          "execution_count": 42
        }
      ]
    },
    {
      "cell_type": "code",
      "metadata": {
        "id": "PVMR0qWZNg8u",
        "colab_type": "code",
        "colab": {}
      },
      "source": [
        "df_time['time_in_sec'][df_time['is_goal']==0].value_counts()"
      ],
      "execution_count": 0,
      "outputs": []
    },
    {
      "cell_type": "markdown",
      "metadata": {
        "id": "bKU3EHOeQObB",
        "colab_type": "text"
      },
      "source": [
        "**4d) Power_of_shot column**\n",
        "\n",
        "This column tells you the power at which the ball was hit. The hitting of the ball can be for multiple reasons like shot for direct goal, pass by shot or penalty shot, etc. Whatever be the reason the impact of power_of shot will have also depend on the distance, the range, the area from the goal post from where the ball was hit. Therefore there is indirect dependence of this column with distance_of_shot, range_of_shot, area_of_shot,shot_basics,etc. \n",
        "\n",
        "**Therefore the performance of the predictive model will be tested and checked by inclusion and exclusion of this column. In either case, we need to preprocess the data of the column ie replace the nan values with a meaning full values.**\n",
        "\n",
        "**Preprocess**\n",
        "\n",
        "This dataset has a duplicate column(power_of_shot.1) corresponding to the original power_of_shot. This duplicate column will be used to replace the nan values of the original column. Therefore for a given row, if the original column value has nan, then the value of the corresponding duplicate column will be replaced. There are chances that for a given row both original and duplicate will have nan. For such a scenario, we will take the mode of the original column and replace the nan. \n",
        "\n",
        "Nan values ,power_of_shot=1486\n",
        "\n",
        "The query to replace the nan value is given below\n",
        "\n"
      ]
    },
    {
      "cell_type": "code",
      "metadata": {
        "id": "pJeyKChMOH0H",
        "colab_type": "code",
        "outputId": "82db3da2-61b3-4b97-c7e0-86d92b4707e8",
        "colab": {
          "base_uri": "https://localhost:8080/",
          "height": 50
        }
      },
      "source": [
        "unq_val=df.power_of_shot.unique() # unique values of power_of_shot column\n",
        "\n",
        "#Replace nan values of the original column with duplicates column values\n",
        "for ind,r in df.iterrows():\n",
        "    if math.isnan(r.get('power_of_shot')):\n",
        "        if r.get('power_of_shot.1') in unq_val: # The value of the duplicate column should be range as per original column\n",
        "            df.at[ind,'power_of_shot']=r.get('power_of_shot.1')\n",
        "\n",
        "\n",
        "print('Nan values before replacing for ',df[['power_of_shot']].isnull().sum()) \n",
        "\n",
        "#Since there are still 357 row with NaN.May be both the columns have  NaN or \n",
        "#power_of_shot.1 does not have values in the range of 1-7 therefore it cannot replace NaN of power_of_shot column.Therefore replacing value with the mode of power_of_shot column\n",
        "\n",
        "mode_val_pow=df['power_of_shot'].mode().values[0]\n",
        "df['power_of_shot'] = df['power_of_shot'].replace({ np.nan:mode_val_pow})"
      ],
      "execution_count": 0,
      "outputs": [
        {
          "output_type": "stream",
          "text": [
            "Nan values before mode for  power_of_shot    357\n",
            "dtype: int64\n"
          ],
          "name": "stdout"
        }
      ]
    },
    {
      "cell_type": "code",
      "metadata": {
        "id": "5IO-WCjkVOWL",
        "colab_type": "code",
        "outputId": "88c14d3e-a1f7-45e9-a99f-1ef524f69dd8",
        "colab": {
          "base_uri": "https://localhost:8080/",
          "height": 50
        }
      },
      "source": [
        "print('Nan values for after replacing    ',df[['power_of_shot']].isnull().sum()) "
      ],
      "execution_count": 0,
      "outputs": [
        {
          "output_type": "stream",
          "text": [
            "Nan values for      power_of_shot    0\n",
            "dtype: int64\n"
          ],
          "name": "stdout"
        }
      ]
    },
    {
      "cell_type": "markdown",
      "metadata": {
        "id": "1iMqPQRDMZET",
        "colab_type": "text"
      },
      "source": [
        "**Analysis**\n",
        "\n",
        "As we can see from the below output power_of_shot (1-4) has a very high number of goals scored. But as mentioned above that this column as an indirect dependency of other columns as well. **Therefore we will test the predictive model performance with inclusion and exclusion o this column.**"
      ]
    },
    {
      "cell_type": "code",
      "metadata": {
        "id": "g2_TTP4iKhaF",
        "colab_type": "code",
        "outputId": "508afa2e-f1eb-4b27-8f40-ff7cf20073b0",
        "colab": {
          "base_uri": "https://localhost:8080/",
          "height": 491
        }
      },
      "source": [
        "  df_power=df[['power_of_shot','is_goal']]\n",
        "  #The below query shows the power shot with maximumn goal's scored\n",
        "df_power.groupby(['power_of_shot','is_goal']).agg({'is_goal':\"count\"})"
      ],
      "execution_count": 0,
      "outputs": [
        {
          "output_type": "execute_result",
          "data": {
            "text/html": [
              "<div>\n",
              "<style scoped>\n",
              "    .dataframe tbody tr th:only-of-type {\n",
              "        vertical-align: middle;\n",
              "    }\n",
              "\n",
              "    .dataframe tbody tr th {\n",
              "        vertical-align: top;\n",
              "    }\n",
              "\n",
              "    .dataframe thead th {\n",
              "        text-align: right;\n",
              "    }\n",
              "</style>\n",
              "<table border=\"1\" class=\"dataframe\">\n",
              "  <thead>\n",
              "    <tr style=\"text-align: right;\">\n",
              "      <th></th>\n",
              "      <th></th>\n",
              "      <th>is_goal</th>\n",
              "    </tr>\n",
              "    <tr>\n",
              "      <th>power_of_shot</th>\n",
              "      <th>is_goal</th>\n",
              "      <th></th>\n",
              "    </tr>\n",
              "  </thead>\n",
              "  <tbody>\n",
              "    <tr>\n",
              "      <th rowspan=\"2\" valign=\"top\">1.0</th>\n",
              "      <th>0.0</th>\n",
              "      <td>3372</td>\n",
              "    </tr>\n",
              "    <tr>\n",
              "      <th>1.0</th>\n",
              "      <td>2934</td>\n",
              "    </tr>\n",
              "    <tr>\n",
              "      <th rowspan=\"2\" valign=\"top\">2.0</th>\n",
              "      <th>0.0</th>\n",
              "      <td>2914</td>\n",
              "    </tr>\n",
              "    <tr>\n",
              "      <th>1.0</th>\n",
              "      <td>2376</td>\n",
              "    </tr>\n",
              "    <tr>\n",
              "      <th rowspan=\"2\" valign=\"top\">3.0</th>\n",
              "      <th>0.0</th>\n",
              "      <td>3760</td>\n",
              "    </tr>\n",
              "    <tr>\n",
              "      <th>1.0</th>\n",
              "      <td>3094</td>\n",
              "    </tr>\n",
              "    <tr>\n",
              "      <th rowspan=\"2\" valign=\"top\">4.0</th>\n",
              "      <th>0.0</th>\n",
              "      <td>3338</td>\n",
              "    </tr>\n",
              "    <tr>\n",
              "      <th>1.0</th>\n",
              "      <td>2346</td>\n",
              "    </tr>\n",
              "    <tr>\n",
              "      <th rowspan=\"2\" valign=\"top\">5.0</th>\n",
              "      <th>0.0</th>\n",
              "      <td>146</td>\n",
              "    </tr>\n",
              "    <tr>\n",
              "      <th>1.0</th>\n",
              "      <td>114</td>\n",
              "    </tr>\n",
              "    <tr>\n",
              "      <th rowspan=\"2\" valign=\"top\">6.0</th>\n",
              "      <th>0.0</th>\n",
              "      <td>16</td>\n",
              "    </tr>\n",
              "    <tr>\n",
              "      <th>1.0</th>\n",
              "      <td>12</td>\n",
              "    </tr>\n",
              "    <tr>\n",
              "      <th rowspan=\"2\" valign=\"top\">7.0</th>\n",
              "      <th>0.0</th>\n",
              "      <td>4</td>\n",
              "    </tr>\n",
              "    <tr>\n",
              "      <th>1.0</th>\n",
              "      <td>3</td>\n",
              "    </tr>\n",
              "  </tbody>\n",
              "</table>\n",
              "</div>"
            ],
            "text/plain": [
              "                       is_goal\n",
              "power_of_shot is_goal         \n",
              "1.0           0.0         3372\n",
              "              1.0         2934\n",
              "2.0           0.0         2914\n",
              "              1.0         2376\n",
              "3.0           0.0         3760\n",
              "              1.0         3094\n",
              "4.0           0.0         3338\n",
              "              1.0         2346\n",
              "5.0           0.0          146\n",
              "              1.0          114\n",
              "6.0           0.0           16\n",
              "              1.0           12\n",
              "7.0           0.0            4\n",
              "              1.0            3"
            ]
          },
          "metadata": {
            "tags": []
          },
          "execution_count": 45
        }
      ]
    },
    {
      "cell_type": "markdown",
      "metadata": {
        "id": "1cjPUtAlOMbc",
        "colab_type": "text"
      },
      "source": [
        "**4e) Knockout_match**\n",
        "\n",
        "They are the matches where a team is eliminated from the tournament post losing that game. Therefore these matches are very crucial to remain in the tournament. On pre-analysis of the existing data(output as given below) of this column , we can see that the goals scored is propertianate to the number of matches played for both knockout and normal match,ie the performance of the player is consistent. But as we know that these are important mataches therefore we will study the column with other important columns like distance_of_shot,area_of_shot etc.\n",
        "\n",
        "**Preprocess**\n",
        "\n",
        "This dataset has a duplicate column(knockout_match.1) corresponding to the original power_of_shot. This duplicate column will be used to replace the nan values of the original column. Therefore for a given row, if the original column value has nan, then the value of the corresponding duplicate column will be replaced. There are chances that for a given row both original and duplicate will have nan. For such a scenario, we will take the mode of the original column and replace the nan.\n",
        "\n",
        "Nan values ,knockout_match=1517\n",
        "\n",
        "The query to replace the nan value is given below"
      ]
    },
    {
      "cell_type": "code",
      "metadata": {
        "id": "zhYx64I3K22s",
        "colab_type": "code",
        "outputId": "e545246a-3642-4a4e-fc0d-05311c140fd8",
        "colab": {
          "base_uri": "https://localhost:8080/",
          "height": 195
        }
      },
      "source": [
        "knockout_pre=df[['knockout_match','is_goal']].copy()\n",
        "knockout_pre.groupby(['knockout_match','is_goal']).agg({'is_goal':\"count\"})"
      ],
      "execution_count": 0,
      "outputs": [
        {
          "output_type": "execute_result",
          "data": {
            "text/html": [
              "<div>\n",
              "<style scoped>\n",
              "    .dataframe tbody tr th:only-of-type {\n",
              "        vertical-align: middle;\n",
              "    }\n",
              "\n",
              "    .dataframe tbody tr th {\n",
              "        vertical-align: top;\n",
              "    }\n",
              "\n",
              "    .dataframe thead th {\n",
              "        text-align: right;\n",
              "    }\n",
              "</style>\n",
              "<table border=\"1\" class=\"dataframe\">\n",
              "  <thead>\n",
              "    <tr style=\"text-align: right;\">\n",
              "      <th></th>\n",
              "      <th></th>\n",
              "      <th>is_goal</th>\n",
              "    </tr>\n",
              "    <tr>\n",
              "      <th>knockout_match</th>\n",
              "      <th>is_goal</th>\n",
              "      <th></th>\n",
              "    </tr>\n",
              "  </thead>\n",
              "  <tbody>\n",
              "    <tr>\n",
              "      <th rowspan=\"2\" valign=\"top\">0.0</th>\n",
              "      <th>0.0</th>\n",
              "      <td>11025</td>\n",
              "    </tr>\n",
              "    <tr>\n",
              "      <th>1.0</th>\n",
              "      <td>8809</td>\n",
              "    </tr>\n",
              "    <tr>\n",
              "      <th rowspan=\"2\" valign=\"top\">1.0</th>\n",
              "      <th>0.0</th>\n",
              "      <td>1875</td>\n",
              "    </tr>\n",
              "    <tr>\n",
              "      <th>1.0</th>\n",
              "      <td>1508</td>\n",
              "    </tr>\n",
              "  </tbody>\n",
              "</table>\n",
              "</div>"
            ],
            "text/plain": [
              "                        is_goal\n",
              "knockout_match is_goal         \n",
              "0.0            0.0        11025\n",
              "               1.0         8809\n",
              "1.0            0.0         1875\n",
              "               1.0         1508"
            ]
          },
          "metadata": {
            "tags": []
          },
          "execution_count": 46
        }
      ]
    },
    {
      "cell_type": "code",
      "metadata": {
        "id": "_NFPlsPYOYm7",
        "colab_type": "code",
        "outputId": "e0305549-a80c-4fb5-d0c8-179e61795360",
        "colab": {
          "base_uri": "https://localhost:8080/",
          "height": 50
        }
      },
      "source": [
        "\n",
        "knock_val=df.knockout_match.unique() # unique values of knockout_match column\n",
        "\n",
        "#Replace nan values of the original column with duplicates column values\n",
        "for ind,r in df.iterrows():\n",
        "    if math.isnan(r.get('knockout_match')):\n",
        "        if r.get('knockout_match.1') in knock_val: #The value of the duplicate column should be range as per original column\n",
        "            df.at[ind,'knockout_match']=r.get('knockout_match.1')\n",
        "\n",
        "\n",
        "print('Nan values before mode for ',df[['knockout_match']].isnull().sum()) \n",
        "\n",
        "#Since there are still 375 row with NaN.May be both the columns have  NaN or \n",
        "#knockout_match.1 does not values as 0 or 1 therefore it cannot replace NaN of knockout_match column.Therefore replacing the value with the mode of knockout_match column\n",
        "\n",
        "\n",
        "mode_val_out=df['knockout_match'].mode().values[0]\n",
        "df['knockout_match'] = df['knockout_match'].replace({ np.nan:mode_val_out})"
      ],
      "execution_count": 0,
      "outputs": [
        {
          "output_type": "stream",
          "text": [
            "Nan values before mode for  knockout_match    375\n",
            "dtype: int64\n"
          ],
          "name": "stdout"
        }
      ]
    },
    {
      "cell_type": "code",
      "metadata": {
        "id": "xG_8xW4nWPFB",
        "colab_type": "code",
        "outputId": "4f9a4dfc-7d77-4a18-f120-6f5ef3a559cf",
        "colab": {
          "base_uri": "https://localhost:8080/",
          "height": 50
        }
      },
      "source": [
        "print('Nan values for     ',df[['knockout_match']].isnull().sum()) "
      ],
      "execution_count": 0,
      "outputs": [
        {
          "output_type": "stream",
          "text": [
            "Nan values for      knockout_match    0\n",
            "dtype: int64\n"
          ],
          "name": "stdout"
        }
      ]
    },
    {
      "cell_type": "code",
      "metadata": {
        "id": "pEoqc0S4Vmk9",
        "colab_type": "code",
        "outputId": "fb6dceed-71e2-48c4-d219-25fd4241df02",
        "colab": {
          "base_uri": "https://localhost:8080/",
          "height": 195
        }
      },
      "source": [
        "#Query to analyse the data post replacing with nan values\n",
        "df_knockout=df[['knockout_match','is_goal']].copy()\n",
        "df_knockout.groupby(['knockout_match','is_goal']).agg({'is_goal':\"count\"})"
      ],
      "execution_count": 0,
      "outputs": [
        {
          "output_type": "execute_result",
          "data": {
            "text/html": [
              "<div>\n",
              "<style scoped>\n",
              "    .dataframe tbody tr th:only-of-type {\n",
              "        vertical-align: middle;\n",
              "    }\n",
              "\n",
              "    .dataframe tbody tr th {\n",
              "        vertical-align: top;\n",
              "    }\n",
              "\n",
              "    .dataframe thead th {\n",
              "        text-align: right;\n",
              "    }\n",
              "</style>\n",
              "<table border=\"1\" class=\"dataframe\">\n",
              "  <thead>\n",
              "    <tr style=\"text-align: right;\">\n",
              "      <th></th>\n",
              "      <th></th>\n",
              "      <th>is_goal</th>\n",
              "    </tr>\n",
              "    <tr>\n",
              "      <th>knockout_match</th>\n",
              "      <th>is_goal</th>\n",
              "      <th></th>\n",
              "    </tr>\n",
              "  </thead>\n",
              "  <tbody>\n",
              "    <tr>\n",
              "      <th rowspan=\"2\" valign=\"top\">0.0</th>\n",
              "      <th>0.0</th>\n",
              "      <td>11596</td>\n",
              "    </tr>\n",
              "    <tr>\n",
              "      <th>1.0</th>\n",
              "      <td>9302</td>\n",
              "    </tr>\n",
              "    <tr>\n",
              "      <th rowspan=\"2\" valign=\"top\">1.0</th>\n",
              "      <th>0.0</th>\n",
              "      <td>1954</td>\n",
              "    </tr>\n",
              "    <tr>\n",
              "      <th>1.0</th>\n",
              "      <td>1577</td>\n",
              "    </tr>\n",
              "  </tbody>\n",
              "</table>\n",
              "</div>"
            ],
            "text/plain": [
              "                        is_goal\n",
              "knockout_match is_goal         \n",
              "0.0            0.0        11596\n",
              "               1.0         9302\n",
              "1.0            0.0         1954\n",
              "               1.0         1577"
            ]
          },
          "metadata": {
            "tags": []
          },
          "execution_count": 49
        }
      ]
    },
    {
      "cell_type": "markdown",
      "metadata": {
        "id": "KrOnJXzQV3Ae",
        "colab_type": "text"
      },
      "source": [
        "**Analysis**\n",
        "\n",
        "As seen from the below output,  proportionately goal scored for the knockout and normal matches are all most similar to the above. Since the column should be analyzed along with other important columns as mentioned above**, therefore, the performance of the predictive model will be tested and checked with inclusion and exclusion of this column.**"
      ]
    },
    {
      "cell_type": "code",
      "metadata": {
        "id": "IwKyHv9aVxP4",
        "colab_type": "code",
        "colab": {}
      },
      "source": [
        ""
      ],
      "execution_count": 0,
      "outputs": []
    },
    {
      "cell_type": "markdown",
      "metadata": {
        "id": "6VLlE3sMZi1L",
        "colab_type": "text"
      },
      "source": [
        "**4f) Here we will study 4 columns, distance_of_shot,area_of_shot,range_of_shot,shot_basics. We will,**\n",
        "\n",
        "\n",
        "1.   **Pre-analyse individual columns.**\n",
        "2.   **Establish a relationship between the columns.**\n",
        "3.   **Replace nan values of distance_of_shot with duplicate column.**\n",
        "4.   **Replace the nan values of area_of_shot,range_of_shot,shot_basics with respect to their corresponding distance_of_shot.**\n"
      ]
    },
    {
      "cell_type": "markdown",
      "metadata": {
        "id": "GJdpRHC9b9DJ",
        "colab_type": "text"
      },
      "source": [
        "**1.Pre-Analyse  Of Individual Columns**"
      ]
    },
    {
      "cell_type": "markdown",
      "metadata": {
        "id": "M-LQlFzWgCrO",
        "colab_type": "text"
      },
      "source": [
        "**Range_of_shot**\n",
        "\n",
        "We need to imagine the ground divided into zones/patches. This column has values like 'Less Than 8ft', '8-16 ft' etc. We can say that these are zones at a particular distance from goal post eg 'less than 8ft', from the goal post it is at a distance within 8 ft. From all the different values of this column, this value is at the least distance from the goal post followed by '8-16ft' etc. So we can say they are vertical zones of the ground divided based on how far they are from the goal post.\n",
        "Therefore this column tells you from which zone the maximum number of goals were scored.\n",
        "Below is the graph which indicates that the maximum number of goals were scored from 'less than 8 ft' ie nearest to the goal post.\n",
        "\n",
        "These values alone cannot help in predicting, it will be studied along with other columns , in another sub-section as mentioned above.\n"
      ]
    },
    {
      "cell_type": "code",
      "metadata": {
        "id": "h81ED2N6gQus",
        "colab_type": "code",
        "colab": {}
      },
      "source": [
        "#RUN THIS CODE TO MAKE A DATA FRAME \n",
        "range_shot_df=df[['range_of_shot','is_goal']].copy()"
      ],
      "execution_count": 0,
      "outputs": []
    },
    {
      "cell_type": "code",
      "metadata": {
        "id": "xH0TXOVggq4Q",
        "colab_type": "code",
        "outputId": "2af919dc-8928-46b0-c05b-8bdc94112720",
        "colab": {
          "base_uri": "https://localhost:8080/",
          "height": 482
        }
      },
      "source": [
        "#GRAPH BELOW WILL SHOW RANGE FROM THE GOAL POST FROM WHERE THE MAXIMUM GOAL'S ARE SCORED\n",
        "\n",
        "fig, ax1 = plt.subplots(figsize=(10, 5))\n",
        "sns.countplot(x=range_shot_df['range_of_shot'], hue=range_shot_df['is_goal'], data=range_shot_df, ax=ax1)"
      ],
      "execution_count": 0,
      "outputs": [
        {
          "output_type": "execute_result",
          "data": {
            "text/plain": [
              "<matplotlib.axes._subplots.AxesSubplot at 0x7fe1443036a0>"
            ]
          },
          "metadata": {
            "tags": []
          },
          "execution_count": 58
        },
        {
          "output_type": "display_data",
          "data": {
            "image/png": "[encoded data removed]",
            "text/plain": [
              "<Figure size 1000x500 with 1 Axes>"
            ]
          },
          "metadata": {
            "tags": []
          }
        }
      ]
    },
    {
      "cell_type": "markdown",
      "metadata": {
        "id": "ylBD1owEg6A7",
        "colab_type": "text"
      },
      "source": [
        "**Shot_baiscs column**\n",
        "\n",
        "As we have seen with range_of_shot, the ground is divided based on the distance from the goal post. We can imagine them as lines dividing the ground. In between the line you have sub-zones like 'Goal Area' or 'Goal Line' etc. The 'goal area' or' goal-line' are values of the shot_basics columns. So this way we can relate these 2 columns eg 'less than 8ft' is the distance from the goal post, there is a patch from the goal post to the line' less than 8ft' has 'goal area' and the line can be said as the 'goal line.' In a way, it is a sub-zone of the range_of_shot larger zone. Similarly we can relate other values of this columns.Now we can read this as a goal scored from a distance of 'less than 8ft' from the 'Goal Area/Goal Line'.\n",
        "We will pre-analysis this column, the query is given below.\n",
        "\n",
        "As seen from the graph the region 'Goal Area','Mid Range has the maximum number of goals scored.\n",
        "\n",
        "But this column has a dependency on the columns as mentioned above, the detail, therefore, will be studied in later sub-sections."
      ]
    },
    {
      "cell_type": "code",
      "metadata": {
        "id": "jtR6DtELkKlZ",
        "colab_type": "code",
        "colab": {}
      },
      "source": [
        "#RUN THIS QUERY TO CREATE A TEMPORARY NEW DATA FRAME\n",
        "shot_basics_df=df[['shot_basics','is_goal']].copy()"
      ],
      "execution_count": 0,
      "outputs": []
    },
    {
      "cell_type": "code",
      "metadata": {
        "id": "OuzcXiU0m4h-",
        "colab_type": "code",
        "outputId": "97c2e935-a536-4622-a955-126cf69c9569",
        "colab": {
          "base_uri": "https://localhost:8080/",
          "height": 352
        }
      },
      "source": [
        "# GRAPH BELOW SHOW THE REGION FROM WHERE THE MAXIMUM GOAL'S WERE SCORED\n",
        "fig, ax1 = plt.subplots(figsize=(10, 5))\n",
        "sns.countplot(x=shot_basics_df['shot_basics'], hue=shot_basics_df['is_goal'], data=shot_basics_df, ax=ax1)"
      ],
      "execution_count": 0,
      "outputs": [
        {
          "output_type": "execute_result",
          "data": {
            "text/plain": [
              "<matplotlib.axes._subplots.AxesSubplot at 0x7f7c7f45eba8>"
            ]
          },
          "metadata": {
            "tags": []
          },
          "execution_count": 4
        },
        {
          "output_type": "display_data",
          "data": {
            "image/png": "[encoded data removed]",
            "text/plain": [
              "<Figure size 720x360 with 1 Axes>"
            ]
          },
          "metadata": {
            "tags": [],
            "needs_background": "light"
          }
        }
      ]
    },
    {
      "cell_type": "markdown",
      "metadata": {
        "id": "j9uLMrwjaw_T",
        "colab_type": "text"
      },
      "source": [
        "**Area_of_shot column**\n",
        "\n",
        "Above we have tried to establish a relation between range_of_shot and shot_basics, how shot_basic fits inside range_of_shot zone. Similarly, we will try to establish a relationship with the area_of_shot column. We know that above both columns are zones/patches ie they can have location within like center, right side left side, etc. These are the values of the area_of_shot column. So now we can say eg that the goal was scored from 'less than 8ft' from the 'center' of 'goal area'.Similarly we can relate other values of this columns.\n",
        "In  a way we have now established a relation between the 3 columns(range_of_shot,shot_basics,area_of_shot).\n",
        "\n",
        "We will run the below query to pre-analyze the area_of_shot columns.\n",
        "\n",
        "As we can see from the graph the 'Center(c)' region has the maximum goals scored.\n",
        "We know that the column cannot be studied stand alone, it will be therefore studied in detail in sub-section below with other depending columns.\n"
      ]
    },
    {
      "cell_type": "code",
      "metadata": {
        "id": "2o35LB8faefl",
        "colab_type": "code",
        "colab": {}
      },
      "source": [
        "#RUN THIS CODE TO STUDY AREA_OF_SHOT COLUMN.\n",
        "area_shot_df=df[['area_of_shot','is_goal']].copy()"
      ],
      "execution_count": 0,
      "outputs": []
    },
    {
      "cell_type": "code",
      "metadata": {
        "id": "d3s45nFwarSw",
        "colab_type": "code",
        "outputId": "fa0032d6-b5b1-49a6-f1d6-843904d483ee",
        "colab": {
          "base_uri": "https://localhost:8080/",
          "height": 328
        }
      },
      "source": [
        "#GRAPH BELOW WILL SHOW AREA WHERE MAXIMUM GOAL'S ARE SCORED\n",
        "\n",
        "fig, ax1 = plt.subplots(figsize=(11, 3))\n",
        "sns.countplot(x=area_shot_df['area_of_shot'], hue=area_shot_df['is_goal'], data=area_shot_df, ax=ax1)"
      ],
      "execution_count": 0,
      "outputs": [
        {
          "output_type": "execute_result",
          "data": {
            "text/plain": [
              "<matplotlib.axes._subplots.AxesSubplot at 0x7fe144c8f0b8>"
            ]
          },
          "metadata": {
            "tags": []
          },
          "execution_count": 56
        },
        {
          "output_type": "display_data",
          "data": {
            "image/png": "[encoded data removed]",
            "text/plain": [
              "<Figure size 1100x300 with 1 Axes>"
            ]
          },
          "metadata": {
            "tags": []
          }
        }
      ]
    },
    {
      "cell_type": "markdown",
      "metadata": {
        "id": "Zk5tyKPZuy4Y",
        "colab_type": "text"
      },
      "source": [
        "**Distance_of_shot column**\n",
        "\n",
        "We have seen above ,a relationship was established with range_of_shot,shot_basics,area_of_shot ie area_of_shot fits in shot_basics and shot_basics fit in the bigger zone range_of_shot. But none of this gives us a precise location in the sub-zones from where the ball was exactly hit to score a goal. The exact location is given be this column. Let say a value '20' of distance_of_shot, this tells you that the ball was hit from a distance of 20 from the goal post. Putting all the columns together we can say that the goal was scored from a distance '20' from the 'center(c)' of the 'goal area' which is located at 'less than 8ft' from the goal post. Similarly we can relate other values of this columns.In a way we have now established a relationship between range_of_shot,shot_basics,area_of_shot,distance_of_shot.\n",
        "\n",
        "The query to pre-analyze this column is given below. From the graph, we can see that distance '20' has the maximum goal scored\n"
      ]
    },
    {
      "cell_type": "code",
      "metadata": {
        "id": "6VMte1DEbAN-",
        "colab_type": "code",
        "colab": {}
      },
      "source": [
        "#Create data frame of distance_of_shot and is_goal feature.\n",
        "df_dist=df[['distance_of_shot','is_goal']].copy()"
      ],
      "execution_count": 0,
      "outputs": []
    },
    {
      "cell_type": "code",
      "metadata": {
        "id": "6J4WJGo52GTC",
        "colab_type": "code",
        "outputId": "b1330444-4ef6-4e5a-c224-98a2abb60ce8",
        "colab": {
          "base_uri": "https://localhost:8080/",
          "height": 431
        }
      },
      "source": [
        "df_dist.groupby(['distance_of_shot','is_goal']).agg({'is_goal':\"count\"})"
      ],
      "execution_count": 0,
      "outputs": [
        {
          "output_type": "execute_result",
          "data": {
            "text/html": [
              "<div>\n",
              "<style scoped>\n",
              "    .dataframe tbody tr th:only-of-type {\n",
              "        vertical-align: middle;\n",
              "    }\n",
              "\n",
              "    .dataframe tbody tr th {\n",
              "        vertical-align: top;\n",
              "    }\n",
              "\n",
              "    .dataframe thead th {\n",
              "        text-align: right;\n",
              "    }\n",
              "</style>\n",
              "<table border=\"1\" class=\"dataframe\">\n",
              "  <thead>\n",
              "    <tr style=\"text-align: right;\">\n",
              "      <th></th>\n",
              "      <th></th>\n",
              "      <th>is_goal</th>\n",
              "    </tr>\n",
              "    <tr>\n",
              "      <th>distance_of_shot</th>\n",
              "      <th>is_goal</th>\n",
              "      <th></th>\n",
              "    </tr>\n",
              "  </thead>\n",
              "  <tbody>\n",
              "    <tr>\n",
              "      <th rowspan=\"2\" valign=\"top\">20.0</th>\n",
              "      <th>0.0</th>\n",
              "      <td>1514</td>\n",
              "    </tr>\n",
              "    <tr>\n",
              "      <th>1.0</th>\n",
              "      <td>2630</td>\n",
              "    </tr>\n",
              "    <tr>\n",
              "      <th rowspan=\"2\" valign=\"top\">21.0</th>\n",
              "      <th>0.0</th>\n",
              "      <td>156</td>\n",
              "    </tr>\n",
              "    <tr>\n",
              "      <th>1.0</th>\n",
              "      <td>307</td>\n",
              "    </tr>\n",
              "    <tr>\n",
              "      <th>22.0</th>\n",
              "      <th>0.0</th>\n",
              "      <td>203</td>\n",
              "    </tr>\n",
              "    <tr>\n",
              "      <th>...</th>\n",
              "      <th>...</th>\n",
              "      <td>...</td>\n",
              "    </tr>\n",
              "    <tr>\n",
              "      <th>90.0</th>\n",
              "      <th>0.0</th>\n",
              "      <td>2</td>\n",
              "    </tr>\n",
              "    <tr>\n",
              "      <th>91.0</th>\n",
              "      <th>0.0</th>\n",
              "      <td>1</td>\n",
              "    </tr>\n",
              "    <tr>\n",
              "      <th>94.0</th>\n",
              "      <th>0.0</th>\n",
              "      <td>3</td>\n",
              "    </tr>\n",
              "    <tr>\n",
              "      <th>97.0</th>\n",
              "      <th>0.0</th>\n",
              "      <td>1</td>\n",
              "    </tr>\n",
              "    <tr>\n",
              "      <th>99.0</th>\n",
              "      <th>0.0</th>\n",
              "      <td>1</td>\n",
              "    </tr>\n",
              "  </tbody>\n",
              "</table>\n",
              "<p>108 rows × 1 columns</p>\n",
              "</div>"
            ],
            "text/plain": [
              "                          is_goal\n",
              "distance_of_shot is_goal         \n",
              "20.0             0.0         1514\n",
              "                 1.0         2630\n",
              "21.0             0.0          156\n",
              "                 1.0          307\n",
              "22.0             0.0          203\n",
              "...                           ...\n",
              "90.0             0.0            2\n",
              "91.0             0.0            1\n",
              "94.0             0.0            3\n",
              "97.0             0.0            1\n",
              "99.0             0.0            1\n",
              "\n",
              "[108 rows x 1 columns]"
            ]
          },
          "metadata": {
            "tags": []
          },
          "execution_count": 37
        }
      ]
    },
    {
      "cell_type": "markdown",
      "metadata": {
        "id": "LbwZiFZt29t_",
        "colab_type": "text"
      },
      "source": [
        "**2.Establish a relationship between the columns.**\n",
        "\n",
        "While analyzing the individual column we have established a relation between range_of_shot,shot_basics,area_of_shot, and distance_of_shot. From the virtual zones, we now have an actual location from where the goal was scored ie values of the distance_of_shot column.\n",
        "\n",
        "We will run the below query to see how the columns are related and dependend on each other.\n",
        "\n",
        "**We can see that the distance_of_shot column is the driving column for range_of_shot,shot_basics,area_of_shot columns.Based on this in the below sub-section we will see how  distance_of_shot column will be used to replace the nan values of these columns.**\n",
        "\n",
        "**Therefore these 4 columns will be part of the predictive model.**\n",
        "\n",
        "From the virtual zones, we now have an actual location where the goal was scored. This location can also be represented in the form of coordinates given in location_x,location_y, lat/long columns. But we can see that distance_of_shot represents the same information as the location_x,location_y, lat/long columns, with this logic we had decided in the above section **4b** not to include these 3 columns thereby facilitating feature reduction.\n",
        "\n"
      ]
    },
    {
      "cell_type": "code",
      "metadata": {
        "id": "uEcFJDMe8W36",
        "colab_type": "code",
        "colab": {}
      },
      "source": [
        "#RUN THIS QUERY TO CREATE A DATA FRAM WITH THE 4 COLUMNS TO SHOW A RELATIONSHIP BETWEEN THEM.\n",
        "dist_shots=df[['distance_of_shot','range_of_shot','area_of_shot','shot_basics','is_goal']].copy()"
      ],
      "execution_count": 0,
      "outputs": []
    },
    {
      "cell_type": "code",
      "metadata": {
        "id": "JFBepxOT8jy-",
        "colab_type": "code",
        "outputId": "701a0abb-deca-4416-9def-4899f2db8c8e",
        "colab": {
          "base_uri": "https://localhost:8080/",
          "height": 1000
        }
      },
      "source": [
        "list(dist_shots.groupby(['distance_of_shot','is_goal']))"
      ],
      "execution_count": 0,
      "outputs": [
        {
          "output_type": "execute_result",
          "data": {
            "text/plain": [
              "[((20.0, 0.0),\n",
              "         distance_of_shot    range_of_shot area_of_shot shot_basics  is_goal\n",
              "  25                 20.0  Less Than 8 ft.    Center(C)   Goal Area      0.0\n",
              "  50                 20.0  Less Than 8 ft.    Center(C)   Goal Area      0.0\n",
              "  62                 20.0  Less Than 8 ft.    Center(C)   Goal Area      0.0\n",
              "  83                 20.0  Less Than 8 ft.    Center(C)   Goal Area      0.0\n",
              "  114                20.0  Less Than 8 ft.    Center(C)   Goal Area      0.0\n",
              "  ...                 ...              ...          ...         ...      ...\n",
              "  30464              20.0  Less Than 8 ft.    Center(C)   Goal Area      0.0\n",
              "  30527              20.0  Less Than 8 ft.    Center(C)   Goal Area      0.0\n",
              "  30528              20.0  Less Than 8 ft.    Center(C)   Goal Area      0.0\n",
              "  30671              20.0  Less Than 8 ft.    Center(C)   Goal Area      0.0\n",
              "  30691              20.0  Less Than 8 ft.    Center(C)   Goal Area      0.0\n",
              "  \n",
              "  [1514 rows x 5 columns]),\n",
              " ((20.0, 1.0),\n",
              "         distance_of_shot    range_of_shot area_of_shot shot_basics  is_goal\n",
              "  4                  20.0  Less Than 8 ft.    Center(C)   Goal Area      1.0\n",
              "  6                  20.0  Less Than 8 ft.    Center(C)   Goal Area      1.0\n",
              "  41                 20.0  Less Than 8 ft.    Center(C)   Goal Area      1.0\n",
              "  45                 20.0  Less Than 8 ft.    Center(C)   Goal Area      1.0\n",
              "  47                 20.0  Less Than 8 ft.    Center(C)   Goal Area      1.0\n",
              "  ...                 ...              ...          ...         ...      ...\n",
              "  30504              20.0  Less Than 8 ft.    Center(C)   Goal Area      1.0\n",
              "  30552              20.0  Less Than 8 ft.    Center(C)   Goal Area      1.0\n",
              "  30597              20.0  Less Than 8 ft.    Center(C)   Goal Area      1.0\n",
              "  30608              20.0  Less Than 8 ft.    Center(C)   Goal Area      1.0\n",
              "  30661              20.0  Less Than 8 ft.    Center(C)   Goal Area      1.0\n",
              "  \n",
              "  [2630 rows x 5 columns]),\n",
              " ((21.0, 0.0),\n",
              "         distance_of_shot    range_of_shot area_of_shot shot_basics  is_goal\n",
              "  51                 21.0  Less Than 8 ft.    Center(C)   Goal Area      0.0\n",
              "  977                21.0  Less Than 8 ft.    Center(C)   Goal Area      0.0\n",
              "  1158               21.0  Less Than 8 ft.    Center(C)   Goal Area      0.0\n",
              "  1212               21.0  Less Than 8 ft.    Center(C)   Goal Area      0.0\n",
              "  1775               21.0  Less Than 8 ft.    Center(C)   Goal Area      0.0\n",
              "  ...                 ...              ...          ...         ...      ...\n",
              "  29813              21.0  Less Than 8 ft.    Center(C)   Goal Area      0.0\n",
              "  29890              21.0  Less Than 8 ft.    Center(C)   Goal Area      0.0\n",
              "  29919              21.0  Less Than 8 ft.    Center(C)   Goal Area      0.0\n",
              "  30246              21.0  Less Than 8 ft.    Center(C)   Goal Area      0.0\n",
              "  30656              21.0  Less Than 8 ft.    Center(C)   Goal Area      0.0\n",
              "  \n",
              "  [156 rows x 5 columns]),\n",
              " ((21.0, 1.0),\n",
              "         distance_of_shot    range_of_shot area_of_shot shot_basics  is_goal\n",
              "  1147               21.0  Less Than 8 ft.    Center(C)   Goal Area      1.0\n",
              "  1222               21.0  Less Than 8 ft.    Center(C)   Goal Area      1.0\n",
              "  1362               21.0  Less Than 8 ft.    Center(C)   Goal Area      1.0\n",
              "  1363               21.0  Less Than 8 ft.    Center(C)   Goal Area      1.0\n",
              "  1375               21.0  Less Than 8 ft.    Center(C)   Goal Area      1.0\n",
              "  ...                 ...              ...          ...         ...      ...\n",
              "  30015              21.0  Less Than 8 ft.    Center(C)   Goal Area      1.0\n",
              "  30239              21.0  Less Than 8 ft.    Center(C)   Goal Area      1.0\n",
              "  30263              21.0  Less Than 8 ft.    Center(C)   Goal Area      1.0\n",
              "  30637              21.0  Less Than 8 ft.    Center(C)   Goal Area      1.0\n",
              "  30649              21.0  Less Than 8 ft.    Center(C)   Goal Area      1.0\n",
              "  \n",
              "  [307 rows x 5 columns]),\n",
              " ((22.0, 0.0),\n",
              "         distance_of_shot    range_of_shot area_of_shot shot_basics  is_goal\n",
              "  1152               22.0  Less Than 8 ft.    Center(C)   Goal Area      0.0\n",
              "  1230               22.0  Less Than 8 ft.    Center(C)   Goal Area      0.0\n",
              "  2570               22.0  Less Than 8 ft.    Center(C)   Goal Area      0.0\n",
              "  3010               22.0  Less Than 8 ft.    Center(C)   Goal Area      0.0\n",
              "  3191               22.0  Less Than 8 ft.    Center(C)   Goal Area      0.0\n",
              "  ...                 ...              ...          ...         ...      ...\n",
              "  30240              22.0  Less Than 8 ft.    Center(C)   Goal Area      0.0\n",
              "  30247              22.0              NaN    Center(C)   Goal Area      0.0\n",
              "  30643              22.0  Less Than 8 ft.    Center(C)   Goal Area      0.0\n",
              "  30660              22.0  Less Than 8 ft.    Center(C)   Goal Area      0.0\n",
              "  30665              22.0  Less Than 8 ft.    Center(C)   Goal Area      0.0\n",
              "  \n",
              "  [203 rows x 5 columns]),\n",
              " ((22.0, 1.0),\n",
              "         distance_of_shot    range_of_shot area_of_shot shot_basics  is_goal\n",
              "  400                22.0  Less Than 8 ft.    Center(C)   Goal Area      1.0\n",
              "  1589               22.0  Less Than 8 ft.    Center(C)   Goal Area      1.0\n",
              "  1614               22.0  Less Than 8 ft.    Center(C)   Goal Area      1.0\n",
              "  4145               22.0  Less Than 8 ft.    Center(C)   Goal Area      1.0\n",
              "  4748               22.0              NaN    Center(C)   Goal Area      1.0\n",
              "  ...                 ...              ...          ...         ...      ...\n",
              "  29897              22.0  Less Than 8 ft.    Center(C)   Goal Area      1.0\n",
              "  29977              22.0  Less Than 8 ft.    Center(C)   Goal Area      1.0\n",
              "  29984              22.0  Less Than 8 ft.    Center(C)   Goal Area      1.0\n",
              "  30377              22.0  Less Than 8 ft.    Center(C)   Goal Area      1.0\n",
              "  30398              22.0  Less Than 8 ft.          NaN   Goal Area      1.0\n",
              "  \n",
              "  [225 rows x 5 columns]),\n",
              " ((23.0, 0.0),\n",
              "         distance_of_shot    range_of_shot area_of_shot shot_basics  is_goal\n",
              "  324                23.0              NaN    Center(C)   Goal Area      0.0\n",
              "  325                23.0  Less Than 8 ft.    Center(C)   Goal Area      0.0\n",
              "  1163               23.0  Less Than 8 ft.    Center(C)   Goal Area      0.0\n",
              "  1196               23.0  Less Than 8 ft.    Center(C)   Goal Area      0.0\n",
              "  1254               23.0  Less Than 8 ft.    Center(C)   Goal Area      0.0\n",
              "  ...                 ...              ...          ...         ...      ...\n",
              "  29805              23.0  Less Than 8 ft.    Center(C)   Goal Area      0.0\n",
              "  29831              23.0  Less Than 8 ft.    Center(C)   Goal Area      0.0\n",
              "  30020              23.0  Less Than 8 ft.    Center(C)   Goal Area      0.0\n",
              "  30126              23.0  Less Than 8 ft.    Center(C)   Goal Area      0.0\n",
              "  30361              23.0  Less Than 8 ft.    Center(C)   Goal Area      0.0\n",
              "  \n",
              "  [162 rows x 5 columns]),\n",
              " ((23.0, 1.0),\n",
              "         distance_of_shot    range_of_shot area_of_shot shot_basics  is_goal\n",
              "  320                23.0  Less Than 8 ft.    Center(C)   Goal Area      1.0\n",
              "  619                23.0  Less Than 8 ft.          NaN   Goal Area      1.0\n",
              "  2208               23.0  Less Than 8 ft.    Center(C)   Goal Area      1.0\n",
              "  2342               23.0  Less Than 8 ft.    Center(C)   Goal Area      1.0\n",
              "  2569               23.0  Less Than 8 ft.    Center(C)   Goal Area      1.0\n",
              "  ...                 ...              ...          ...         ...      ...\n",
              "  30145              23.0  Less Than 8 ft.          NaN   Goal Area      1.0\n",
              "  30244              23.0  Less Than 8 ft.    Center(C)   Goal Area      1.0\n",
              "  30388              23.0  Less Than 8 ft.    Center(C)   Goal Area      1.0\n",
              "  30535              23.0  Less Than 8 ft.    Center(C)   Goal Area      1.0\n",
              "  30653              23.0  Less Than 8 ft.    Center(C)   Goal Area      1.0\n",
              "  \n",
              "  [127 rows x 5 columns]),\n",
              " ((24.0, 0.0),\n",
              "         distance_of_shot    range_of_shot area_of_shot shot_basics  is_goal\n",
              "  99                 24.0  Less Than 8 ft.    Center(C)   Goal Line      0.0\n",
              "  135                24.0  Less Than 8 ft.    Center(C)   Goal Line      0.0\n",
              "  306                24.0  Less Than 8 ft.    Center(C)   Goal Line      0.0\n",
              "  425                24.0  Less Than 8 ft.    Center(C)   Goal Line      0.0\n",
              "  437                24.0  Less Than 8 ft.    Center(C)   Goal Line      0.0\n",
              "  ...                 ...              ...          ...         ...      ...\n",
              "  30373              24.0  Less Than 8 ft.    Center(C)   Goal Line      0.0\n",
              "  30457              24.0  Less Than 8 ft.    Center(C)   Goal Line      0.0\n",
              "  30540              24.0  Less Than 8 ft.    Center(C)   Goal Line      0.0\n",
              "  30626              24.0  Less Than 8 ft.    Center(C)   Goal Line      0.0\n",
              "  30692              24.0  Less Than 8 ft.    Center(C)         NaN      0.0\n",
              "  \n",
              "  [149 rows x 5 columns]),\n",
              " ((24.0, 1.0),\n",
              "         distance_of_shot    range_of_shot area_of_shot shot_basics  is_goal\n",
              "  533                24.0  Less Than 8 ft.    Center(C)   Goal Line      1.0\n",
              "  552                24.0  Less Than 8 ft.    Center(C)   Goal Line      1.0\n",
              "  930                24.0  Less Than 8 ft.    Center(C)   Goal Line      1.0\n",
              "  1190               24.0  Less Than 8 ft.    Center(C)   Goal Line      1.0\n",
              "  1413               24.0  Less Than 8 ft.    Center(C)   Goal Line      1.0\n",
              "  ...                 ...              ...          ...         ...      ...\n",
              "  29560              24.0  Less Than 8 ft.    Center(C)   Goal Line      1.0\n",
              "  29742              24.0  Less Than 8 ft.    Center(C)   Goal Line      1.0\n",
              "  30311              24.0  Less Than 8 ft.    Center(C)         NaN      1.0\n",
              "  30357              24.0  Less Than 8 ft.    Center(C)   Goal Line      1.0\n",
              "  30387              24.0              NaN    Center(C)   Goal Line      1.0\n",
              "  \n",
              "  [140 rows x 5 columns]),\n",
              " ((25.0, 0.0),\n",
              "         distance_of_shot    range_of_shot area_of_shot shot_basics  is_goal\n",
              "  14                 25.0  Less Than 8 ft.    Center(C)   Goal Line      0.0\n",
              "  43                 25.0  Less Than 8 ft.    Center(C)   Goal Line      0.0\n",
              "  63                 25.0  Less Than 8 ft.    Center(C)   Goal Line      0.0\n",
              "  137                25.0  Less Than 8 ft.    Center(C)   Goal Line      0.0\n",
              "  336                25.0  Less Than 8 ft.    Center(C)   Goal Line      0.0\n",
              "  ...                 ...              ...          ...         ...      ...\n",
              "  29968              25.0  Less Than 8 ft.    Center(C)   Goal Line      0.0\n",
              "  30117              25.0  Less Than 8 ft.    Center(C)   Goal Line      0.0\n",
              "  30380              25.0  Less Than 8 ft.    Center(C)   Goal Line      0.0\n",
              "  30390              25.0  Less Than 8 ft.    Center(C)   Goal Line      0.0\n",
              "  30662              25.0  Less Than 8 ft.    Center(C)   Goal Line      0.0\n",
              "  \n",
              "  [226 rows x 5 columns]),\n",
              " ((25.0, 1.0),\n",
              "         distance_of_shot    range_of_shot area_of_shot shot_basics  is_goal\n",
              "  139                25.0  Less Than 8 ft.    Center(C)   Goal Line      1.0\n",
              "  170                25.0  Less Than 8 ft.          NaN   Goal Line      1.0\n",
              "  289                25.0  Less Than 8 ft.    Center(C)   Goal Line      1.0\n",
              "  607                25.0  Less Than 8 ft.    Center(C)   Goal Line      1.0\n",
              "  818                25.0  Less Than 8 ft.    Center(C)         NaN      1.0\n",
              "  ...                 ...              ...          ...         ...      ...\n",
              "  29579              25.0  Less Than 8 ft.    Center(C)   Goal Line      1.0\n",
              "  29750              25.0  Less Than 8 ft.    Center(C)   Goal Line      1.0\n",
              "  30122              25.0  Less Than 8 ft.    Center(C)   Goal Line      1.0\n",
              "  30227              25.0  Less Than 8 ft.    Center(C)   Goal Line      1.0\n",
              "  30293              25.0  Less Than 8 ft.    Center(C)   Goal Line      1.0\n",
              "  \n",
              "  [171 rows x 5 columns]),\n",
              " ((26.0, 0.0),\n",
              "         distance_of_shot    range_of_shot area_of_shot shot_basics  is_goal\n",
              "  475                26.0  Less Than 8 ft.    Center(C)   Goal Line      0.0\n",
              "  501                26.0  Less Than 8 ft.    Center(C)   Goal Line      0.0\n",
              "  880                26.0  Less Than 8 ft.    Center(C)         NaN      0.0\n",
              "  1144               26.0  Less Than 8 ft.    Center(C)   Goal Line      0.0\n",
              "  1159               26.0  Less Than 8 ft.    Center(C)   Goal Line      0.0\n",
              "  ...                 ...              ...          ...         ...      ...\n",
              "  30342              26.0  Less Than 8 ft.    Center(C)   Goal Line      0.0\n",
              "  30430              26.0  Less Than 8 ft.    Center(C)   Goal Line      0.0\n",
              "  30461              26.0  Less Than 8 ft.    Center(C)   Goal Line      0.0\n",
              "  30562              26.0  Less Than 8 ft.    Center(C)   Goal Line      0.0\n",
              "  30634              26.0  Less Than 8 ft.    Center(C)   Goal Line      0.0\n",
              "  \n",
              "  [285 rows x 5 columns]),\n",
              " ((26.0, 1.0),\n",
              "         distance_of_shot    range_of_shot area_of_shot shot_basics  is_goal\n",
              "  456                26.0  Less Than 8 ft.    Center(C)   Goal Line      1.0\n",
              "  493                26.0  Less Than 8 ft.    Center(C)   Goal Line      1.0\n",
              "  521                26.0  Less Than 8 ft.    Center(C)   Goal Line      1.0\n",
              "  647                26.0  Less Than 8 ft.    Center(C)         NaN      1.0\n",
              "  681                26.0  Less Than 8 ft.    Center(C)   Goal Line      1.0\n",
              "  ...                 ...              ...          ...         ...      ...\n",
              "  30473              26.0  Less Than 8 ft.    Center(C)   Goal Line      1.0\n",
              "  30532              26.0  Less Than 8 ft.    Center(C)   Goal Line      1.0\n",
              "  30561              26.0  Less Than 8 ft.    Center(C)   Goal Line      1.0\n",
              "  30628              26.0  Less Than 8 ft.    Center(C)   Goal Line      1.0\n",
              "  30641              26.0  Less Than 8 ft.    Center(C)   Goal Line      1.0\n",
              "  \n",
              "  [209 rows x 5 columns]),\n",
              " ((27.0, 0.0),\n",
              "         distance_of_shot    range_of_shot area_of_shot shot_basics  is_goal\n",
              "  52                 27.0  Less Than 8 ft.    Center(C)   Goal Line      0.0\n",
              "  73                 27.0  Less Than 8 ft.    Center(C)         NaN      0.0\n",
              "  111                27.0  Less Than 8 ft.    Center(C)   Goal Line      0.0\n",
              "  157                27.0  Less Than 8 ft.    Center(C)   Goal Line      0.0\n",
              "  168                27.0  Less Than 8 ft.    Center(C)   Goal Line      0.0\n",
              "  ...                 ...              ...          ...         ...      ...\n",
              "  30592              27.0  Less Than 8 ft.          NaN   Goal Line      0.0\n",
              "  30595              27.0  Less Than 8 ft.          NaN   Goal Line      0.0\n",
              "  30610              27.0  Less Than 8 ft.    Center(C)   Goal Line      0.0\n",
              "  30670              27.0  Less Than 8 ft.    Center(C)   Goal Line      0.0\n",
              "  30696              27.0  Less Than 8 ft.    Center(C)   Goal Line      0.0\n",
              "  \n",
              "  [312 rows x 5 columns]),\n",
              " ((27.0, 1.0),\n",
              "         distance_of_shot    range_of_shot area_of_shot shot_basics  is_goal\n",
              "  24                 27.0  Less Than 8 ft.    Center(C)   Goal Line      1.0\n",
              "  280                27.0  Less Than 8 ft.    Center(C)   Goal Line      1.0\n",
              "  443                27.0  Less Than 8 ft.    Center(C)   Goal Line      1.0\n",
              "  591                27.0  Less Than 8 ft.    Center(C)   Goal Line      1.0\n",
              "  612                27.0  Less Than 8 ft.    Center(C)   Goal Line      1.0\n",
              "  ...                 ...              ...          ...         ...      ...\n",
              "  30132              27.0  Less Than 8 ft.    Center(C)   Goal Line      1.0\n",
              "  30249              27.0  Less Than 8 ft.          NaN   Goal Line      1.0\n",
              "  30299              27.0              NaN    Center(C)   Goal Line      1.0\n",
              "  30360              27.0  Less Than 8 ft.    Center(C)   Goal Line      1.0\n",
              "  30639              27.0  Less Than 8 ft.    Center(C)   Goal Line      1.0\n",
              "  \n",
              "  [230 rows x 5 columns]),\n",
              " ((28.0, 0.0),\n",
              "         distance_of_shot range_of_shot   area_of_shot shot_basics  is_goal\n",
              "  29                 28.0      8-16 ft.      Center(C)   Goal Line      0.0\n",
              "  78                 28.0      8-16 ft.   Left Side(L)   Goal Line      0.0\n",
              "  338                28.0      8-16 ft.   Left Side(L)   Goal Line      0.0\n",
              "  371                28.0      8-16 ft.      Center(C)   Goal Line      0.0\n",
              "  405                28.0      8-16 ft.      Center(C)         NaN      0.0\n",
              "  ...                 ...           ...            ...         ...      ...\n",
              "  30217              28.0      8-16 ft.            NaN   Goal Line      0.0\n",
              "  30266              28.0      8-16 ft.  Right Side(R)   Mid Range      0.0\n",
              "  30499              28.0      8-16 ft.  Right Side(R)   Mid Range      0.0\n",
              "  30557              28.0      8-16 ft.      Center(C)   Goal Line      0.0\n",
              "  30651              28.0      8-16 ft.      Center(C)   Goal Line      0.0\n",
              "  \n",
              "  [274 rows x 5 columns]),\n",
              " ((28.0, 1.0),\n",
              "         distance_of_shot range_of_shot   area_of_shot shot_basics  is_goal\n",
              "  211                28.0      8-16 ft.      Center(C)   Goal Line      1.0\n",
              "  232                28.0      8-16 ft.      Center(C)   Goal Line      1.0\n",
              "  357                28.0           NaN   Left Side(L)   Goal Line      1.0\n",
              "  358                28.0      8-16 ft.  Right Side(R)   Goal Line      1.0\n",
              "  377                28.0      8-16 ft.      Center(C)         NaN      1.0\n",
              "  ...                 ...           ...            ...         ...      ...\n",
              "  29932              28.0           NaN  Right Side(R)   Goal Line      1.0\n",
              "  29958              28.0      8-16 ft.   Left Side(L)   Goal Line      1.0\n",
              "  30175              28.0      8-16 ft.      Center(C)   Goal Line      1.0\n",
              "  30222              28.0           NaN            NaN   Mid Range      1.0\n",
              "  30257              28.0      8-16 ft.   Left Side(L)   Mid Range      1.0\n",
              "  \n",
              "  [244 rows x 5 columns]),\n",
              " ((29.0, 0.0),\n",
              "         distance_of_shot range_of_shot   area_of_shot shot_basics  is_goal\n",
              "  13                 29.0      8-16 ft.   Left Side(L)   Mid Range      0.0\n",
              "  110                29.0      8-16 ft.   Left Side(L)   Goal Line      0.0\n",
              "  130                29.0      8-16 ft.      Center(C)   Goal Line      0.0\n",
              "  196                29.0      8-16 ft.      Center(C)   Goal Line      0.0\n",
              "  212                29.0      8-16 ft.            NaN   Goal Line      0.0\n",
              "  ...                 ...           ...            ...         ...      ...\n",
              "  30333              29.0      8-16 ft.  Right Side(R)   Mid Range      0.0\n",
              "  30455              29.0      8-16 ft.  Right Side(R)   Goal Line      0.0\n",
              "  30551              29.0      8-16 ft.   Left Side(L)   Mid Range      0.0\n",
              "  30565              29.0      8-16 ft.            NaN   Goal Line      0.0\n",
              "  30615              29.0      8-16 ft.   Left Side(L)   Goal Line      0.0\n",
              "  \n",
              "  [276 rows x 5 columns]),\n",
              " ((29.0, 1.0),\n",
              "         distance_of_shot range_of_shot   area_of_shot shot_basics  is_goal\n",
              "  185                29.0      8-16 ft.      Center(C)   Goal Line      1.0\n",
              "  271                29.0      8-16 ft.      Center(C)   Goal Line      1.0\n",
              "  287                29.0      8-16 ft.   Left Side(L)   Goal Line      1.0\n",
              "  367                29.0      8-16 ft.      Center(C)   Goal Line      1.0\n",
              "  534                29.0      8-16 ft.      Center(C)   Goal Line      1.0\n",
              "  ...                 ...           ...            ...         ...      ...\n",
              "  30233              29.0      8-16 ft.      Center(C)   Goal Line      1.0\n",
              "  30287              29.0      8-16 ft.      Center(C)   Goal Line      1.0\n",
              "  30303              29.0      8-16 ft.   Left Side(L)         NaN      1.0\n",
              "  30347              29.0      8-16 ft.  Right Side(R)   Goal Line      1.0\n",
              "  30478              29.0      8-16 ft.      Center(C)   Goal Line      1.0\n",
              "  \n",
              "  [211 rows x 5 columns]),\n",
              " ((30.0, 0.0),\n",
              "         distance_of_shot range_of_shot   area_of_shot shot_basics  is_goal\n",
              "  186                30.0      8-16 ft.      Center(C)   Goal Line      0.0\n",
              "  546                30.0      8-16 ft.  Right Side(R)   Mid Range      0.0\n",
              "  912                30.0      8-16 ft.   Left Side(L)   Mid Range      0.0\n",
              "  1100               30.0      8-16 ft.      Center(C)   Goal Line      0.0\n",
              "  1168               30.0      8-16 ft.      Center(C)   Goal Line      0.0\n",
              "  ...                 ...           ...            ...         ...      ...\n",
              "  30234              30.0      8-16 ft.            NaN   Mid Range      0.0\n",
              "  30258              30.0      8-16 ft.   Left Side(L)   Mid Range      0.0\n",
              "  30292              30.0      8-16 ft.   Left Side(L)   Mid Range      0.0\n",
              "  30344              30.0      8-16 ft.      Center(C)   Goal Line      0.0\n",
              "  30663              30.0      8-16 ft.  Right Side(R)   Mid Range      0.0\n",
              "  \n",
              "  [313 rows x 5 columns]),\n",
              " ((30.0, 1.0),\n",
              "         distance_of_shot range_of_shot   area_of_shot shot_basics  is_goal\n",
              "  255                30.0      8-16 ft.            NaN   Mid Range      1.0\n",
              "  446                30.0      8-16 ft.   Left Side(L)   Goal Line      1.0\n",
              "  453                30.0      8-16 ft.  Right Side(R)   Mid Range      1.0\n",
              "  642                30.0      8-16 ft.   Left Side(L)   Mid Range      1.0\n",
              "  695                30.0      8-16 ft.            NaN   Mid Range      1.0\n",
              "  ...                 ...           ...            ...         ...      ...\n",
              "  30147              30.0      8-16 ft.   Left Side(L)   Mid Range      1.0\n",
              "  30163              30.0      8-16 ft.      Center(C)   Goal Line      1.0\n",
              "  30343              30.0           NaN      Center(C)   Goal Line      1.0\n",
              "  30391              30.0           NaN   Left Side(L)   Mid Range      1.0\n",
              "  30672              30.0      8-16 ft.  Right Side(R)   Mid Range      1.0\n",
              "  \n",
              "  [217 rows x 5 columns]),\n",
              " ((31.0, 0.0),\n",
              "         distance_of_shot range_of_shot   area_of_shot shot_basics  is_goal\n",
              "  60                 31.0      8-16 ft.      Center(C)   Goal Line      0.0\n",
              "  107                31.0      8-16 ft.      Center(C)   Goal Line      0.0\n",
              "  136                31.0      8-16 ft.   Left Side(L)   Mid Range      0.0\n",
              "  274                31.0      8-16 ft.      Center(C)   Goal Line      0.0\n",
              "  520                31.0      8-16 ft.  Right Side(R)   Mid Range      0.0\n",
              "  ...                 ...           ...            ...         ...      ...\n",
              "  30312              31.0      8-16 ft.   Left Side(L)   Mid Range      0.0\n",
              "  30503              31.0      8-16 ft.      Center(C)   Goal Line      0.0\n",
              "  30581              31.0      8-16 ft.   Left Side(L)   Mid Range      0.0\n",
              "  30605              31.0      8-16 ft.      Center(C)   Goal Line      0.0\n",
              "  30673              31.0      8-16 ft.  Right Side(R)   Mid Range      0.0\n",
              "  \n",
              "  [287 rows x 5 columns]),\n",
              " ((31.0, 1.0),\n",
              "         distance_of_shot range_of_shot   area_of_shot shot_basics  is_goal\n",
              "  22                 31.0      8-16 ft.      Center(C)   Goal Line      1.0\n",
              "  131                31.0      8-16 ft.      Center(C)   Goal Line      1.0\n",
              "  225                31.0      8-16 ft.   Left Side(L)   Goal Line      1.0\n",
              "  258                31.0      8-16 ft.  Right Side(R)   Goal Line      1.0\n",
              "  370                31.0      8-16 ft.  Right Side(R)   Mid Range      1.0\n",
              "  ...                 ...           ...            ...         ...      ...\n",
              "  30037              31.0      8-16 ft.  Right Side(R)   Goal Line      1.0\n",
              "  30094              31.0      8-16 ft.  Right Side(R)   Mid Range      1.0\n",
              "  30376              31.0      8-16 ft.            NaN   Mid Range      1.0\n",
              "  30603              31.0      8-16 ft.   Left Side(L)   Mid Range      1.0\n",
              "  30607              31.0      8-16 ft.  Right Side(R)   Mid Range      1.0\n",
              "  \n",
              "  [251 rows x 5 columns]),\n",
              " ((32.0, 0.0),\n",
              "         distance_of_shot range_of_shot   area_of_shot shot_basics  is_goal\n",
              "  9                  32.0      8-16 ft.      Center(C)   Goal Line      0.0\n",
              "  104                32.0           NaN  Right Side(R)   Mid Range      0.0\n",
              "  224                32.0      8-16 ft.      Center(C)   Goal Line      0.0\n",
              "  318                32.0      8-16 ft.            NaN   Mid Range      0.0\n",
              "  599                32.0      8-16 ft.  Right Side(R)   Mid Range      0.0\n",
              "  ...                 ...           ...            ...         ...      ...\n",
              "  30435              32.0      8-16 ft.  Right Side(R)   Mid Range      0.0\n",
              "  30506              32.0      8-16 ft.  Right Side(R)   Mid Range      0.0\n",
              "  30513              32.0      8-16 ft.      Center(C)   Goal Line      0.0\n",
              "  30589              32.0      8-16 ft.  Right Side(R)   Mid Range      0.0\n",
              "  30640              32.0      8-16 ft.  Right Side(R)   Mid Range      0.0\n",
              "  \n",
              "  [327 rows x 5 columns]),\n",
              " ((32.0, 1.0),\n",
              "         distance_of_shot range_of_shot   area_of_shot shot_basics  is_goal\n",
              "  8                  32.0      8-16 ft.   Left Side(L)   Goal Line      1.0\n",
              "  64                 32.0      8-16 ft.  Right Side(R)         NaN      1.0\n",
              "  145                32.0      8-16 ft.  Right Side(R)   Mid Range      1.0\n",
              "  410                32.0      8-16 ft.  Right Side(R)   Mid Range      1.0\n",
              "  472                32.0      8-16 ft.      Center(C)   Goal Line      1.0\n",
              "  ...                 ...           ...            ...         ...      ...\n",
              "  30229              32.0      8-16 ft.   Left Side(L)   Mid Range      1.0\n",
              "  30260              32.0           NaN  Right Side(R)   Goal Line      1.0\n",
              "  30501              32.0      8-16 ft.   Left Side(L)   Mid Range      1.0\n",
              "  30521              32.0      8-16 ft.   Left Side(L)   Mid Range      1.0\n",
              "  30600              32.0      8-16 ft.   Left Side(L)   Mid Range      1.0\n",
              "  \n",
              "  [258 rows x 5 columns]),\n",
              " ((33.0, 0.0),\n",
              "         distance_of_shot range_of_shot   area_of_shot shot_basics  is_goal\n",
              "  31                 33.0      8-16 ft.  Right Side(R)         NaN      0.0\n",
              "  77                 33.0      8-16 ft.   Left Side(L)   Mid Range      0.0\n",
              "  92                 33.0      8-16 ft.  Right Side(R)         NaN      0.0\n",
              "  178                33.0           NaN      Center(C)   Goal Line      0.0\n",
              "  341                33.0      8-16 ft.  Right Side(R)   Mid Range      0.0\n",
              "  ...                 ...           ...            ...         ...      ...\n",
              "  30441              33.0      8-16 ft.  Right Side(R)   Mid Range      0.0\n",
              "  30470              33.0      8-16 ft.   Left Side(L)         NaN      0.0\n",
              "  30523              33.0      8-16 ft.   Left Side(L)   Mid Range      0.0\n",
              "  30642              33.0      8-16 ft.      Center(C)   Goal Line      0.0\n",
              "  30684              33.0      8-16 ft.   Left Side(L)   Mid Range      0.0\n",
              "  \n",
              "  [420 rows x 5 columns]),\n",
              " ((33.0, 1.0),\n",
              "         distance_of_shot range_of_shot   area_of_shot shot_basics  is_goal\n",
              "  80                 33.0      8-16 ft.      Center(C)   Goal Line      1.0\n",
              "  146                33.0      8-16 ft.   Left Side(L)   Mid Range      1.0\n",
              "  260                33.0      8-16 ft.   Left Side(L)   Mid Range      1.0\n",
              "  317                33.0      8-16 ft.   Left Side(L)   Mid Range      1.0\n",
              "  609                33.0      8-16 ft.      Center(C)   Goal Line      1.0\n",
              "  ...                 ...           ...            ...         ...      ...\n",
              "  30297              33.0      8-16 ft.  Right Side(R)   Mid Range      1.0\n",
              "  30309              33.0           NaN  Right Side(R)   Mid Range      1.0\n",
              "  30559              33.0      8-16 ft.   Left Side(L)   Mid Range      1.0\n",
              "  30618              33.0      8-16 ft.      Center(C)   Goal Line      1.0\n",
              "  30688              33.0      8-16 ft.   Left Side(L)   Mid Range      1.0\n",
              "  \n",
              "  [293 rows x 5 columns]),\n",
              " ((34.0, 0.0),\n",
              "         distance_of_shot range_of_shot   area_of_shot shot_basics  is_goal\n",
              "  5                  34.0      8-16 ft.   Left Side(L)   Mid Range      0.0\n",
              "  20                 34.0      8-16 ft.      Center(C)   Mid Range      0.0\n",
              "  270                34.0      8-16 ft.  Right Side(R)   Mid Range      0.0\n",
              "  340                34.0      8-16 ft.      Center(C)   Mid Range      0.0\n",
              "  368                34.0      8-16 ft.   Left Side(L)   Mid Range      0.0\n",
              "  ...                 ...           ...            ...         ...      ...\n",
              "  30298              34.0      8-16 ft.   Left Side(L)   Mid Range      0.0\n",
              "  30363              34.0      8-16 ft.   Left Side(L)   Mid Range      0.0\n",
              "  30364              34.0      8-16 ft.   Left Side(L)   Mid Range      0.0\n",
              "  30537              34.0      8-16 ft.      Center(C)   Mid Range      0.0\n",
              "  30623              34.0      8-16 ft.      Center(C)   Mid Range      0.0\n",
              "  \n",
              "  [468 rows x 5 columns]),\n",
              " ((34.0, 1.0),\n",
              "         distance_of_shot range_of_shot   area_of_shot shot_basics  is_goal\n",
              "  89                 34.0      8-16 ft.  Right Side(R)   Mid Range      1.0\n",
              "  98                 34.0      8-16 ft.  Right Side(R)   Mid Range      1.0\n",
              "  365                34.0      8-16 ft.      Center(C)   Goal Line      1.0\n",
              "  411                34.0           NaN   Left Side(L)   Mid Range      1.0\n",
              "  426                34.0      8-16 ft.  Right Side(R)   Mid Range      1.0\n",
              "  ...                 ...           ...            ...         ...      ...\n",
              "  30525              34.0      8-16 ft.      Center(C)   Mid Range      1.0\n",
              "  30546              34.0      8-16 ft.   Left Side(L)   Mid Range      1.0\n",
              "  30609              34.0      8-16 ft.  Right Side(R)   Mid Range      1.0\n",
              "  30624              34.0      8-16 ft.  Right Side(R)   Mid Range      1.0\n",
              "  30676              34.0      8-16 ft.   Left Side(L)   Mid Range      1.0\n",
              "  \n",
              "  [341 rows x 5 columns]),\n",
              " ((35.0, 0.0),\n",
              "         distance_of_shot range_of_shot   area_of_shot shot_basics  is_goal\n",
              "  1                  35.0      8-16 ft.   Left Side(L)   Mid Range      0.0\n",
              "  81                 35.0      8-16 ft.      Center(C)   Mid Range      0.0\n",
              "  93                 35.0      8-16 ft.  Right Side(R)         NaN      0.0\n",
              "  100                35.0      8-16 ft.      Center(C)   Mid Range      0.0\n",
              "  128                35.0      8-16 ft.   Left Side(L)   Mid Range      0.0\n",
              "  ...                 ...           ...            ...         ...      ...\n",
              "  30536              35.0      8-16 ft.  Right Side(R)   Mid Range      0.0\n",
              "  30553              35.0      8-16 ft.   Left Side(L)   Mid Range      0.0\n",
              "  30572              35.0      8-16 ft.      Center(C)   Mid Range      0.0\n",
              "  30620              35.0      8-16 ft.  Right Side(R)   Mid Range      0.0\n",
              "  30690              35.0      8-16 ft.   Left Side(L)   Mid Range      0.0\n",
              "  \n",
              "  [509 rows x 5 columns]),\n",
              " ((35.0, 1.0),\n",
              "         distance_of_shot range_of_shot   area_of_shot shot_basics  is_goal\n",
              "  88                 35.0      8-16 ft.  Right Side(R)   Mid Range      1.0\n",
              "  90                 35.0      8-16 ft.      Center(C)   Mid Range      1.0\n",
              "  126                35.0      8-16 ft.  Right Side(R)   Mid Range      1.0\n",
              "  127                35.0      8-16 ft.   Left Side(L)   Mid Range      1.0\n",
              "  203                35.0      8-16 ft.      Center(C)   Mid Range      1.0\n",
              "  ...                 ...           ...            ...         ...      ...\n",
              "  30022              35.0      8-16 ft.      Center(C)   Mid Range      1.0\n",
              "  30334              35.0      8-16 ft.   Left Side(L)   Mid Range      1.0\n",
              "  30392              35.0      8-16 ft.   Left Side(L)   Mid Range      1.0\n",
              "  30472              35.0      8-16 ft.      Center(C)   Mid Range      1.0\n",
              "  30644              35.0      8-16 ft.      Center(C)   Mid Range      1.0\n",
              "  \n",
              "  [389 rows x 5 columns]),\n",
              " ((36.0, 0.0),        distance_of_shot range_of_shot  ... shot_basics is_goal\n",
              "  18                 36.0     16-24 ft.  ...   Mid Range     0.0\n",
              "  108                36.0     16-24 ft.  ...   Mid Range     0.0\n",
              "  119                36.0     16-24 ft.  ...   Mid Range     0.0\n",
              "  167                36.0     16-24 ft.  ...   Mid Range     0.0\n",
              "  176                36.0     16-24 ft.  ...   Mid Range     0.0\n",
              "  ...                 ...           ...  ...         ...     ...\n",
              "  30325              36.0     16-24 ft.  ...   Mid Range     0.0\n",
              "  30339              36.0     16-24 ft.  ...   Mid Range     0.0\n",
              "  30353              36.0     16-24 ft.  ...   Mid Range     0.0\n",
              "  30601              36.0     16-24 ft.  ...   Mid Range     0.0\n",
              "  30650              36.0           NaN  ...         NaN     0.0\n",
              "  \n",
              "  [646 rows x 5 columns]),\n",
              " ((36.0, 1.0),        distance_of_shot range_of_shot  ... shot_basics is_goal\n",
              "  2                  36.0     16-24 ft.  ...   Mid Range     1.0\n",
              "  109                36.0     16-24 ft.  ...   Mid Range     1.0\n",
              "  174                36.0     16-24 ft.  ...   Mid Range     1.0\n",
              "  279                36.0     16-24 ft.  ...   Mid Range     1.0\n",
              "  353                36.0     16-24 ft.  ...   Mid Range     1.0\n",
              "  ...                 ...           ...  ...         ...     ...\n",
              "  29947              36.0     16-24 ft.  ...   Mid Range     1.0\n",
              "  29990              36.0     16-24 ft.  ...   Mid Range     1.0\n",
              "  30076              36.0     16-24 ft.  ...   Mid Range     1.0\n",
              "  30522              36.0     16-24 ft.  ...   Mid Range     1.0\n",
              "  30606              36.0           NaN  ...   Mid Range     1.0\n",
              "  \n",
              "  [412 rows x 5 columns]),\n",
              " ((37.0, 0.0),        distance_of_shot range_of_shot  ... shot_basics is_goal\n",
              "  106                37.0     16-24 ft.  ...   Mid Range     0.0\n",
              "  129                37.0     16-24 ft.  ...   Mid Range     0.0\n",
              "  134                37.0     16-24 ft.  ...   Mid Range     0.0\n",
              "  218                37.0     16-24 ft.  ...   Mid Range     0.0\n",
              "  296                37.0     16-24 ft.  ...   Mid Range     0.0\n",
              "  ...                 ...           ...  ...         ...     ...\n",
              "  30514              37.0     16-24 ft.  ...   Mid Range     0.0\n",
              "  30534              37.0     16-24 ft.  ...   Mid Range     0.0\n",
              "  30598              37.0     16-24 ft.  ...   Mid Range     0.0\n",
              "  30614              37.0     16-24 ft.  ...   Mid Range     0.0\n",
              "  30669              37.0     16-24 ft.  ...   Mid Range     0.0\n",
              "  \n",
              "  [688 rows x 5 columns]),\n",
              " ((37.0, 1.0),        distance_of_shot range_of_shot  ... shot_basics is_goal\n",
              "  11                 37.0     16-24 ft.  ...   Mid Range     1.0\n",
              "  48                 37.0     16-24 ft.  ...         NaN     1.0\n",
              "  102                37.0     16-24 ft.  ...         NaN     1.0\n",
              "  268                37.0     16-24 ft.  ...   Mid Range     1.0\n",
              "  393                37.0     16-24 ft.  ...         NaN     1.0\n",
              "  ...                 ...           ...  ...         ...     ...\n",
              "  30493              37.0     16-24 ft.  ...   Mid Range     1.0\n",
              "  30520              37.0     16-24 ft.  ...   Mid Range     1.0\n",
              "  30524              37.0     16-24 ft.  ...   Mid Range     1.0\n",
              "  30529              37.0     16-24 ft.  ...   Mid Range     1.0\n",
              "  30622              37.0     16-24 ft.  ...   Mid Range     1.0\n",
              "  \n",
              "  [430 rows x 5 columns]),\n",
              " ((38.0, 0.0),        distance_of_shot range_of_shot  ... shot_basics is_goal\n",
              "  40                 38.0     16-24 ft.  ...   Mid Range     0.0\n",
              "  53                 38.0     16-24 ft.  ...   Mid Range     0.0\n",
              "  147                38.0     16-24 ft.  ...   Mid Range     0.0\n",
              "  175                38.0     16-24 ft.  ...   Mid Range     0.0\n",
              "  193                38.0     16-24 ft.  ...   Mid Range     0.0\n",
              "  ...                 ...           ...  ...         ...     ...\n",
              "  30416              38.0     16-24 ft.  ...   Mid Range     0.0\n",
              "  30465              38.0     16-24 ft.  ...   Mid Range     0.0\n",
              "  30577              38.0     16-24 ft.  ...   Mid Range     0.0\n",
              "  30666              38.0     16-24 ft.  ...   Mid Range     0.0\n",
              "  30677              38.0     16-24 ft.  ...   Mid Range     0.0\n",
              "  \n",
              "  [632 rows x 5 columns]),\n",
              " ((38.0, 1.0),        distance_of_shot range_of_shot  ... shot_basics is_goal\n",
              "  23                 38.0     16-24 ft.  ...   Mid Range     1.0\n",
              "  120                38.0     16-24 ft.  ...   Mid Range     1.0\n",
              "  235                38.0     16-24 ft.  ...   Mid Range     1.0\n",
              "  243                38.0     16-24 ft.  ...   Mid Range     1.0\n",
              "  245                38.0     16-24 ft.  ...   Mid Range     1.0\n",
              "  ...                 ...           ...  ...         ...     ...\n",
              "  30408              38.0     16-24 ft.  ...   Mid Range     1.0\n",
              "  30459              38.0     16-24 ft.  ...   Mid Range     1.0\n",
              "  30489              38.0     16-24 ft.  ...         NaN     1.0\n",
              "  30578              38.0     16-24 ft.  ...   Mid Range     1.0\n",
              "  30627              38.0     16-24 ft.  ...   Mid Range     1.0\n",
              "  \n",
              "  [421 rows x 5 columns]),\n",
              " ((39.0, 0.0),        distance_of_shot range_of_shot  ... shot_basics is_goal\n",
              "  28                 39.0     16-24 ft.  ...   Mid Range     0.0\n",
              "  105                39.0     16-24 ft.  ...   Mid Range     0.0\n",
              "  179                39.0     16-24 ft.  ...   Mid Range     0.0\n",
              "  348                39.0           NaN  ...   Mid Range     0.0\n",
              "  374                39.0     16-24 ft.  ...   Mid Range     0.0\n",
              "  ...                 ...           ...  ...         ...     ...\n",
              "  30002              39.0     16-24 ft.  ...   Mid Range     0.0\n",
              "  30439              39.0     16-24 ft.  ...   Mid Range     0.0\n",
              "  30531              39.0     16-24 ft.  ...   Mid Range     0.0\n",
              "  30538              39.0     16-24 ft.  ...         NaN     0.0\n",
              "  30558              39.0     16-24 ft.  ...   Mid Range     0.0\n",
              "  \n",
              "  [600 rows x 5 columns]),\n",
              " ((39.0, 1.0),        distance_of_shot range_of_shot  ... shot_basics is_goal\n",
              "  87                 39.0     16-24 ft.  ...         NaN     1.0\n",
              "  188                39.0     16-24 ft.  ...   Mid Range     1.0\n",
              "  197                39.0     16-24 ft.  ...   Mid Range     1.0\n",
              "  344                39.0     16-24 ft.  ...   Mid Range     1.0\n",
              "  460                39.0     16-24 ft.  ...   Mid Range     1.0\n",
              "  ...                 ...           ...  ...         ...     ...\n",
              "  30405              39.0     16-24 ft.  ...   Mid Range     1.0\n",
              "  30466              39.0     16-24 ft.  ...   Mid Range     1.0\n",
              "  30488              39.0     16-24 ft.  ...   Mid Range     1.0\n",
              "  30511              39.0     16-24 ft.  ...   Mid Range     1.0\n",
              "  30588              39.0           NaN  ...   Mid Range     1.0\n",
              "  \n",
              "  [423 rows x 5 columns]),\n",
              " ((40.0, 0.0),        distance_of_shot range_of_shot  ... shot_basics is_goal\n",
              "  15                 40.0     16-24 ft.  ...   Mid Range     0.0\n",
              "  26                 40.0     16-24 ft.  ...   Mid Range     0.0\n",
              "  156                40.0     16-24 ft.  ...   Mid Range     0.0\n",
              "  172                40.0     16-24 ft.  ...   Mid Range     0.0\n",
              "  264                40.0     16-24 ft.  ...         NaN     0.0\n",
              "  ...                 ...           ...  ...         ...     ...\n",
              "  30449              40.0     16-24 ft.  ...   Mid Range     0.0\n",
              "  30539              40.0     16-24 ft.  ...   Mid Range     0.0\n",
              "  30566              40.0     16-24 ft.  ...   Mid Range     0.0\n",
              "  30575              40.0     16-24 ft.  ...   Mid Range     0.0\n",
              "  30654              40.0     16-24 ft.  ...   Mid Range     0.0\n",
              "  \n",
              "  [546 rows x 5 columns]),\n",
              " ((40.0, 1.0),        distance_of_shot range_of_shot  ... shot_basics is_goal\n",
              "  38                 40.0     16-24 ft.  ...   Mid Range     1.0\n",
              "  42                 40.0     16-24 ft.  ...   Mid Range     1.0\n",
              "  150                40.0     16-24 ft.  ...   Mid Range     1.0\n",
              "  223                40.0     16-24 ft.  ...   Mid Range     1.0\n",
              "  291                40.0     16-24 ft.  ...   Mid Range     1.0\n",
              "  ...                 ...           ...  ...         ...     ...\n",
              "  30438              40.0     16-24 ft.  ...   Mid Range     1.0\n",
              "  30548              40.0     16-24 ft.  ...   Mid Range     1.0\n",
              "  30570              40.0     16-24 ft.  ...   Mid Range     1.0\n",
              "  30571              40.0     16-24 ft.  ...   Mid Range     1.0\n",
              "  30599              40.0     16-24 ft.  ...   Mid Range     1.0\n",
              "  \n",
              "  [360 rows x 5 columns]),\n",
              " ((41.0, 0.0),        distance_of_shot range_of_shot  ... shot_basics is_goal\n",
              "  113                41.0     16-24 ft.  ...   Mid Range     0.0\n",
              "  166                41.0     16-24 ft.  ...   Mid Range     0.0\n",
              "  234                41.0     16-24 ft.  ...   Mid Range     0.0\n",
              "  355                41.0     16-24 ft.  ...   Mid Range     0.0\n",
              "  580                41.0     16-24 ft.  ...   Mid Range     0.0\n",
              "  ...                 ...           ...  ...         ...     ...\n",
              "  30196              41.0     16-24 ft.  ...   Mid Range     0.0\n",
              "  30389              41.0     16-24 ft.  ...   Mid Range     0.0\n",
              "  30544              41.0     16-24 ft.  ...   Mid Range     0.0\n",
              "  30545              41.0     16-24 ft.  ...   Mid Range     0.0\n",
              "  30683              41.0     16-24 ft.  ...   Mid Range     0.0\n",
              "  \n",
              "  [349 rows x 5 columns]),\n",
              " ((41.0, 1.0),        distance_of_shot range_of_shot  ... shot_basics is_goal\n",
              "  165                41.0     16-24 ft.  ...   Mid Range     1.0\n",
              "  173                41.0     16-24 ft.  ...   Mid Range     1.0\n",
              "  187                41.0     16-24 ft.  ...   Mid Range     1.0\n",
              "  480                41.0     16-24 ft.  ...   Mid Range     1.0\n",
              "  652                41.0     16-24 ft.  ...   Mid Range     1.0\n",
              "  ...                 ...           ...  ...         ...     ...\n",
              "  29423              41.0     16-24 ft.  ...   Mid Range     1.0\n",
              "  30159              41.0     16-24 ft.  ...   Mid Range     1.0\n",
              "  30596              41.0     16-24 ft.  ...   Mid Range     1.0\n",
              "  30652              41.0     16-24 ft.  ...   Mid Range     1.0\n",
              "  30694              41.0     16-24 ft.  ...   Mid Range     1.0\n",
              "  \n",
              "  [249 rows x 5 columns]),\n",
              " ((42.0, 0.0),        distance_of_shot range_of_shot  ...   shot_basics is_goal\n",
              "  3                  42.0     16-24 ft.  ...     Mid Range     0.0\n",
              "  406                42.0     16-24 ft.  ...     Mid Range     0.0\n",
              "  445                42.0       24+ ft.  ...   Left Corner     0.0\n",
              "  851                42.0     16-24 ft.  ...     Mid Range     0.0\n",
              "  866                42.0     16-24 ft.  ...     Mid Range     0.0\n",
              "  ...                 ...           ...  ...           ...     ...\n",
              "  30189              42.0     16-24 ft.  ...     Mid Range     0.0\n",
              "  30359              42.0       24+ ft.  ...           NaN     0.0\n",
              "  30468              42.0       24+ ft.  ...  Right Corner     0.0\n",
              "  30526              42.0     16-24 ft.  ...     Mid Range     0.0\n",
              "  30604              42.0       24+ ft.  ...  Right Corner     0.0\n",
              "  \n",
              "  [322 rows x 5 columns]),\n",
              " ((42.0, 1.0),        distance_of_shot range_of_shot  ...   shot_basics is_goal\n",
              "  56                 42.0     16-24 ft.  ...     Mid Range     1.0\n",
              "  272                42.0     16-24 ft.  ...     Mid Range     1.0\n",
              "  375                42.0     16-24 ft.  ...     Mid Range     1.0\n",
              "  597                42.0     16-24 ft.  ...     Mid Range     1.0\n",
              "  662                42.0       24+ ft.  ...  Right Corner     1.0\n",
              "  ...                 ...           ...  ...           ...     ...\n",
              "  29867              42.0     16-24 ft.  ...     Mid Range     1.0\n",
              "  30191              42.0     16-24 ft.  ...     Mid Range     1.0\n",
              "  30213              42.0     16-24 ft.  ...     Mid Range     1.0\n",
              "  30564              42.0     16-24 ft.  ...     Mid Range     1.0\n",
              "  30657              42.0     16-24 ft.  ...     Mid Range     1.0\n",
              "  \n",
              "  [191 rows x 5 columns]),\n",
              " ((43.0, 0.0),        distance_of_shot range_of_shot  ...   shot_basics is_goal\n",
              "  67                 43.0       24+ ft.  ...  Right Corner     0.0\n",
              "  219                43.0     16-24 ft.  ...     Mid Range     0.0\n",
              "  267                43.0       24+ ft.  ...  Right Corner     0.0\n",
              "  373                43.0       24+ ft.  ...           NaN     0.0\n",
              "  444                43.0       24+ ft.  ...   Left Corner     0.0\n",
              "  ...                 ...           ...  ...           ...     ...\n",
              "  30139              43.0       24+ ft.  ...  Penalty Spot     0.0\n",
              "  30201              43.0           NaN  ...  Right Corner     0.0\n",
              "  30207              43.0       24+ ft.  ...  Penalty Spot     0.0\n",
              "  30448              43.0           NaN  ...  Penalty Spot     0.0\n",
              "  30658              43.0     16-24 ft.  ...     Mid Range     0.0\n",
              "  \n",
              "  [269 rows x 5 columns]),\n",
              " ((43.0, 1.0),        distance_of_shot range_of_shot  ...   shot_basics is_goal\n",
              "  436                43.0       24+ ft.  ...  Right Corner     1.0\n",
              "  442                43.0       24+ ft.  ...   Left Corner     1.0\n",
              "  665                43.0     16-24 ft.  ...     Mid Range     1.0\n",
              "  2272               43.0           NaN  ...     Mid Range     1.0\n",
              "  2449               43.0     16-24 ft.  ...     Mid Range     1.0\n",
              "  ...                 ...           ...  ...           ...     ...\n",
              "  29379              43.0     16-24 ft.  ...           NaN     1.0\n",
              "  30045              43.0     16-24 ft.  ...     Mid Range     1.0\n",
              "  30049              43.0     16-24 ft.  ...     Mid Range     1.0\n",
              "  30267              43.0       24+ ft.  ...  Right Corner     1.0\n",
              "  30647              43.0     16-24 ft.  ...     Mid Range     1.0\n",
              "  \n",
              "  [168 rows x 5 columns]),\n",
              " ((44.0, 0.0),        distance_of_shot range_of_shot  ...   shot_basics is_goal\n",
              "  55                 44.0       24+ ft.  ...  Penalty Spot     0.0\n",
              "  82                 44.0       24+ ft.  ...  Penalty Spot     0.0\n",
              "  97                 44.0       24+ ft.  ...  Penalty Spot     0.0\n",
              "  180                44.0       24+ ft.  ...  Penalty Spot     0.0\n",
              "  182                44.0       24+ ft.  ...  Penalty Spot     0.0\n",
              "  ...                 ...           ...  ...           ...     ...\n",
              "  30463              44.0       24+ ft.  ...  Penalty Spot     0.0\n",
              "  30555              44.0       24+ ft.  ...  Penalty Spot     0.0\n",
              "  30563              44.0       24+ ft.  ...  Penalty Spot     0.0\n",
              "  30619              44.0       24+ ft.  ...  Penalty Spot     0.0\n",
              "  30621              44.0       24+ ft.  ...  Penalty Spot     0.0\n",
              "  \n",
              "  [737 rows x 5 columns]),\n",
              " ((44.0, 1.0),        distance_of_shot range_of_shot  ...   shot_basics is_goal\n",
              "  184                44.0       24+ ft.  ...  Penalty Spot     1.0\n",
              "  293                44.0       24+ ft.  ...  Right Corner     1.0\n",
              "  412                44.0       24+ ft.  ...  Right Corner     1.0\n",
              "  491                44.0       24+ ft.  ...  Penalty Spot     1.0\n",
              "  700                44.0       24+ ft.  ...  Penalty Spot     1.0\n",
              "  ...                 ...           ...  ...           ...     ...\n",
              "  30543              44.0       24+ ft.  ...  Penalty Spot     1.0\n",
              "  30547              44.0       24+ ft.  ...  Penalty Spot     1.0\n",
              "  30573              44.0       24+ ft.  ...  Penalty Spot     1.0\n",
              "  30584              44.0       24+ ft.  ...  Penalty Spot     1.0\n",
              "  30674              44.0       24+ ft.  ...  Penalty Spot     1.0\n",
              "  \n",
              "  [412 rows x 5 columns]),\n",
              " ((45.0, 0.0),        distance_of_shot range_of_shot  ...   shot_basics is_goal\n",
              "  10                 45.0       24+ ft.  ...  Penalty Spot     0.0\n",
              "  74                 45.0       24+ ft.  ...  Penalty Spot     0.0\n",
              "  183                45.0           NaN  ...  Penalty Spot     0.0\n",
              "  189                45.0       24+ ft.  ...           NaN     0.0\n",
              "  237                45.0       24+ ft.  ...  Penalty Spot     0.0\n",
              "  ...                 ...           ...  ...           ...     ...\n",
              "  30517              45.0       24+ ft.  ...  Penalty Spot     0.0\n",
              "  30549              45.0           NaN  ...  Penalty Spot     0.0\n",
              "  30602              45.0       24+ ft.  ...  Penalty Spot     0.0\n",
              "  30667              45.0       24+ ft.  ...  Penalty Spot     0.0\n",
              "  30675              45.0       24+ ft.  ...  Penalty Spot     0.0\n",
              "  \n",
              "  [938 rows x 5 columns]),\n",
              " ((45.0, 1.0),        distance_of_shot range_of_shot  ...   shot_basics is_goal\n",
              "  17                 45.0           NaN  ...           NaN     1.0\n",
              "  95                 45.0       24+ ft.  ...  Penalty Spot     1.0\n",
              "  160                45.0       24+ ft.  ...  Penalty Spot     1.0\n",
              "  198                45.0       24+ ft.  ...  Penalty Spot     1.0\n",
              "  269                45.0       24+ ft.  ...  Penalty Spot     1.0\n",
              "  ...                 ...           ...  ...           ...     ...\n",
              "  30367              45.0       24+ ft.  ...  Penalty Spot     1.0\n",
              "  30413              45.0           NaN  ...  Penalty Spot     1.0\n",
              "  30560              45.0       24+ ft.  ...  Penalty Spot     1.0\n",
              "  30582              45.0       24+ ft.  ...  Penalty Spot     1.0\n",
              "  30594              45.0       24+ ft.  ...  Penalty Spot     1.0\n",
              "  \n",
              "  [525 rows x 5 columns]),\n",
              " ((46.0, 0.0),        distance_of_shot range_of_shot  ...   shot_basics is_goal\n",
              "  27                 46.0       24+ ft.  ...  Penalty Spot     0.0\n",
              "  329                46.0       24+ ft.  ...  Penalty Spot     0.0\n",
              "  333                46.0       24+ ft.  ...  Penalty Spot     0.0\n",
              "  517                46.0       24+ ft.  ...  Penalty Spot     0.0\n",
              "  526                46.0       24+ ft.  ...  Penalty Spot     0.0\n",
              "  ...                 ...           ...  ...           ...     ...\n",
              "  30368              46.0       24+ ft.  ...  Penalty Spot     0.0\n",
              "  30483              46.0       24+ ft.  ...  Penalty Spot     0.0\n",
              "  30585              46.0       24+ ft.  ...           NaN     0.0\n",
              "  30685              46.0       24+ ft.  ...  Penalty Spot     0.0\n",
              "  30695              46.0           NaN  ...  Penalty Spot     0.0\n",
              "  \n",
              "  [653 rows x 5 columns]),\n",
              " ((46.0, 1.0),        distance_of_shot range_of_shot  ...   shot_basics is_goal\n",
              "  241                46.0       24+ ft.  ...  Penalty Spot     1.0\n",
              "  248                46.0       24+ ft.  ...  Penalty Spot     1.0\n",
              "  277                46.0       24+ ft.  ...  Penalty Spot     1.0\n",
              "  294                46.0       24+ ft.  ...  Penalty Spot     1.0\n",
              "  369                46.0       24+ ft.  ...  Penalty Spot     1.0\n",
              "  ...                 ...           ...  ...           ...     ...\n",
              "  29857              46.0       24+ ft.  ...  Penalty Spot     1.0\n",
              "  29870              46.0       24+ ft.  ...  Penalty Spot     1.0\n",
              "  30212              46.0       24+ ft.  ...  Penalty Spot     1.0\n",
              "  30278              46.0       24+ ft.  ...  Penalty Spot     1.0\n",
              "  30586              46.0       24+ ft.  ...  Penalty Spot     1.0\n",
              "  \n",
              "  [306 rows x 5 columns]),\n",
              " ((47.0, 0.0),        distance_of_shot range_of_shot  ...   shot_basics is_goal\n",
              "  148                47.0       24+ ft.  ...  Penalty Spot     0.0\n",
              "  228                47.0       24+ ft.  ...  Penalty Spot     0.0\n",
              "  286                47.0       24+ ft.  ...  Penalty Spot     0.0\n",
              "  531                47.0           NaN  ...  Penalty Spot     0.0\n",
              "  686                47.0       24+ ft.  ...  Penalty Spot     0.0\n",
              "  ...                 ...           ...  ...           ...     ...\n",
              "  30103              47.0       24+ ft.  ...  Penalty Spot     0.0\n",
              "  30158              47.0       24+ ft.  ...  Penalty Spot     0.0\n",
              "  30198              47.0       24+ ft.  ...  Penalty Spot     0.0\n",
              "  30494              47.0       24+ ft.  ...  Penalty Spot     0.0\n",
              "  30591              47.0       24+ ft.  ...  Penalty Spot     0.0\n",
              "  \n",
              "  [277 rows x 5 columns]),\n",
              " ((47.0, 1.0),        distance_of_shot range_of_shot  ...   shot_basics is_goal\n",
              "  39                 47.0       24+ ft.  ...  Penalty Spot     1.0\n",
              "  124                47.0           NaN  ...  Penalty Spot     1.0\n",
              "  315                47.0       24+ ft.  ...  Penalty Spot     1.0\n",
              "  354                47.0       24+ ft.  ...  Penalty Spot     1.0\n",
              "  483                47.0           NaN  ...  Penalty Spot     1.0\n",
              "  ...                 ...           ...  ...           ...     ...\n",
              "  29420              47.0       24+ ft.  ...  Penalty Spot     1.0\n",
              "  29491              47.0       24+ ft.  ...  Penalty Spot     1.0\n",
              "  29693              47.0       24+ ft.  ...  Penalty Spot     1.0\n",
              "  29856              47.0       24+ ft.  ...  Penalty Spot     1.0\n",
              "  30579              47.0       24+ ft.  ...  Penalty Spot     1.0\n",
              "  \n",
              "  [119 rows x 5 columns]),\n",
              " ((48.0, 0.0),        distance_of_shot range_of_shot  ...   shot_basics is_goal\n",
              "  304                48.0       24+ ft.  ...  Penalty Spot     0.0\n",
              "  349                48.0       24+ ft.  ...  Penalty Spot     0.0\n",
              "  1162               48.0       24+ ft.  ...  Penalty Spot     0.0\n",
              "  1356               48.0           NaN  ...  Penalty Spot     0.0\n",
              "  2584               48.0       24+ ft.  ...  Penalty Spot     0.0\n",
              "  ...                 ...           ...  ...           ...     ...\n",
              "  29736              48.0       24+ ft.  ...  Penalty Spot     0.0\n",
              "  29768              48.0       24+ ft.  ...  Penalty Spot     0.0\n",
              "  29825              48.0       24+ ft.  ...  Penalty Spot     0.0\n",
              "  30144              48.0       24+ ft.  ...           NaN     0.0\n",
              "  30399              48.0       24+ ft.  ...  Penalty Spot     0.0\n",
              "  \n",
              "  [117 rows x 5 columns]),\n",
              " ((48.0, 1.0),        distance_of_shot range_of_shot  ...   shot_basics is_goal\n",
              "  5447               48.0       24+ ft.  ...  Penalty Spot     1.0\n",
              "  7288               48.0       24+ ft.  ...  Penalty Spot     1.0\n",
              "  7435               48.0       24+ ft.  ...  Penalty Spot     1.0\n",
              "  8068               48.0       24+ ft.  ...  Penalty Spot     1.0\n",
              "  8302               48.0       24+ ft.  ...  Penalty Spot     1.0\n",
              "  8324               48.0       24+ ft.  ...  Penalty Spot     1.0\n",
              "  8791               48.0       24+ ft.  ...  Penalty Spot     1.0\n",
              "  9263               48.0       24+ ft.  ...  Penalty Spot     1.0\n",
              "  9557               48.0       24+ ft.  ...  Penalty Spot     1.0\n",
              "  9619               48.0       24+ ft.  ...  Penalty Spot     1.0\n",
              "  10464              48.0       24+ ft.  ...  Penalty Spot     1.0\n",
              "  11045              48.0       24+ ft.  ...  Penalty Spot     1.0\n",
              "  13811              48.0       24+ ft.  ...  Penalty Spot     1.0\n",
              "  13862              48.0       24+ ft.  ...  Penalty Spot     1.0\n",
              "  13976              48.0       24+ ft.  ...  Penalty Spot     1.0\n",
              "  15268              48.0       24+ ft.  ...  Penalty Spot     1.0\n",
              "  16495              48.0       24+ ft.  ...  Penalty Spot     1.0\n",
              "  18483              48.0       24+ ft.  ...  Penalty Spot     1.0\n",
              "  21248              48.0       24+ ft.  ...  Penalty Spot     1.0\n",
              "  21663              48.0       24+ ft.  ...           NaN     1.0\n",
              "  21796              48.0       24+ ft.  ...  Penalty Spot     1.0\n",
              "  22011              48.0       24+ ft.  ...  Penalty Spot     1.0\n",
              "  22266              48.0       24+ ft.  ...  Penalty Spot     1.0\n",
              "  22286              48.0       24+ ft.  ...  Penalty Spot     1.0\n",
              "  22686              48.0       24+ ft.  ...  Penalty Spot     1.0\n",
              "  24034              48.0       24+ ft.  ...  Penalty Spot     1.0\n",
              "  24334              48.0       24+ ft.  ...  Penalty Spot     1.0\n",
              "  25808              48.0       24+ ft.  ...  Penalty Spot     1.0\n",
              "  26947              48.0       24+ ft.  ...  Penalty Spot     1.0\n",
              "  27700              48.0       24+ ft.  ...  Penalty Spot     1.0\n",
              "  27861              48.0       24+ ft.  ...  Penalty Spot     1.0\n",
              "  27891              48.0       24+ ft.  ...  Penalty Spot     1.0\n",
              "  29401              48.0       24+ ft.  ...  Penalty Spot     1.0\n",
              "  \n",
              "  [33 rows x 5 columns]),\n",
              " ((49.0, 0.0),        distance_of_shot range_of_shot  ...   shot_basics is_goal\n",
              "  200                49.0       24+ ft.  ...  Penalty Spot     0.0\n",
              "  515                49.0       24+ ft.  ...  Penalty Spot     0.0\n",
              "  748                49.0       24+ ft.  ...  Penalty Spot     0.0\n",
              "  795                49.0           NaN  ...  Penalty Spot     0.0\n",
              "  1772               49.0       24+ ft.  ...  Penalty Spot     0.0\n",
              "  1945               49.0       24+ ft.  ...  Penalty Spot     0.0\n",
              "  5617               49.0       24+ ft.  ...  Penalty Spot     0.0\n",
              "  5782               49.0           NaN  ...  Penalty Spot     0.0\n",
              "  5905               49.0       24+ ft.  ...  Penalty Spot     0.0\n",
              "  6954               49.0       24+ ft.  ...  Penalty Spot     0.0\n",
              "  9030               49.0       24+ ft.  ...  Penalty Spot     0.0\n",
              "  9259               49.0       24+ ft.  ...  Penalty Spot     0.0\n",
              "  9904               49.0           NaN  ...  Penalty Spot     0.0\n",
              "  10574              49.0       24+ ft.  ...  Penalty Spot     0.0\n",
              "  11757              49.0       24+ ft.  ...  Penalty Spot     0.0\n",
              "  12229              49.0       24+ ft.  ...  Penalty Spot     0.0\n",
              "  12348              49.0       24+ ft.  ...  Penalty Spot     0.0\n",
              "  13150              49.0       24+ ft.  ...  Penalty Spot     0.0\n",
              "  13366              49.0       24+ ft.  ...  Penalty Spot     0.0\n",
              "  14573              49.0       24+ ft.  ...  Penalty Spot     0.0\n",
              "  17799              49.0       24+ ft.  ...  Penalty Spot     0.0\n",
              "  18223              49.0       24+ ft.  ...  Penalty Spot     0.0\n",
              "  18417              49.0       24+ ft.  ...  Penalty Spot     0.0\n",
              "  18597              49.0       24+ ft.  ...  Penalty Spot     0.0\n",
              "  18662              49.0       24+ ft.  ...  Penalty Spot     0.0\n",
              "  18808              49.0       24+ ft.  ...  Penalty Spot     0.0\n",
              "  19117              49.0       24+ ft.  ...  Penalty Spot     0.0\n",
              "  19558              49.0       24+ ft.  ...  Penalty Spot     0.0\n",
              "  19687              49.0       24+ ft.  ...  Penalty Spot     0.0\n",
              "  20239              49.0       24+ ft.  ...  Penalty Spot     0.0\n",
              "  20375              49.0       24+ ft.  ...  Penalty Spot     0.0\n",
              "  20400              49.0       24+ ft.  ...  Penalty Spot     0.0\n",
              "  20672              49.0           NaN  ...           NaN     0.0\n",
              "  20977              49.0       24+ ft.  ...  Penalty Spot     0.0\n",
              "  21155              49.0       24+ ft.  ...  Penalty Spot     0.0\n",
              "  21233              49.0       24+ ft.  ...  Penalty Spot     0.0\n",
              "  21988              49.0       24+ ft.  ...  Penalty Spot     0.0\n",
              "  22518              49.0       24+ ft.  ...           NaN     0.0\n",
              "  22522              49.0       24+ ft.  ...  Penalty Spot     0.0\n",
              "  22731              49.0       24+ ft.  ...  Penalty Spot     0.0\n",
              "  24418              49.0       24+ ft.  ...  Penalty Spot     0.0\n",
              "  24445              49.0       24+ ft.  ...  Penalty Spot     0.0\n",
              "  24902              49.0       24+ ft.  ...  Penalty Spot     0.0\n",
              "  25031              49.0       24+ ft.  ...  Penalty Spot     0.0\n",
              "  25394              49.0       24+ ft.  ...  Penalty Spot     0.0\n",
              "  28025              49.0       24+ ft.  ...  Penalty Spot     0.0\n",
              "  28559              49.0       24+ ft.  ...  Penalty Spot     0.0\n",
              "  29694              49.0       24+ ft.  ...           NaN     0.0\n",
              "  \n",
              "  [48 rows x 5 columns]),\n",
              " ((49.0, 1.0),        distance_of_shot range_of_shot  ...   shot_basics is_goal\n",
              "  5559               49.0       24+ ft.  ...  Penalty Spot     1.0\n",
              "  6768               49.0       24+ ft.  ...  Penalty Spot     1.0\n",
              "  7474               49.0       24+ ft.  ...  Penalty Spot     1.0\n",
              "  7478               49.0       24+ ft.  ...  Penalty Spot     1.0\n",
              "  8767               49.0       24+ ft.  ...  Penalty Spot     1.0\n",
              "  10540              49.0       24+ ft.  ...  Penalty Spot     1.0\n",
              "  10750              49.0       24+ ft.  ...  Penalty Spot     1.0\n",
              "  16959              49.0       24+ ft.  ...  Penalty Spot     1.0\n",
              "  18654              49.0       24+ ft.  ...  Penalty Spot     1.0\n",
              "  22829              49.0           NaN  ...  Penalty Spot     1.0\n",
              "  24417              49.0       24+ ft.  ...  Penalty Spot     1.0\n",
              "  29316              49.0       24+ ft.  ...  Penalty Spot     1.0\n",
              "  \n",
              "  [12 rows x 5 columns]),\n",
              " ((50.0, 0.0),        distance_of_shot range_of_shot  ...   shot_basics is_goal\n",
              "  380                50.0       24+ ft.  ...  Penalty Spot     0.0\n",
              "  2310               50.0       24+ ft.  ...  Penalty Spot     0.0\n",
              "  6640               50.0       24+ ft.  ...  Penalty Spot     0.0\n",
              "  7996               50.0       24+ ft.  ...  Penalty Spot     0.0\n",
              "  13678              50.0       24+ ft.  ...  Penalty Spot     0.0\n",
              "  14193              50.0       24+ ft.  ...  Penalty Spot     0.0\n",
              "  18245              50.0       24+ ft.  ...  Penalty Spot     0.0\n",
              "  21700              50.0       24+ ft.  ...  Penalty Spot     0.0\n",
              "  24223              50.0       24+ ft.  ...  Penalty Spot     0.0\n",
              "  28945              50.0       24+ ft.  ...  Penalty Spot     0.0\n",
              "  30268              50.0       24+ ft.  ...  Penalty Spot     0.0\n",
              "  \n",
              "  [11 rows x 5 columns]),\n",
              " ((50.0, 1.0),        distance_of_shot range_of_shot  ...   shot_basics is_goal\n",
              "  1069               50.0       24+ ft.  ...  Penalty Spot     1.0\n",
              "  8865               50.0       24+ ft.  ...  Penalty Spot     1.0\n",
              "  16432              50.0       24+ ft.  ...  Penalty Spot     1.0\n",
              "  20972              50.0       24+ ft.  ...  Penalty Spot     1.0\n",
              "  27900              50.0       24+ ft.  ...  Penalty Spot     1.0\n",
              "  \n",
              "  [5 rows x 5 columns]),\n",
              " ((51.0, 0.0),        distance_of_shot range_of_shot  ...   shot_basics is_goal\n",
              "  1027               51.0       24+ ft.  ...  Penalty Spot     0.0\n",
              "  3809               51.0       24+ ft.  ...  Penalty Spot     0.0\n",
              "  6688               51.0       24+ ft.  ...  Penalty Spot     0.0\n",
              "  7075               51.0           NaN  ...  Penalty Spot     0.0\n",
              "  7310               51.0       24+ ft.  ...  Penalty Spot     0.0\n",
              "  8218               51.0       24+ ft.  ...  Penalty Spot     0.0\n",
              "  8766               51.0       24+ ft.  ...  Penalty Spot     0.0\n",
              "  9276               51.0       24+ ft.  ...           NaN     0.0\n",
              "  12676              51.0       24+ ft.  ...  Penalty Spot     0.0\n",
              "  16622              51.0       24+ ft.  ...  Penalty Spot     0.0\n",
              "  16960              51.0       24+ ft.  ...  Penalty Spot     0.0\n",
              "  18108              51.0       24+ ft.  ...  Penalty Spot     0.0\n",
              "  19670              51.0       24+ ft.  ...  Penalty Spot     0.0\n",
              "  20815              51.0       24+ ft.  ...  Penalty Spot     0.0\n",
              "  22200              51.0       24+ ft.  ...  Penalty Spot     0.0\n",
              "  22733              51.0       24+ ft.  ...  Penalty Spot     0.0\n",
              "  22875              51.0       24+ ft.  ...  Penalty Spot     0.0\n",
              "  24397              51.0       24+ ft.  ...  Penalty Spot     0.0\n",
              "  24527              51.0       24+ ft.  ...  Penalty Spot     0.0\n",
              "  29800              51.0       24+ ft.  ...  Penalty Spot     0.0\n",
              "  30314              51.0       24+ ft.  ...  Penalty Spot     0.0\n",
              "  \n",
              "  [21 rows x 5 columns]),\n",
              " ((51.0, 1.0),        distance_of_shot range_of_shot  ...   shot_basics is_goal\n",
              "  18148              51.0       24+ ft.  ...  Penalty Spot     1.0\n",
              "  \n",
              "  [1 rows x 5 columns]),\n",
              " ((52.0, 0.0),        distance_of_shot range_of_shot  ...   shot_basics is_goal\n",
              "  2394               52.0       24+ ft.  ...  Penalty Spot     0.0\n",
              "  16272              52.0       24+ ft.  ...  Penalty Spot     0.0\n",
              "  19155              52.0       24+ ft.  ...  Penalty Spot     0.0\n",
              "  20990              52.0       24+ ft.  ...  Penalty Spot     0.0\n",
              "  21636              52.0           NaN  ...  Penalty Spot     0.0\n",
              "  23035              52.0       24+ ft.  ...  Penalty Spot     0.0\n",
              "  30286              52.0       24+ ft.  ...  Penalty Spot     0.0\n",
              "  \n",
              "  [7 rows x 5 columns]),\n",
              " ((53.0, 0.0),        distance_of_shot range_of_shot  ...   shot_basics is_goal\n",
              "  454                53.0       24+ ft.  ...  Penalty Spot     0.0\n",
              "  26076              53.0       24+ ft.  ...  Penalty Spot     0.0\n",
              "  27813              53.0       24+ ft.  ...  Penalty Spot     0.0\n",
              "  \n",
              "  [3 rows x 5 columns]),\n",
              " ((54.0, 0.0),        distance_of_shot range_of_shot  ...   shot_basics is_goal\n",
              "  16638              54.0           NaN  ...  Penalty Spot     0.0\n",
              "  17052              54.0       24+ ft.  ...  Penalty Spot     0.0\n",
              "  27549              54.0       24+ ft.  ...  Penalty Spot     0.0\n",
              "  29774              54.0       24+ ft.  ...  Penalty Spot     0.0\n",
              "  30475              54.0       24+ ft.  ...  Penalty Spot     0.0\n",
              "  \n",
              "  [5 rows x 5 columns]),\n",
              " ((54.0, 1.0),\n",
              "         distance_of_shot range_of_shot area_of_shot   shot_basics  is_goal\n",
              "  30332              54.0       24+ ft.    Center(C)  Penalty Spot      1.0),\n",
              " ((55.0, 0.0),        distance_of_shot range_of_shot  ...   shot_basics is_goal\n",
              "  2856               55.0       24+ ft.  ...  Penalty Spot     0.0\n",
              "  22509              55.0       24+ ft.  ...  Penalty Spot     0.0\n",
              "  25681              55.0       24+ ft.  ...  Penalty Spot     0.0\n",
              "  \n",
              "  [3 rows x 5 columns]),\n",
              " ((56.0, 0.0),        distance_of_shot range_of_shot  ...   shot_basics is_goal\n",
              "  487                56.0       24+ ft.  ...  Penalty Spot     0.0\n",
              "  12517              56.0       24+ ft.  ...  Penalty Spot     0.0\n",
              "  23732              56.0       24+ ft.  ...  Penalty Spot     0.0\n",
              "  26637              56.0           NaN  ...  Penalty Spot     0.0\n",
              "  28045              56.0       24+ ft.  ...  Penalty Spot     0.0\n",
              "  28126              56.0       24+ ft.  ...  Penalty Spot     0.0\n",
              "  \n",
              "  [6 rows x 5 columns]),\n",
              " ((57.0, 0.0),        distance_of_shot range_of_shot  ...   shot_basics is_goal\n",
              "  1857               57.0       24+ ft.  ...  Penalty Spot     0.0\n",
              "  2497               57.0       24+ ft.  ...  Penalty Spot     0.0\n",
              "  4728               57.0       24+ ft.  ...  Penalty Spot     0.0\n",
              "  5792               57.0       24+ ft.  ...  Penalty Spot     0.0\n",
              "  9587               57.0       24+ ft.  ...  Penalty Spot     0.0\n",
              "  10132              57.0       24+ ft.  ...           NaN     0.0\n",
              "  18580              57.0       24+ ft.  ...  Penalty Spot     0.0\n",
              "  25070              57.0       24+ ft.  ...  Penalty Spot     0.0\n",
              "  30369              57.0       24+ ft.  ...  Penalty Spot     0.0\n",
              "  \n",
              "  [9 rows x 5 columns]),\n",
              " ((57.0, 1.0),       distance_of_shot range_of_shot  ...   shot_basics is_goal\n",
              "  4113              57.0       24+ ft.  ...  Penalty Spot     1.0\n",
              "  \n",
              "  [1 rows x 5 columns]),\n",
              " ((58.0, 0.0),        distance_of_shot range_of_shot  ...   shot_basics is_goal\n",
              "  1221               58.0       24+ ft.  ...           NaN     0.0\n",
              "  3218               58.0       24+ ft.  ...  Penalty Spot     0.0\n",
              "  3824               58.0       24+ ft.  ...  Penalty Spot     0.0\n",
              "  3886               58.0       24+ ft.  ...  Penalty Spot     0.0\n",
              "  17493              58.0       24+ ft.  ...  Penalty Spot     0.0\n",
              "  \n",
              "  [5 rows x 5 columns]),\n",
              " ((59.0, 0.0),        distance_of_shot range_of_shot  ...   shot_basics is_goal\n",
              "  3792               59.0       24+ ft.  ...  Penalty Spot     0.0\n",
              "  15359              59.0       24+ ft.  ...  Penalty Spot     0.0\n",
              "  19029              59.0       24+ ft.  ...  Penalty Spot     0.0\n",
              "  23375              59.0       24+ ft.  ...           NaN     0.0\n",
              "  24857              59.0       24+ ft.  ...  Penalty Spot     0.0\n",
              "  \n",
              "  [5 rows x 5 columns]),\n",
              " ((60.0, 0.0),\n",
              "         distance_of_shot    range_of_shot  ...   shot_basics is_goal\n",
              "  1993               60.0          24+ ft.  ...  Penalty Spot     0.0\n",
              "  7341               60.0  Back Court Shot  ...  Penalty Spot     0.0\n",
              "  11318              60.0  Back Court Shot  ...  Penalty Spot     0.0\n",
              "  12253              60.0          24+ ft.  ...  Penalty Spot     0.0\n",
              "  17113              60.0          24+ ft.  ...  Penalty Spot     0.0\n",
              "  17880              60.0  Back Court Shot  ...  Penalty Spot     0.0\n",
              "  23408              60.0          24+ ft.  ...  Penalty Spot     0.0\n",
              "  \n",
              "  [7 rows x 5 columns]),\n",
              " ((61.0, 0.0),\n",
              "         distance_of_shot    range_of_shot    area_of_shot   shot_basics  is_goal\n",
              "  3839               61.0              NaN       Center(C)  Penalty Spot      0.0\n",
              "  4758               61.0  Back Court Shot  Mid Ground(MG)  Penalty Spot      0.0\n",
              "  15854              61.0  Back Court Shot  Mid Ground(MG)  Penalty Spot      0.0\n",
              "  16992              61.0  Back Court Shot  Mid Ground(MG)  Penalty Spot      0.0\n",
              "  25222              61.0          24+ ft.             NaN  Penalty Spot      0.0),\n",
              " ((62.0, 0.0),\n",
              "         distance_of_shot    range_of_shot  ...   shot_basics is_goal\n",
              "  313                62.0  Back Court Shot  ...  Penalty Spot     0.0\n",
              "  5450               62.0          24+ ft.  ...  Penalty Spot     0.0\n",
              "  5854               62.0          24+ ft.  ...  Penalty Spot     0.0\n",
              "  22624              62.0          24+ ft.  ...  Penalty Spot     0.0\n",
              "  23926              62.0          24+ ft.  ...  Penalty Spot     0.0\n",
              "  27784              62.0          24+ ft.  ...  Penalty Spot     0.0\n",
              "  \n",
              "  [6 rows x 5 columns]),\n",
              " ((63.0, 0.0),\n",
              "         distance_of_shot    range_of_shot  ...   shot_basics is_goal\n",
              "  1218               63.0          24+ ft.  ...  Penalty Spot     0.0\n",
              "  3506               63.0          24+ ft.  ...  Penalty Spot     0.0\n",
              "  15430              63.0          24+ ft.  ...  Penalty Spot     0.0\n",
              "  24216              63.0  Back Court Shot  ...  Penalty Spot     0.0\n",
              "  \n",
              "  [4 rows x 5 columns]),\n",
              " ((63.0, 1.0),\n",
              "        distance_of_shot    range_of_shot  ...      shot_basics is_goal\n",
              "  2696              63.0  Back Court Shot  ...  Mid Ground Line     1.0\n",
              "  \n",
              "  [1 rows x 5 columns]),\n",
              " ((64.0, 0.0),\n",
              "         distance_of_shot    range_of_shot  ...      shot_basics is_goal\n",
              "  8413               64.0  Back Court Shot  ...     Penalty Spot     0.0\n",
              "  10422              64.0  Back Court Shot  ...     Penalty Spot     0.0\n",
              "  24228              64.0  Back Court Shot  ...  Mid Ground Line     0.0\n",
              "  28742              64.0  Back Court Shot  ...  Mid Ground Line     0.0\n",
              "  \n",
              "  [4 rows x 5 columns]),\n",
              " ((65.0, 0.0),\n",
              "        distance_of_shot    range_of_shot  ...   shot_basics is_goal\n",
              "  397               65.0          24+ ft.  ...  Penalty Spot     0.0\n",
              "  9968              65.0  Back Court Shot  ...  Penalty Spot     0.0\n",
              "  \n",
              "  [2 rows x 5 columns]),\n",
              " ((66.0, 0.0),\n",
              "         distance_of_shot    range_of_shot  ...      shot_basics is_goal\n",
              "  12647              66.0  Back Court Shot  ...  Mid Ground Line     0.0\n",
              "  30149              66.0  Back Court Shot  ...  Mid Ground Line     0.0\n",
              "  \n",
              "  [2 rows x 5 columns]),\n",
              " ((67.0, 0.0),\n",
              "         distance_of_shot    range_of_shot  ...      shot_basics is_goal\n",
              "  177                67.0  Back Court Shot  ...  Mid Ground Line     0.0\n",
              "  4077               67.0  Back Court Shot  ...  Mid Ground Line     0.0\n",
              "  20586              67.0  Back Court Shot  ...  Mid Ground Line     0.0\n",
              "  \n",
              "  [3 rows x 5 columns]),\n",
              " ((68.0, 0.0),\n",
              "         distance_of_shot    range_of_shot  ...      shot_basics is_goal\n",
              "  322                68.0  Back Court Shot  ...  Mid Ground Line     0.0\n",
              "  6628               68.0  Back Court Shot  ...  Mid Ground Line     0.0\n",
              "  26162              68.0  Back Court Shot  ...  Mid Ground Line     0.0\n",
              "  \n",
              "  [3 rows x 5 columns]),\n",
              " ((69.0, 0.0),\n",
              "         distance_of_shot    range_of_shot  ...      shot_basics is_goal\n",
              "  11919              69.0  Back Court Shot  ...  Mid Ground Line     0.0\n",
              "  21355              69.0  Back Court Shot  ...  Mid Ground Line     0.0\n",
              "  \n",
              "  [2 rows x 5 columns]),\n",
              " ((70.0, 0.0),\n",
              "         distance_of_shot    range_of_shot  ...      shot_basics is_goal\n",
              "  5250               70.0  Back Court Shot  ...  Mid Ground Line     0.0\n",
              "  6016               70.0  Back Court Shot  ...  Mid Ground Line     0.0\n",
              "  20923              70.0  Back Court Shot  ...  Mid Ground Line     0.0\n",
              "  \n",
              "  [3 rows x 5 columns]),\n",
              " ((71.0, 0.0),\n",
              "         distance_of_shot    range_of_shot  ...      shot_basics is_goal\n",
              "  3553               71.0  Back Court Shot  ...  Mid Ground Line     0.0\n",
              "  16589              71.0  Back Court Shot  ...  Mid Ground Line     0.0\n",
              "  \n",
              "  [2 rows x 5 columns]),\n",
              " ((72.0, 0.0),\n",
              "         distance_of_shot    range_of_shot  ...      shot_basics is_goal\n",
              "  27656              72.0  Back Court Shot  ...  Mid Ground Line     0.0\n",
              "  30612              72.0  Back Court Shot  ...              NaN     0.0\n",
              "  \n",
              "  [2 rows x 5 columns]),\n",
              " ((73.0, 0.0),\n",
              "         distance_of_shot    range_of_shot  ...      shot_basics is_goal\n",
              "  24211              73.0  Back Court Shot  ...  Mid Ground Line     0.0\n",
              "  \n",
              "  [1 rows x 5 columns]),\n",
              " ((74.0, 0.0),\n",
              "        distance_of_shot    range_of_shot  ...      shot_basics is_goal\n",
              "  6418              74.0  Back Court Shot  ...  Mid Ground Line     0.0\n",
              "  \n",
              "  [1 rows x 5 columns]),\n",
              " ((75.0, 0.0),\n",
              "         distance_of_shot    range_of_shot  ...      shot_basics is_goal\n",
              "  3211               75.0  Back Court Shot  ...  Mid Ground Line     0.0\n",
              "  4864               75.0  Back Court Shot  ...  Mid Ground Line     0.0\n",
              "  12181              75.0  Back Court Shot  ...  Mid Ground Line     0.0\n",
              "  \n",
              "  [3 rows x 5 columns]),\n",
              " ((76.0, 0.0),\n",
              "         distance_of_shot    range_of_shot  ...      shot_basics is_goal\n",
              "  2523               76.0  Back Court Shot  ...              NaN     0.0\n",
              "  17569              76.0              NaN  ...  Mid Ground Line     0.0\n",
              "  20450              76.0  Back Court Shot  ...  Mid Ground Line     0.0\n",
              "  \n",
              "  [3 rows x 5 columns]),\n",
              " ((77.0, 0.0),\n",
              "         distance_of_shot    range_of_shot  ...      shot_basics is_goal\n",
              "  21800              77.0  Back Court Shot  ...  Mid Ground Line     0.0\n",
              "  \n",
              "  [1 rows x 5 columns]),\n",
              " ((78.0, 0.0),\n",
              "         distance_of_shot    range_of_shot  ...      shot_basics is_goal\n",
              "  14801              78.0  Back Court Shot  ...  Mid Ground Line     0.0\n",
              "  24135              78.0  Back Court Shot  ...  Mid Ground Line     0.0\n",
              "  24330              78.0  Back Court Shot  ...  Mid Ground Line     0.0\n",
              "  30574              78.0  Back Court Shot  ...  Mid Ground Line     0.0\n",
              "  \n",
              "  [4 rows x 5 columns]),\n",
              " ((79.0, 0.0),\n",
              "         distance_of_shot    range_of_shot  ...      shot_basics is_goal\n",
              "  9437               79.0  Back Court Shot  ...  Mid Ground Line     0.0\n",
              "  25439              79.0  Back Court Shot  ...  Mid Ground Line     0.0\n",
              "  \n",
              "  [2 rows x 5 columns]),\n",
              " ((80.0, 0.0),\n",
              "        distance_of_shot    range_of_shot  ...      shot_basics is_goal\n",
              "  6352              80.0  Back Court Shot  ...  Mid Ground Line     0.0\n",
              "  \n",
              "  [1 rows x 5 columns]),\n",
              " ((81.0, 0.0),\n",
              "        distance_of_shot    range_of_shot  ...      shot_basics is_goal\n",
              "  8442              81.0  Back Court Shot  ...  Mid Ground Line     0.0\n",
              "  \n",
              "  [1 rows x 5 columns]),\n",
              " ((82.0, 0.0),\n",
              "         distance_of_shot    range_of_shot  ...      shot_basics is_goal\n",
              "  585                82.0  Back Court Shot  ...  Mid Ground Line     0.0\n",
              "  27311              82.0  Back Court Shot  ...  Mid Ground Line     0.0\n",
              "  30047              82.0  Back Court Shot  ...  Mid Ground Line     0.0\n",
              "  \n",
              "  [3 rows x 5 columns]),\n",
              " ((84.0, 0.0),\n",
              "         distance_of_shot    range_of_shot  ...      shot_basics is_goal\n",
              "  4378               84.0              NaN  ...  Mid Ground Line     0.0\n",
              "  15900              84.0  Back Court Shot  ...  Mid Ground Line     0.0\n",
              "  \n",
              "  [2 rows x 5 columns]),\n",
              " ((85.0, 0.0),\n",
              "        distance_of_shot    range_of_shot  ...      shot_basics is_goal\n",
              "  9269              85.0  Back Court Shot  ...  Mid Ground Line     0.0\n",
              "  \n",
              "  [1 rows x 5 columns]),\n",
              " ((87.0, 0.0),\n",
              "         distance_of_shot    range_of_shot  ...      shot_basics is_goal\n",
              "  26961              87.0  Back Court Shot  ...  Mid Ground Line     0.0\n",
              "  30689              87.0  Back Court Shot  ...  Mid Ground Line     0.0\n",
              "  \n",
              "  [2 rows x 5 columns]),\n",
              " ((88.0, 0.0),\n",
              "        distance_of_shot    range_of_shot  ...      shot_basics is_goal\n",
              "  3715              88.0  Back Court Shot  ...  Mid Ground Line     0.0\n",
              "  5293              88.0  Back Court Shot  ...  Mid Ground Line     0.0\n",
              "  \n",
              "  [2 rows x 5 columns]),\n",
              " ((89.0, 0.0),\n",
              "         distance_of_shot    range_of_shot  ...      shot_basics is_goal\n",
              "  20498              89.0  Back Court Shot  ...  Mid Ground Line     0.0\n",
              "  \n",
              "  [1 rows x 5 columns]),\n",
              " ((90.0, 0.0),\n",
              "        distance_of_shot    range_of_shot  ...      shot_basics is_goal\n",
              "  1073              90.0  Back Court Shot  ...  Mid Ground Line     0.0\n",
              "  7526              90.0  Back Court Shot  ...  Mid Ground Line     0.0\n",
              "  \n",
              "  [2 rows x 5 columns]),\n",
              " ((91.0, 0.0),\n",
              "         distance_of_shot    range_of_shot  ...      shot_basics is_goal\n",
              "  27507              91.0  Back Court Shot  ...  Mid Ground Line     0.0\n",
              "  \n",
              "  [1 rows x 5 columns]),\n",
              " ((94.0, 0.0),\n",
              "         distance_of_shot    range_of_shot  ...      shot_basics is_goal\n",
              "  6650               94.0  Back Court Shot  ...              NaN     0.0\n",
              "  13026              94.0  Back Court Shot  ...  Mid Ground Line     0.0\n",
              "  29137              94.0  Back Court Shot  ...  Mid Ground Line     0.0\n",
              "  \n",
              "  [3 rows x 5 columns]),\n",
              " ((97.0, 0.0),\n",
              "         distance_of_shot    range_of_shot  ...      shot_basics is_goal\n",
              "  27991              97.0  Back Court Shot  ...  Mid Ground Line     0.0\n",
              "  \n",
              "  [1 rows x 5 columns]),\n",
              " ((99.0, 0.0),\n",
              "         distance_of_shot    range_of_shot  ...      shot_basics is_goal\n",
              "  29122              99.0  Back Court Shot  ...  Mid Ground Line     0.0\n",
              "  \n",
              "  [1 rows x 5 columns])]"
            ]
          },
          "metadata": {
            "tags": []
          },
          "execution_count": 74
        }
      ]
    },
    {
      "cell_type": "markdown",
      "metadata": {
        "id": "-S3SiV526p5t",
        "colab_type": "text"
      },
      "source": [
        "**3.Replace nan values of distance_of_shot with mode of the same column.**\n",
        "\n",
        "We will run the below query to replace the nan values of the original (distance_of_shot). We will use the mode of the distance_of_shot column and not the duplicate columns. The reason being the duplicate column as many vague values when we relate with other columns eg as given below in the query output.\n",
        "\n",
        "For 'less than 8ft' we have distance high as 106.4 which is not possible. Similarly for range '24+ft' distance cannot be low as 9.4\n",
        "\n",
        " Similarly, there are many such wrong values in distance_of_shot.1 (duplicate)column"
      ]
    },
    {
      "cell_type": "code",
      "metadata": {
        "id": "U5fTKs8emxDZ",
        "colab_type": "code",
        "outputId": "a5fa7aa4-e573-4060-85f1-8a23c551dc68",
        "colab": {
          "base_uri": "https://localhost:8080/",
          "height": 77
        }
      },
      "source": [
        "df[['distance_of_shot','range_of_shot','distance_of_shot.1']][2208:2209]"
      ],
      "execution_count": 0,
      "outputs": [
        {
          "output_type": "execute_result",
          "data": {
            "text/html": [
              "<div>\n",
              "<style scoped>\n",
              "    .dataframe tbody tr th:only-of-type {\n",
              "        vertical-align: middle;\n",
              "    }\n",
              "\n",
              "    .dataframe tbody tr th {\n",
              "        vertical-align: top;\n",
              "    }\n",
              "\n",
              "    .dataframe thead th {\n",
              "        text-align: right;\n",
              "    }\n",
              "</style>\n",
              "<table border=\"1\" class=\"dataframe\">\n",
              "  <thead>\n",
              "    <tr style=\"text-align: right;\">\n",
              "      <th></th>\n",
              "      <th>distance_of_shot</th>\n",
              "      <th>range_of_shot</th>\n",
              "      <th>distance_of_shot.1</th>\n",
              "    </tr>\n",
              "  </thead>\n",
              "  <tbody>\n",
              "    <tr>\n",
              "      <th>2208</th>\n",
              "      <td>23.0</td>\n",
              "      <td>Less Than 8 ft.</td>\n",
              "      <td>106.4</td>\n",
              "    </tr>\n",
              "  </tbody>\n",
              "</table>\n",
              "</div>"
            ],
            "text/plain": [
              "      distance_of_shot    range_of_shot  distance_of_shot.1\n",
              "2208              23.0  Less Than 8 ft.               106.4"
            ]
          },
          "metadata": {
            "tags": []
          },
          "execution_count": 78
        }
      ]
    },
    {
      "cell_type": "code",
      "metadata": {
        "id": "veSEU74Aoht8",
        "colab_type": "code",
        "outputId": "426704bf-6f17-4f37-b34d-9a933d29bece",
        "colab": {
          "base_uri": "https://localhost:8080/",
          "height": 77
        }
      },
      "source": [
        "df[['distance_of_shot','range_of_shot','distance_of_shot.1']][18223:18224]"
      ],
      "execution_count": 0,
      "outputs": [
        {
          "output_type": "execute_result",
          "data": {
            "text/html": [
              "<div>\n",
              "<style scoped>\n",
              "    .dataframe tbody tr th:only-of-type {\n",
              "        vertical-align: middle;\n",
              "    }\n",
              "\n",
              "    .dataframe tbody tr th {\n",
              "        vertical-align: top;\n",
              "    }\n",
              "\n",
              "    .dataframe thead th {\n",
              "        text-align: right;\n",
              "    }\n",
              "</style>\n",
              "<table border=\"1\" class=\"dataframe\">\n",
              "  <thead>\n",
              "    <tr style=\"text-align: right;\">\n",
              "      <th></th>\n",
              "      <th>distance_of_shot</th>\n",
              "      <th>range_of_shot</th>\n",
              "      <th>distance_of_shot.1</th>\n",
              "    </tr>\n",
              "  </thead>\n",
              "  <tbody>\n",
              "    <tr>\n",
              "      <th>18223</th>\n",
              "      <td>49.0</td>\n",
              "      <td>24+ ft.</td>\n",
              "      <td>9.4</td>\n",
              "    </tr>\n",
              "  </tbody>\n",
              "</table>\n",
              "</div>"
            ],
            "text/plain": [
              "       distance_of_shot range_of_shot  distance_of_shot.1\n",
              "18223              49.0       24+ ft.                 9.4"
            ]
          },
          "metadata": {
            "tags": []
          },
          "execution_count": 77
        }
      ]
    },
    {
      "cell_type": "code",
      "metadata": {
        "id": "WVwSFNVl2VBN",
        "colab_type": "code",
        "outputId": "3ac848eb-6865-40d5-b544-118f5371e522",
        "colab": {
          "base_uri": "https://localhost:8080/",
          "height": 50
        }
      },
      "source": [
        "##REPLACE NAN VALUES WITH MODE OF THE SAME COLUMN.\n",
        "print('Nan values before mode for     ',df[['distance_of_shot']].isnull().sum()) \n",
        "\n",
        "#for ind,r in df.iterrows():\n",
        "    \n",
        "    #if math.isnan(r.get('distance_of_shot')):\n",
        "mode_val=df['distance_of_shot'].mode().values[0]\n",
        "df['distance_of_shot'] = df['distance_of_shot'].replace({ np.nan:mode_val})\n",
        "      \n",
        "      #df.at[ind,'distance_of_shot']=r.get('distance_of_shot.1')\n",
        "\n",
        "\n",
        "\n",
        "#Since there are still 97 row with NaN.May be both the columns have  NaN  therefore it cannot replace NaN Vvalues.Therefore replacing value with the mode of distance_of_shot column\n",
        "\n",
        "        \n"
      ],
      "execution_count": 0,
      "outputs": [
        {
          "output_type": "stream",
          "text": [
            "Nan values before mode for      distance_of_shot    1567\n",
            "dtype: int64\n"
          ],
          "name": "stdout"
        }
      ]
    },
    {
      "cell_type": "code",
      "metadata": {
        "id": "fuRqplIKJxkO",
        "colab_type": "code",
        "outputId": "308822e8-af01-41a9-8139-fea6d58cb12f",
        "colab": {
          "base_uri": "https://localhost:8080/",
          "height": 50
        }
      },
      "source": [
        "print('Nan values after mode for ',df[['distance_of_shot']].isnull().sum()) "
      ],
      "execution_count": 0,
      "outputs": [
        {
          "output_type": "stream",
          "text": [
            "Nan values after mode for  distance_of_shot    0\n",
            "dtype: int64\n"
          ],
          "name": "stdout"
        }
      ]
    },
    {
      "cell_type": "markdown",
      "metadata": {
        "id": "IJz2EkMS7-Pm",
        "colab_type": "text"
      },
      "source": [
        "**4.Replace the nan values of area_of_shot,range_of_shot,shot_basics with respect to their corresponding distance_of_shot.**\n",
        "\n",
        "We will replace nan for these columns using the distance_of_shot column.\n",
        "For eg. for column range_of_shot.We will create a temporary data frame consisting of 2 columns 'distance_of_shot, 'range_of_shot'. We will apply the group by on distance_of_shot given range_of_shot. As an output(given below), every distance is associated with a particular range. So a for a row with nan value in range_of_shot, the corresponding distance_of_shot value will be matched with the group by data, and the corresponding range_of_shot from the group by data will be replaced with nan value in the actual range_of_shot column.\n",
        "\n",
        "The same process will be done for other columns.\n",
        "\n",
        "\n",
        "Below is an example of the group by query output which is the base to replace the actual column values.\n",
        "\n",
        "We will perform the replacement on nan values of all the columns in for a loop in the below sub-section.\n",
        "\n"
      ]
    },
    {
      "cell_type": "code",
      "metadata": {
        "id": "AMjNe88g73VG",
        "colab_type": "code",
        "outputId": "ee6978c8-d680-43d6-a228-ecee6d3dd41e",
        "colab": {
          "base_uri": "https://localhost:8080/",
          "height": 1000
        }
      },
      "source": [
        "temp=df[['distance_of_shot','range_of_shot']].copy()\n",
        "grp=temp.groupby(['distance_of_shot'])['range_of_shot']\n",
        "list(grp)"
      ],
      "execution_count": 0,
      "outputs": [
        {
          "output_type": "execute_result",
          "data": {
            "text/plain": [
              "[(20.0, 4        Less Than 8 ft.\n",
              "  6        Less Than 8 ft.\n",
              "  12              8-16 ft.\n",
              "  16       Less Than 8 ft.\n",
              "  19       Less Than 8 ft.\n",
              "                ...       \n",
              "  30678    Less Than 8 ft.\n",
              "  30679    Less Than 8 ft.\n",
              "  30680    Less Than 8 ft.\n",
              "  30691    Less Than 8 ft.\n",
              "  30693    Less Than 8 ft.\n",
              "  Name: range_of_shot, Length: 6825, dtype: object),\n",
              " (21.0, 34       Less Than 8 ft.\n",
              "  35       Less Than 8 ft.\n",
              "  51       Less Than 8 ft.\n",
              "  977      Less Than 8 ft.\n",
              "  1147     Less Than 8 ft.\n",
              "                ...       \n",
              "  30246    Less Than 8 ft.\n",
              "  30263    Less Than 8 ft.\n",
              "  30637    Less Than 8 ft.\n",
              "  30649    Less Than 8 ft.\n",
              "  30656    Less Than 8 ft.\n",
              "  Name: range_of_shot, Length: 597, dtype: object),\n",
              " (22.0, 7        Less Than 8 ft.\n",
              "  44       Less Than 8 ft.\n",
              "  400      Less Than 8 ft.\n",
              "  1152     Less Than 8 ft.\n",
              "  1156     Less Than 8 ft.\n",
              "                ...       \n",
              "  30377    Less Than 8 ft.\n",
              "  30398    Less Than 8 ft.\n",
              "  30643    Less Than 8 ft.\n",
              "  30660    Less Than 8 ft.\n",
              "  30665    Less Than 8 ft.\n",
              "  Name: range_of_shot, Length: 541, dtype: object),\n",
              " (23.0, 320      Less Than 8 ft.\n",
              "  324                  NaN\n",
              "  325      Less Than 8 ft.\n",
              "  619      Less Than 8 ft.\n",
              "  1150     Less Than 8 ft.\n",
              "                ...       \n",
              "  30535    Less Than 8 ft.\n",
              "  30635    Less Than 8 ft.\n",
              "  30636    Less Than 8 ft.\n",
              "  30648    Less Than 8 ft.\n",
              "  30653    Less Than 8 ft.\n",
              "  Name: range_of_shot, Length: 361, dtype: object),\n",
              " (24.0, 99       Less Than 8 ft.\n",
              "  135      Less Than 8 ft.\n",
              "  306      Less Than 8 ft.\n",
              "  425      Less Than 8 ft.\n",
              "  437      Less Than 8 ft.\n",
              "                ...       \n",
              "  30387                NaN\n",
              "  30457    Less Than 8 ft.\n",
              "  30540    Less Than 8 ft.\n",
              "  30626    Less Than 8 ft.\n",
              "  30692    Less Than 8 ft.\n",
              "  Name: range_of_shot, Length: 350, dtype: object),\n",
              " (25.0, 14       Less Than 8 ft.\n",
              "  43       Less Than 8 ft.\n",
              "  61       Less Than 8 ft.\n",
              "  63       Less Than 8 ft.\n",
              "  137      Less Than 8 ft.\n",
              "                ...       \n",
              "  30390    Less Than 8 ft.\n",
              "  30394    Less Than 8 ft.\n",
              "  30617    Less Than 8 ft.\n",
              "  30633    Less Than 8 ft.\n",
              "  30662    Less Than 8 ft.\n",
              "  Name: range_of_shot, Length: 508, dtype: object),\n",
              " (26.0, 419      Less Than 8 ft.\n",
              "  428      Less Than 8 ft.\n",
              "  456      Less Than 8 ft.\n",
              "  458      Less Than 8 ft.\n",
              "  475      Less Than 8 ft.\n",
              "                ...       \n",
              "  30562    Less Than 8 ft.\n",
              "  30628    Less Than 8 ft.\n",
              "  30634    Less Than 8 ft.\n",
              "  30641    Less Than 8 ft.\n",
              "  30664    Less Than 8 ft.\n",
              "  Name: range_of_shot, Length: 611, dtype: object),\n",
              " (27.0, 24       Less Than 8 ft.\n",
              "  52       Less Than 8 ft.\n",
              "  73       Less Than 8 ft.\n",
              "  79       Less Than 8 ft.\n",
              "  84       Less Than 8 ft.\n",
              "                ...       \n",
              "  30595    Less Than 8 ft.\n",
              "  30610    Less Than 8 ft.\n",
              "  30639    Less Than 8 ft.\n",
              "  30670    Less Than 8 ft.\n",
              "  30696    Less Than 8 ft.\n",
              "  Name: range_of_shot, Length: 672, dtype: object),\n",
              " (28.0, 29       8-16 ft.\n",
              "  78       8-16 ft.\n",
              "  211      8-16 ft.\n",
              "  232      8-16 ft.\n",
              "  338      8-16 ft.\n",
              "             ...   \n",
              "  30266    8-16 ft.\n",
              "  30499    8-16 ft.\n",
              "  30557    8-16 ft.\n",
              "  30651    8-16 ft.\n",
              "  30682    8-16 ft.\n",
              "  Name: range_of_shot, Length: 640, dtype: object),\n",
              " (29.0, 13       8-16 ft.\n",
              "  65            NaN\n",
              "  110      8-16 ft.\n",
              "  130      8-16 ft.\n",
              "  185      8-16 ft.\n",
              "             ...   \n",
              "  30551    8-16 ft.\n",
              "  30565    8-16 ft.\n",
              "  30590    8-16 ft.\n",
              "  30615    8-16 ft.\n",
              "  30686    8-16 ft.\n",
              "  Name: range_of_shot, Length: 581, dtype: object),\n",
              " (30.0, 186      8-16 ft.\n",
              "  255      8-16 ft.\n",
              "  300      8-16 ft.\n",
              "  446      8-16 ft.\n",
              "  453      8-16 ft.\n",
              "             ...   \n",
              "  30391         NaN\n",
              "  30631    8-16 ft.\n",
              "  30663    8-16 ft.\n",
              "  30672    8-16 ft.\n",
              "  30687    8-16 ft.\n",
              "  Name: range_of_shot, Length: 668, dtype: object),\n",
              " (31.0, 22       8-16 ft.\n",
              "  60       8-16 ft.\n",
              "  107      8-16 ft.\n",
              "  131      8-16 ft.\n",
              "  136      8-16 ft.\n",
              "             ...   \n",
              "  30581    8-16 ft.\n",
              "  30603    8-16 ft.\n",
              "  30605    8-16 ft.\n",
              "  30607    8-16 ft.\n",
              "  30673    8-16 ft.\n",
              "  Name: range_of_shot, Length: 652, dtype: object),\n",
              " (32.0, 8        8-16 ft.\n",
              "  9        8-16 ft.\n",
              "  64       8-16 ft.\n",
              "  66       8-16 ft.\n",
              "  104           NaN\n",
              "             ...   \n",
              "  30513    8-16 ft.\n",
              "  30521    8-16 ft.\n",
              "  30589    8-16 ft.\n",
              "  30600    8-16 ft.\n",
              "  30640    8-16 ft.\n",
              "  Name: range_of_shot, Length: 745, dtype: object),\n",
              " (33.0, 31       8-16 ft.\n",
              "  77       8-16 ft.\n",
              "  80       8-16 ft.\n",
              "  85       8-16 ft.\n",
              "  92       8-16 ft.\n",
              "             ...   \n",
              "  30559    8-16 ft.\n",
              "  30618    8-16 ft.\n",
              "  30642    8-16 ft.\n",
              "  30684    8-16 ft.\n",
              "  30688    8-16 ft.\n",
              "  Name: range_of_shot, Length: 892, dtype: object),\n",
              " (34.0, 5        8-16 ft.\n",
              "  20       8-16 ft.\n",
              "  89       8-16 ft.\n",
              "  98       8-16 ft.\n",
              "  266      8-16 ft.\n",
              "             ...   \n",
              "  30609    8-16 ft.\n",
              "  30623    8-16 ft.\n",
              "  30624    8-16 ft.\n",
              "  30655    8-16 ft.\n",
              "  30676    8-16 ft.\n",
              "  Name: range_of_shot, Length: 1011, dtype: object),\n",
              " (35.0, 1        8-16 ft.\n",
              "  81       8-16 ft.\n",
              "  88       8-16 ft.\n",
              "  90       8-16 ft.\n",
              "  91       8-16 ft.\n",
              "             ...   \n",
              "  30567    8-16 ft.\n",
              "  30572    8-16 ft.\n",
              "  30620    8-16 ft.\n",
              "  30644    8-16 ft.\n",
              "  30690    8-16 ft.\n",
              "  Name: range_of_shot, Length: 1103, dtype: object),\n",
              " (36.0, 2        16-24 ft.\n",
              "  18       16-24 ft.\n",
              "  37             NaN\n",
              "  108      16-24 ft.\n",
              "  109      16-24 ft.\n",
              "             ...    \n",
              "  30606          NaN\n",
              "  30629    16-24 ft.\n",
              "  30638    16-24 ft.\n",
              "  30650          NaN\n",
              "  30659    16-24 ft.\n",
              "  Name: range_of_shot, Length: 1339, dtype: object),\n",
              " (37.0, 11       16-24 ft.\n",
              "  32       16-24 ft.\n",
              "  48       16-24 ft.\n",
              "  49             NaN\n",
              "  102      16-24 ft.\n",
              "             ...    \n",
              "  30613    16-24 ft.\n",
              "  30614    16-24 ft.\n",
              "  30622    16-24 ft.\n",
              "  30625    16-24 ft.\n",
              "  30669    16-24 ft.\n",
              "  Name: range_of_shot, Length: 1415, dtype: object),\n",
              " (38.0, 0        16-24 ft.\n",
              "  21       16-24 ft.\n",
              "  23       16-24 ft.\n",
              "  40       16-24 ft.\n",
              "  53       16-24 ft.\n",
              "             ...    \n",
              "  30577    16-24 ft.\n",
              "  30578    16-24 ft.\n",
              "  30627    16-24 ft.\n",
              "  30666    16-24 ft.\n",
              "  30677    16-24 ft.\n",
              "  Name: range_of_shot, Length: 1341, dtype: object),\n",
              " (39.0, 28       16-24 ft.\n",
              "  70       16-24 ft.\n",
              "  87       16-24 ft.\n",
              "  105      16-24 ft.\n",
              "  179      16-24 ft.\n",
              "             ...    \n",
              "  30531    16-24 ft.\n",
              "  30538    16-24 ft.\n",
              "  30554    16-24 ft.\n",
              "  30558    16-24 ft.\n",
              "  30588          NaN\n",
              "  Name: range_of_shot, Length: 1299, dtype: object),\n",
              " (40.0, 15       16-24 ft.\n",
              "  26       16-24 ft.\n",
              "  33       16-24 ft.\n",
              "  38       16-24 ft.\n",
              "  42       16-24 ft.\n",
              "             ...    \n",
              "  30575    16-24 ft.\n",
              "  30599    16-24 ft.\n",
              "  30616    16-24 ft.\n",
              "  30630    16-24 ft.\n",
              "  30654    16-24 ft.\n",
              "  Name: range_of_shot, Length: 1144, dtype: object),\n",
              " (41.0, 112      16-24 ft.\n",
              "  113      16-24 ft.\n",
              "  165      16-24 ft.\n",
              "  166      16-24 ft.\n",
              "  173      16-24 ft.\n",
              "             ...    \n",
              "  30556    16-24 ft.\n",
              "  30596    16-24 ft.\n",
              "  30652    16-24 ft.\n",
              "  30683    16-24 ft.\n",
              "  30694    16-24 ft.\n",
              "  Name: range_of_shot, Length: 768, dtype: object),\n",
              " (42.0, 3        16-24 ft.\n",
              "  56       16-24 ft.\n",
              "  75       16-24 ft.\n",
              "  272      16-24 ft.\n",
              "  375      16-24 ft.\n",
              "             ...    \n",
              "  30564    16-24 ft.\n",
              "  30604      24+ ft.\n",
              "  30646    16-24 ft.\n",
              "  30657    16-24 ft.\n",
              "  30668    16-24 ft.\n",
              "  Name: range_of_shot, Length: 646, dtype: object),\n",
              " (43.0, 67         24+ ft.\n",
              "  143        24+ ft.\n",
              "  219      16-24 ft.\n",
              "  267        24+ ft.\n",
              "  373        24+ ft.\n",
              "             ...    \n",
              "  30207      24+ ft.\n",
              "  30267      24+ ft.\n",
              "  30448          NaN\n",
              "  30647    16-24 ft.\n",
              "  30658    16-24 ft.\n",
              "  Name: range_of_shot, Length: 539, dtype: object),\n",
              " (44.0, 55       24+ ft.\n",
              "  82       24+ ft.\n",
              "  97       24+ ft.\n",
              "  180      24+ ft.\n",
              "  182      24+ ft.\n",
              "            ...   \n",
              "  30583    24+ ft.\n",
              "  30584    24+ ft.\n",
              "  30619    24+ ft.\n",
              "  30621    24+ ft.\n",
              "  30674    24+ ft.\n",
              "  Name: range_of_shot, Length: 1433, dtype: object),\n",
              " (45.0, 10       24+ ft.\n",
              "  17           NaN\n",
              "  71       24+ ft.\n",
              "  74       24+ ft.\n",
              "  95       24+ ft.\n",
              "            ...   \n",
              "  30582    24+ ft.\n",
              "  30594    24+ ft.\n",
              "  30602    24+ ft.\n",
              "  30667    24+ ft.\n",
              "  30675    24+ ft.\n",
              "  Name: range_of_shot, Length: 1856, dtype: object),\n",
              " (46.0, 27       24+ ft.\n",
              "  209      24+ ft.\n",
              "  241      24+ ft.\n",
              "  248      24+ ft.\n",
              "  277      24+ ft.\n",
              "            ...   \n",
              "  30585    24+ ft.\n",
              "  30586    24+ ft.\n",
              "  30681    24+ ft.\n",
              "  30685    24+ ft.\n",
              "  30695        NaN\n",
              "  Name: range_of_shot, Length: 1213, dtype: object),\n",
              " (47.0, 39       24+ ft.\n",
              "  124          NaN\n",
              "  148      24+ ft.\n",
              "  228      24+ ft.\n",
              "  286      24+ ft.\n",
              "            ...   \n",
              "  30158    24+ ft.\n",
              "  30198    24+ ft.\n",
              "  30494    24+ ft.\n",
              "  30579    24+ ft.\n",
              "  30591    24+ ft.\n",
              "  Name: range_of_shot, Length: 486, dtype: object),\n",
              " (48.0, 54       24+ ft.\n",
              "  59       24+ ft.\n",
              "  304      24+ ft.\n",
              "  349      24+ ft.\n",
              "  1162     24+ ft.\n",
              "            ...   \n",
              "  29768    24+ ft.\n",
              "  29825    24+ ft.\n",
              "  30033    24+ ft.\n",
              "  30144    24+ ft.\n",
              "  30399    24+ ft.\n",
              "  Name: range_of_shot, Length: 181, dtype: object),\n",
              " (49.0, 200      24+ ft.\n",
              "  515      24+ ft.\n",
              "  748      24+ ft.\n",
              "  795          NaN\n",
              "  1772     24+ ft.\n",
              "            ...   \n",
              "  26923    24+ ft.\n",
              "  28025    24+ ft.\n",
              "  28559    24+ ft.\n",
              "  29316    24+ ft.\n",
              "  29694    24+ ft.\n",
              "  Name: range_of_shot, Length: 77, dtype: object)]"
            ]
          },
          "metadata": {
            "tags": []
          },
          "execution_count": 84
        }
      ]
    },
    {
      "cell_type": "code",
      "metadata": {
        "id": "z2ztEfNnlXcp",
        "colab_type": "code",
        "outputId": "f1b426f2-93fa-4cd9-b2c3-eba847673573",
        "colab": {
          "base_uri": "https://localhost:8080/",
          "height": 84
        }
      },
      "source": [
        "print('Nan values before replacing for ',df[['range_of_shot','shot_basics','area_of_shot']].isnull().sum()) \n",
        "#MAKE A LIST OF COLUMN FOR WHICH YOU NEED TO REPLACE THE NAN VALUES\n",
        "replace_nan=['shot_basics','range_of_shot','area_of_shot']\n",
        "\n",
        "for col in replace_nan:\n",
        "\n",
        "  replace_col_df=df[['distance_of_shot',col]].copy()\n",
        "  grp=replace_col_df.groupby(['distance_of_shot'])[col]\n",
        "  df[col]=df.apply(lambda x : grp.get_group(float(x['distance_of_shot'])).mode().values[0] if pd.isnull(x[col])else x[col],axis=1)\n"
      ],
      "execution_count": 0,
      "outputs": [
        {
          "output_type": "stream",
          "text": [
            "Nan values before mode for  range_of_shot    1564\n",
            "shot_basics      1575\n",
            "area_of_shot     1502\n",
            "dtype: int64\n"
          ],
          "name": "stdout"
        }
      ]
    },
    {
      "cell_type": "code",
      "metadata": {
        "id": "e42A6CVuJ3RI",
        "colab_type": "code",
        "outputId": "c5788aab-083e-4027-f2ed-f5945d4f91e4",
        "colab": {
          "base_uri": "https://localhost:8080/",
          "height": 84
        }
      },
      "source": [
        "print('Nan values after replacing for ',df[['range_of_shot','shot_basics','area_of_shot']].isnull().sum()) "
      ],
      "execution_count": 0,
      "outputs": [
        {
          "output_type": "stream",
          "text": [
            "Nan values after mode for  range_of_shot    0\n",
            "shot_basics      0\n",
            "area_of_shot     0\n",
            "dtype: int64\n"
          ],
          "name": "stdout"
        }
      ]
    },
    {
      "cell_type": "markdown",
      "metadata": {
        "id": "W-gWXHmxLddn",
        "colab_type": "text"
      },
      "source": [
        "**4g)Team_Name column and Team_id columns**\n",
        "\n",
        "Both the columns consist of the same value (1610612747, Manchester United) for all the rows of the data set. There is no pattern that we can study, therefore it cannot contribute to predicting the scoring of the goals.Thereby both columns will be excluded while building a predictive model."
      ]
    },
    {
      "cell_type": "markdown",
      "metadata": {
        "id": "tRMngym9M_77",
        "colab_type": "text"
      },
      "source": [
        "**4h)Game_season and Game_of_date columns (match_id column will be used to along to analysis further, refer section 4a)**\n",
        "\n",
        "\n",
        "The column game_season contains a value in the form of eg '2000-01', where the first part is the year the game was played followed by 01 an identifier for the match. From this, the year we can extract from the date_of_game column and identifier serves no purpose in predicting scoring of a goal. Therefore this column will not be included in the predictive algorithm.\n",
        "\n",
        "From the data_of_game column, we get some basic information like the match season spans from October – June and year span from 1996-2013. These detail will be further analyzed.\n",
        "\n",
        "The column date_of_game, as a whole, will not be used rather we will extract the month and year from the values. The month and year along with the match_id will then be used to further analyze. We will be able to analyze the performance of the player month and year wise. Both analyses will give us a pattern of players' performance like which months he performed the best or year when his performance was at the pick. There are possibilities the weather of certain months may/may not suit him or initial years he performed well and later it slowed down etc. Such or similar patterns will help us in predicting the scoring of a goal. Therefore this column will be used along with match_id  to get a performance report.\n",
        "\n",
        "This column will be included in the predictive model.\n",
        "\n",
        "To begin with, we need to replace the nan values of this column. For the same match_id's we have the same date in date_of_game column. Using this logic, for a given row having a nan value, we will get the match_id, compare this match_id with the same such value in the dataset, get the corresponding date from the date_of_game column. This value will be used to replace the nan of that given row. \n",
        "\n",
        "We will then run the below query to extract the month and year from the values.Create 2 new columns 'month_name and 'year'. Later drop the original date_of_game column.\n",
        "\n",
        "Thereafter run the query to get the detail of goal scored month and year wise."
      ]
    },
    {
      "cell_type": "code",
      "metadata": {
        "id": "dhGmPro7Neli",
        "colab_type": "code",
        "outputId": "34d44a92-9d1d-4bfe-b09a-b56b5ad7514b",
        "colab": {
          "base_uri": "https://localhost:8080/",
          "height": 50
        }
      },
      "source": [
        "#Replace the nan value of the date_of_game column my comparing the match_id. \n",
        "#The same match_id will have the same date in the date_of_game column. Therefore compare the match_id of the given row with all the match_id's in the data frame.\n",
        "# For the matching value get the corresponding date from the date_of_game column.\n",
        "\n",
        "print('Nan values before replacing for ',df[['date_of_game']].isnull().sum()) \n",
        "\n",
        "for ind,r in df.iterrows():\n",
        "    \n",
        "    if r.get('date_of_game') is np.nan:\n",
        "        \n",
        "        lst=list(df['date_of_game'][df['match_id']==r.get('match_id')]) # Certain match_id have a single value.\n",
        "        if len(lst)==1:                                                #Check if the match_id has a single value.\n",
        "            df.at[ind,'date_of_game']=df['date_of_game'].mode().values[0]\n",
        "        else:\n",
        "            df.at[ind,'date_of_game']=df['date_of_game'][df['match_id']==r.get('match_id')].mode().values[0]\n"
      ],
      "execution_count": 0,
      "outputs": [
        {
          "output_type": "stream",
          "text": [
            "Nan values before replacing for  date_of_game    1550\n",
            "dtype: int64\n"
          ],
          "name": "stdout"
        }
      ]
    },
    {
      "cell_type": "code",
      "metadata": {
        "id": "uVRgXc3tN7nb",
        "colab_type": "code",
        "outputId": "74ae0a10-1d01-41bd-cef1-e42db3fca7aa",
        "colab": {
          "base_uri": "https://localhost:8080/",
          "height": 50
        }
      },
      "source": [
        "print('Nan values after replacing for  ',df[['date_of_game']].isnull().sum()) "
      ],
      "execution_count": 0,
      "outputs": [
        {
          "output_type": "stream",
          "text": [
            "Nan values after replacing for   date_of_game    0\n",
            "dtype: int64\n"
          ],
          "name": "stdout"
        }
      ]
    },
    {
      "cell_type": "code",
      "metadata": {
        "id": "O2i2M28nOc0K",
        "colab_type": "code",
        "colab": {}
      },
      "source": [
        "#Extract month and year from the values. Create 2 new columns 'month_name and 'year'\n",
        "\n",
        "mon=pd.to_datetime(df['date_of_game'],format='%m/%d/%Y')\n",
        "df['month_name']=mon.dt.month_name()\n",
        "df['year']=mon.dt.year\n",
        "\n",
        "#Drop the date_of_game column\n",
        "\n",
        "df.drop('date_of_game', axis=1, inplace=True)\n"
      ],
      "execution_count": 0,
      "outputs": []
    },
    {
      "cell_type": "code",
      "metadata": {
        "id": "vo-5TKxXPodH",
        "colab_type": "code",
        "outputId": "2532a32e-0969-40f1-bc5b-a346a65a66e7",
        "colab": {
          "base_uri": "https://localhost:8080/",
          "height": 343
        }
      },
      "source": [
        "#Create datframe having match_id,month_name and is_goal. Get details of matches played monthwise\n",
        "\n",
        "mon_match=pd.DataFrame(df[['month_name','match_id','is_goal']])\n",
        "mon_match.groupby(['month_name']).agg({'match_id':\"count\"})\n"
      ],
      "execution_count": 0,
      "outputs": [
        {
          "output_type": "execute_result",
          "data": {
            "text/html": [
              "<div>\n",
              "<style scoped>\n",
              "    .dataframe tbody tr th:only-of-type {\n",
              "        vertical-align: middle;\n",
              "    }\n",
              "\n",
              "    .dataframe tbody tr th {\n",
              "        vertical-align: top;\n",
              "    }\n",
              "\n",
              "    .dataframe thead th {\n",
              "        text-align: right;\n",
              "    }\n",
              "</style>\n",
              "<table border=\"1\" class=\"dataframe\">\n",
              "  <thead>\n",
              "    <tr style=\"text-align: right;\">\n",
              "      <th></th>\n",
              "      <th>match_id</th>\n",
              "    </tr>\n",
              "    <tr>\n",
              "      <th>month_name</th>\n",
              "      <th></th>\n",
              "    </tr>\n",
              "  </thead>\n",
              "  <tbody>\n",
              "    <tr>\n",
              "      <th>April</th>\n",
              "      <td>3813</td>\n",
              "    </tr>\n",
              "    <tr>\n",
              "      <th>December</th>\n",
              "      <td>4922</td>\n",
              "    </tr>\n",
              "    <tr>\n",
              "      <th>February</th>\n",
              "      <td>4103</td>\n",
              "    </tr>\n",
              "    <tr>\n",
              "      <th>January</th>\n",
              "      <td>4654</td>\n",
              "    </tr>\n",
              "    <tr>\n",
              "      <th>June</th>\n",
              "      <td>877</td>\n",
              "    </tr>\n",
              "    <tr>\n",
              "      <th>March</th>\n",
              "      <td>5132</td>\n",
              "    </tr>\n",
              "    <tr>\n",
              "      <th>May</th>\n",
              "      <td>2562</td>\n",
              "    </tr>\n",
              "    <tr>\n",
              "      <th>November</th>\n",
              "      <td>4251</td>\n",
              "    </tr>\n",
              "    <tr>\n",
              "      <th>October</th>\n",
              "      <td>383</td>\n",
              "    </tr>\n",
              "  </tbody>\n",
              "</table>\n",
              "</div>"
            ],
            "text/plain": [
              "            match_id\n",
              "month_name          \n",
              "April           3813\n",
              "December        4922\n",
              "February        4103\n",
              "January         4654\n",
              "June             877\n",
              "March           5132\n",
              "May             2562\n",
              "November        4251\n",
              "October          383"
            ]
          },
          "metadata": {
            "tags": []
          },
          "execution_count": 16
        }
      ]
    },
    {
      "cell_type": "code",
      "metadata": {
        "id": "pmQy3P4AfeOM",
        "colab_type": "code",
        "outputId": "5821f394-cdf8-44d4-fff7-adbdfe253df1",
        "colab": {
          "base_uri": "https://localhost:8080/",
          "height": 343
        }
      },
      "source": [
        "#Get the data of goal=1 monthwise.Both the output is copied to excel to get a % wise report\n",
        "mon_match[mon_match['is_goal']==1].groupby(['month_name']).agg({'is_goal':\"count\"})"
      ],
      "execution_count": 0,
      "outputs": [
        {
          "output_type": "execute_result",
          "data": {
            "text/html": [
              "<div>\n",
              "<style scoped>\n",
              "    .dataframe tbody tr th:only-of-type {\n",
              "        vertical-align: middle;\n",
              "    }\n",
              "\n",
              "    .dataframe tbody tr th {\n",
              "        vertical-align: top;\n",
              "    }\n",
              "\n",
              "    .dataframe thead th {\n",
              "        text-align: right;\n",
              "    }\n",
              "</style>\n",
              "<table border=\"1\" class=\"dataframe\">\n",
              "  <thead>\n",
              "    <tr style=\"text-align: right;\">\n",
              "      <th></th>\n",
              "      <th>is_goal</th>\n",
              "    </tr>\n",
              "    <tr>\n",
              "      <th>month_name</th>\n",
              "      <th></th>\n",
              "    </tr>\n",
              "  </thead>\n",
              "  <tbody>\n",
              "    <tr>\n",
              "      <th>April</th>\n",
              "      <td>1319</td>\n",
              "    </tr>\n",
              "    <tr>\n",
              "      <th>December</th>\n",
              "      <td>1739</td>\n",
              "    </tr>\n",
              "    <tr>\n",
              "      <th>February</th>\n",
              "      <td>1490</td>\n",
              "    </tr>\n",
              "    <tr>\n",
              "      <th>January</th>\n",
              "      <td>1669</td>\n",
              "    </tr>\n",
              "    <tr>\n",
              "      <th>June</th>\n",
              "      <td>298</td>\n",
              "    </tr>\n",
              "    <tr>\n",
              "      <th>March</th>\n",
              "      <td>1791</td>\n",
              "    </tr>\n",
              "    <tr>\n",
              "      <th>May</th>\n",
              "      <td>939</td>\n",
              "    </tr>\n",
              "    <tr>\n",
              "      <th>November</th>\n",
              "      <td>1498</td>\n",
              "    </tr>\n",
              "    <tr>\n",
              "      <th>October</th>\n",
              "      <td>136</td>\n",
              "    </tr>\n",
              "  </tbody>\n",
              "</table>\n",
              "</div>"
            ],
            "text/plain": [
              "            is_goal\n",
              "month_name         \n",
              "April          1319\n",
              "December       1739\n",
              "February       1490\n",
              "January        1669\n",
              "June            298\n",
              "March          1791\n",
              "May             939\n",
              "November       1498\n",
              "October         136"
            ]
          },
          "metadata": {
            "tags": []
          },
          "execution_count": 17
        }
      ]
    },
    {
      "cell_type": "markdown",
      "metadata": {
        "id": "7IzhXZ2vRR6r",
        "colab_type": "text"
      },
      "source": [
        "**Month wise details of the goal's ,matches played and % of goal scored**\n",
        "\n",
        "\n",
        "\n",
        "<figure>\n",
        "<center>\n",
        "<img src='https://drive.google.com/uc?id=1lxE19dyKX6LTdKp-bhT_mYE-HrS4kHUm' />\n",
        "<figcaption>Image Caption</figcaption></center>\n",
        "</figure>\n",
        "\n",
        "\n",
        "\n",
        "\n"
      ]
    },
    {
      "cell_type": "code",
      "metadata": {
        "id": "SCH2eSpUS82W",
        "colab_type": "code",
        "outputId": "f1660b50-c0e2-4300-c194-9c51e9281822",
        "colab": {
          "base_uri": "https://localhost:8080/",
          "height": 698
        }
      },
      "source": [
        "#Create datframe having match_id,year and is_goal. Get details of matches played yearwise\n",
        "\n",
        "year_match=pd.DataFrame(df[['year','match_id','is_goal']])\n",
        "year_match.groupby(['year']).agg({'match_id':\"count\"})\n"
      ],
      "execution_count": 0,
      "outputs": [
        {
          "output_type": "execute_result",
          "data": {
            "text/html": [
              "<div>\n",
              "<style scoped>\n",
              "    .dataframe tbody tr th:only-of-type {\n",
              "        vertical-align: middle;\n",
              "    }\n",
              "\n",
              "    .dataframe tbody tr th {\n",
              "        vertical-align: top;\n",
              "    }\n",
              "\n",
              "    .dataframe thead th {\n",
              "        text-align: right;\n",
              "    }\n",
              "</style>\n",
              "<table border=\"1\" class=\"dataframe\">\n",
              "  <thead>\n",
              "    <tr style=\"text-align: right;\">\n",
              "      <th></th>\n",
              "      <th>match_id</th>\n",
              "    </tr>\n",
              "    <tr>\n",
              "      <th>year</th>\n",
              "      <th></th>\n",
              "    </tr>\n",
              "  </thead>\n",
              "  <tbody>\n",
              "    <tr>\n",
              "      <th>1996</th>\n",
              "      <td>86</td>\n",
              "    </tr>\n",
              "    <tr>\n",
              "      <th>1997</th>\n",
              "      <td>760</td>\n",
              "    </tr>\n",
              "    <tr>\n",
              "      <th>1998</th>\n",
              "      <td>619</td>\n",
              "    </tr>\n",
              "    <tr>\n",
              "      <th>1999</th>\n",
              "      <td>1182</td>\n",
              "    </tr>\n",
              "    <tr>\n",
              "      <th>2000</th>\n",
              "      <td>2047</td>\n",
              "    </tr>\n",
              "    <tr>\n",
              "      <th>2001</th>\n",
              "      <td>1662</td>\n",
              "    </tr>\n",
              "    <tr>\n",
              "      <th>2002</th>\n",
              "      <td>2215</td>\n",
              "    </tr>\n",
              "    <tr>\n",
              "      <th>2003</th>\n",
              "      <td>1961</td>\n",
              "    </tr>\n",
              "    <tr>\n",
              "      <th>2004</th>\n",
              "      <td>1779</td>\n",
              "    </tr>\n",
              "    <tr>\n",
              "      <th>2005</th>\n",
              "      <td>1515</td>\n",
              "    </tr>\n",
              "    <tr>\n",
              "      <th>2006</th>\n",
              "      <td>2122</td>\n",
              "    </tr>\n",
              "    <tr>\n",
              "      <th>2007</th>\n",
              "      <td>1936</td>\n",
              "    </tr>\n",
              "    <tr>\n",
              "      <th>2008</th>\n",
              "      <td>2141</td>\n",
              "    </tr>\n",
              "    <tr>\n",
              "      <th>2009</th>\n",
              "      <td>2357</td>\n",
              "    </tr>\n",
              "    <tr>\n",
              "      <th>2010</th>\n",
              "      <td>2009</td>\n",
              "    </tr>\n",
              "    <tr>\n",
              "      <th>2011</th>\n",
              "      <td>1275</td>\n",
              "    </tr>\n",
              "    <tr>\n",
              "      <th>2012</th>\n",
              "      <td>2184</td>\n",
              "    </tr>\n",
              "    <tr>\n",
              "      <th>2013</th>\n",
              "      <td>1020</td>\n",
              "    </tr>\n",
              "    <tr>\n",
              "      <th>2014</th>\n",
              "      <td>626</td>\n",
              "    </tr>\n",
              "    <tr>\n",
              "      <th>2015</th>\n",
              "      <td>586</td>\n",
              "    </tr>\n",
              "    <tr>\n",
              "      <th>2016</th>\n",
              "      <td>615</td>\n",
              "    </tr>\n",
              "  </tbody>\n",
              "</table>\n",
              "</div>"
            ],
            "text/plain": [
              "      match_id\n",
              "year          \n",
              "1996        86\n",
              "1997       760\n",
              "1998       619\n",
              "1999      1182\n",
              "2000      2047\n",
              "2001      1662\n",
              "2002      2215\n",
              "2003      1961\n",
              "2004      1779\n",
              "2005      1515\n",
              "2006      2122\n",
              "2007      1936\n",
              "2008      2141\n",
              "2009      2357\n",
              "2010      2009\n",
              "2011      1275\n",
              "2012      2184\n",
              "2013      1020\n",
              "2014       626\n",
              "2015       586\n",
              "2016       615"
            ]
          },
          "metadata": {
            "tags": []
          },
          "execution_count": 18
        }
      ]
    },
    {
      "cell_type": "code",
      "metadata": {
        "id": "sfbpJxMuXeUi",
        "colab_type": "code",
        "outputId": "63ef4e21-6d20-4d26-af44-905e349b406f",
        "colab": {
          "base_uri": "https://localhost:8080/",
          "height": 698
        }
      },
      "source": [
        "#Get the data of goal=1 yearwise.Both the output is copied to excel to get a % wise report\n",
        "year_match[mon_match['is_goal']==1].groupby(['year']).agg({'is_goal':\"count\"})"
      ],
      "execution_count": 0,
      "outputs": [
        {
          "output_type": "execute_result",
          "data": {
            "text/html": [
              "<div>\n",
              "<style scoped>\n",
              "    .dataframe tbody tr th:only-of-type {\n",
              "        vertical-align: middle;\n",
              "    }\n",
              "\n",
              "    .dataframe tbody tr th {\n",
              "        vertical-align: top;\n",
              "    }\n",
              "\n",
              "    .dataframe thead th {\n",
              "        text-align: right;\n",
              "    }\n",
              "</style>\n",
              "<table border=\"1\" class=\"dataframe\">\n",
              "  <thead>\n",
              "    <tr style=\"text-align: right;\">\n",
              "      <th></th>\n",
              "      <th>is_goal</th>\n",
              "    </tr>\n",
              "    <tr>\n",
              "      <th>year</th>\n",
              "      <th></th>\n",
              "    </tr>\n",
              "  </thead>\n",
              "  <tbody>\n",
              "    <tr>\n",
              "      <th>1996</th>\n",
              "      <td>22</td>\n",
              "    </tr>\n",
              "    <tr>\n",
              "      <th>1997</th>\n",
              "      <td>257</td>\n",
              "    </tr>\n",
              "    <tr>\n",
              "      <th>1998</th>\n",
              "      <td>202</td>\n",
              "    </tr>\n",
              "    <tr>\n",
              "      <th>1999</th>\n",
              "      <td>428</td>\n",
              "    </tr>\n",
              "    <tr>\n",
              "      <th>2000</th>\n",
              "      <td>766</td>\n",
              "    </tr>\n",
              "    <tr>\n",
              "      <th>2001</th>\n",
              "      <td>618</td>\n",
              "    </tr>\n",
              "    <tr>\n",
              "      <th>2002</th>\n",
              "      <td>782</td>\n",
              "    </tr>\n",
              "    <tr>\n",
              "      <th>2003</th>\n",
              "      <td>667</td>\n",
              "    </tr>\n",
              "    <tr>\n",
              "      <th>2004</th>\n",
              "      <td>613</td>\n",
              "    </tr>\n",
              "    <tr>\n",
              "      <th>2005</th>\n",
              "      <td>539</td>\n",
              "    </tr>\n",
              "    <tr>\n",
              "      <th>2006</th>\n",
              "      <td>770</td>\n",
              "    </tr>\n",
              "    <tr>\n",
              "      <th>2007</th>\n",
              "      <td>700</td>\n",
              "    </tr>\n",
              "    <tr>\n",
              "      <th>2008</th>\n",
              "      <td>809</td>\n",
              "    </tr>\n",
              "    <tr>\n",
              "      <th>2009</th>\n",
              "      <td>884</td>\n",
              "    </tr>\n",
              "    <tr>\n",
              "      <th>2010</th>\n",
              "      <td>712</td>\n",
              "    </tr>\n",
              "    <tr>\n",
              "      <th>2011</th>\n",
              "      <td>458</td>\n",
              "    </tr>\n",
              "    <tr>\n",
              "      <th>2012</th>\n",
              "      <td>762</td>\n",
              "    </tr>\n",
              "    <tr>\n",
              "      <th>2013</th>\n",
              "      <td>364</td>\n",
              "    </tr>\n",
              "    <tr>\n",
              "      <th>2014</th>\n",
              "      <td>188</td>\n",
              "    </tr>\n",
              "    <tr>\n",
              "      <th>2015</th>\n",
              "      <td>161</td>\n",
              "    </tr>\n",
              "    <tr>\n",
              "      <th>2016</th>\n",
              "      <td>177</td>\n",
              "    </tr>\n",
              "  </tbody>\n",
              "</table>\n",
              "</div>"
            ],
            "text/plain": [
              "      is_goal\n",
              "year         \n",
              "1996       22\n",
              "1997      257\n",
              "1998      202\n",
              "1999      428\n",
              "2000      766\n",
              "2001      618\n",
              "2002      782\n",
              "2003      667\n",
              "2004      613\n",
              "2005      539\n",
              "2006      770\n",
              "2007      700\n",
              "2008      809\n",
              "2009      884\n",
              "2010      712\n",
              "2011      458\n",
              "2012      762\n",
              "2013      364\n",
              "2014      188\n",
              "2015      161\n",
              "2016      177"
            ]
          },
          "metadata": {
            "tags": []
          },
          "execution_count": 19
        }
      ]
    },
    {
      "cell_type": "markdown",
      "metadata": {
        "id": "fexuvVnMkIhb",
        "colab_type": "text"
      },
      "source": [
        "**Year wise details of the goal's ,matches played and % of goal scored**\n",
        "\n",
        "\n",
        "\n",
        "<figure>\n",
        "<center>\n",
        "<img src='https://drive.google.com/uc?id=1yNW54lm0asOziNFDTdop08hH6kpzP_N3' />\n",
        "<figcaption>Image Caption</figcaption></center>\n",
        "</figure>\n"
      ]
    },
    {
      "cell_type": "markdown",
      "metadata": {
        "id": "03TRGBl3lr9_",
        "colab_type": "text"
      },
      "source": [
        "As we see from the report, the performance of the player both month and year wise is consistent. The goal scored is proportionate to the number of matches played. There are no major changes in the number of goals scored with the increase/decrease of matches. Here we can see a relation between game_of_date and match_id column. Since the performance of the player is consistent, the exclusion and inclusion of the column will be checked for the change in the accuracy of the predictive model."
      ]
    },
    {
      "cell_type": "markdown",
      "metadata": {
        "id": "HOGZNxL8Bbd0",
        "colab_type": "text"
      },
      "source": [
        "**4i) Home/Away column**\n",
        "\n",
        "This column list the opponent team name with whom the player has played in his career. We will analyze the maximum number of games played and the goal scored with each of the team. This detail will help us understand the performance of the player each time with a given team. Therefore this column will help in predicting the scoring of the goal.\n",
        "\n",
        "Since this column also has nan values, we will replace the nan values based on the match_id column. For the same match_id, we have the same team name in the dataset. Using this logic, for a given row having nan values, we will match the match_id of that row with the same match_id in the dataset, from the matching rows get the mode of the team name. This value will be used to replace the nan value of the given row.\n",
        "\n",
        "This column has values in different formats like 'MANU @ POR' or 'MANU vs'. Both this format has 1 thing in common, 'POR' ie team name. We will, therefore, extract only the team name from the row values and populate in a new column 'opponent'.Later will drop the original column 'home/away'.\n",
        "\n",
        "\n",
        "Below we have the queries to extract the team name and thereafter."
      ]
    },
    {
      "cell_type": "code",
      "metadata": {
        "id": "1fVkmLJPBjuy",
        "colab_type": "code",
        "outputId": "848460f3-67d3-4755-8d31-1a537e0315e2",
        "colab": {
          "base_uri": "https://localhost:8080/",
          "height": 50
        }
      },
      "source": [
        "#Replace the nan value of the home/away column my comparing the match_id.Same match_id will have same value for\n",
        "#home/away column. Therefore compare the match_id of the given row with match_id's in match_id column in the data frame. \n",
        "#Get the mode of all the matching match_id,replace this value for nan in the given row.\n",
        "\n",
        "print('Nan values before replacing for ',df[['home/away']].isnull().sum()) \n",
        "\n",
        "for ind,r in df.iterrows():\n",
        "    \n",
        "    if r.get('home/away') is np.nan:\n",
        "        df.at[ind,'home/away']=df['home/away'][df['match_id']==r.get('match_id')].mode().values[0]"
      ],
      "execution_count": 0,
      "outputs": [
        {
          "output_type": "stream",
          "text": [
            "Nan values before replacing for  home/away    1497\n",
            "dtype: int64\n"
          ],
          "name": "stdout"
        }
      ]
    },
    {
      "cell_type": "code",
      "metadata": {
        "id": "lzIPFsVkh9LP",
        "colab_type": "code",
        "outputId": "7c1ce87a-998d-43fd-e08f-677b38f8c403",
        "colab": {
          "base_uri": "https://localhost:8080/",
          "height": 50
        }
      },
      "source": [
        "print('Nan values after replacing for ',df[['home/away']].isnull().sum()) "
      ],
      "execution_count": 0,
      "outputs": [
        {
          "output_type": "stream",
          "text": [
            "Nan values after replacing for  home/away    0\n",
            "dtype: int64\n"
          ],
          "name": "stdout"
        }
      ]
    },
    {
      "cell_type": "code",
      "metadata": {
        "id": "WGUE7RakiUgv",
        "colab_type": "code",
        "colab": {}
      },
      "source": [
        "# From  home/away column extract the team name and populated into a new column 'opponent\n",
        "df['opponent']=df['home/away'].apply(lambda y: y[-3:] if not isinstance(y, float)else y)"
      ],
      "execution_count": 0,
      "outputs": []
    },
    {
      "cell_type": "code",
      "metadata": {
        "id": "w5KBHfDZie2w",
        "colab_type": "code",
        "colab": {}
      },
      "source": [
        "#Drop the home/away column.Hence forth opponent(team name) column will be used for further analysis.\n",
        "df.drop('home/away', axis=1, inplace=True)"
      ],
      "execution_count": 0,
      "outputs": []
    },
    {
      "cell_type": "code",
      "metadata": {
        "id": "nn403q5IijWX",
        "colab_type": "code",
        "colab": {}
      },
      "source": [
        "#Create data frame with opponent feature and is_goal feature \n",
        "home=df[['opponent','is_goal','match_id']].copy()"
      ],
      "execution_count": 0,
      "outputs": []
    },
    {
      "cell_type": "code",
      "metadata": {
        "id": "IeZpIJjKi4PT",
        "colab_type": "code",
        "outputId": "71e948a1-e44a-49ce-ced7-691460458d54",
        "colab": {
          "base_uri": "https://localhost:8080/",
          "height": 369
        }
      },
      "source": [
        "#Create bar graph with opponent column and is_goal=1\n",
        "alpha = 0.02\n",
        "plt.figure(figsize=(9,3))\n",
        "home['opponent'][home['is_goal']==1].value_counts().plot(kind='bar')\n",
        "plt.title('Opponent and Goal=1')\n",
        "plt.xlabel('Opponent')\n",
        "plt.ylabel('Goal Count')"
      ],
      "execution_count": 0,
      "outputs": [
        {
          "output_type": "execute_result",
          "data": {
            "text/plain": [
              "Text(0, 0.5, 'Goal Count')"
            ]
          },
          "metadata": {
            "tags": []
          },
          "execution_count": 19
        },
        {
          "output_type": "display_data",
          "data": {
            "image/png": "[encoded data removed]",
            "text/plain": [
              "<Figure size 900x300 with 1 Axes>"
            ]
          },
          "metadata": {
            "tags": []
          }
        }
      ]
    },
    {
      "cell_type": "markdown",
      "metadata": {
        "id": "CFuC7TGykaTj",
        "colab_type": "text"
      },
      "source": [
        "As we see from the graph, the maximum number of goals scored is with team SAS. Similarly, we can see the relationship between goal scored and opponent. **Therefore this column will help in predicting the score and will be included in the predicted model. replace the nan values as explained above.**"
      ]
    },
    {
      "cell_type": "markdown",
      "metadata": {
        "id": "YKMZNa8AtMQQ",
        "colab_type": "text"
      },
      "source": [
        "**4j)Shot_id column.**\n",
        "\n",
        "This column holds only index values for the type_of_shot column. This will therefore not contribute towards predicting if the goal will be scored of not. Thereby this column will be included for building a predictive model."
      ]
    },
    {
      "cell_type": "markdown",
      "metadata": {
        "id": "4Mq319Owtxay",
        "colab_type": "text"
      },
      "source": [
        "**4k)Type_of_shot and type_of_combined_shot**\n",
        "\n",
        "These columns tell you what kind of shot was used to hit the ball. Multiple numbers of shots can be used to hit the ball. The type of shot the player will play can depend on multiple factors. For example, pass off a shot, penalty shot, the zone, and the side of the zone on the ground the player is, distance from that zone to the goal post, etc.\n",
        "\n",
        "At any given point in time, either the ball is hit with 1 kind of shot or with multiple shot combined as 1 (eg you have a ball coming on the chest, then slide the ball down to thighs, from there slide gradually to the feet), therefore if the column type_of_shot has a value, the type_of_combined_shot would have a nan value. Based on this logic, to replace the nan values of these columns we will use the value of the other column having a valid value.\n",
        "\n",
        "Once the nan values are replaced we will convert the column values to more meaningful eg for type_of_shot we will replace 'shot-1' to 'tc-1' etc. For type_of_combined_shot column we will replace 'shot-1' to 'cs-1' etc.\n",
        "\n",
        "The query to replace the nan and modify the values is given below.\n",
        "\n",
        "The column helps in predicting the scoring of the goal, but to what extent it is difficult to say. Therefore exclusion and inclusion of these columns should be checked for accuracy of the predictive model.\n",
        "\n"
      ]
    },
    {
      "cell_type": "code",
      "metadata": {
        "id": "XAZFrpuj1sBG",
        "colab_type": "code",
        "colab": {}
      },
      "source": [
        "#Replace the values with meaning full name eg for shot-3 ,for type_of_shot we will replace with 'ts-3 and for\n",
        "#type_of_combined_shot we will replace with 'cs-3'\n",
        "\n",
        "\n",
        "for ind,r in df.iterrows():\n",
        "    val=''\n",
        "    val1=''\n",
        "    new_val=''\n",
        "    new_val1=''\n",
        "    \n",
        "    if r.get('type_of_combined_shot') is not np.nan:\n",
        "    \n",
        "        val=r.get('type_of_combined_shot')\n",
        "        new_val=val.replace('shot','cs')\n",
        "        df.at[ind,'type_of_combined_shot']=new_val\n",
        "        \n",
        "    if r.get('type_of_shot') is not np.nan:\n",
        "        val1=r.get('type_of_shot')\n",
        "        new_val1=val1.replace('shot','ts')\n",
        "        df.at[ind,'type_of_shot']=new_val1"
      ],
      "execution_count": 0,
      "outputs": []
    },
    {
      "cell_type": "code",
      "metadata": {
        "id": "ZcT9W-mlt6dM",
        "colab_type": "code",
        "outputId": "9139b9f0-0040-48ee-e942-7596219d8636",
        "colab": {
          "base_uri": "https://localhost:8080/",
          "height": 84
        }
      },
      "source": [
        "#For nan values,the column having nan value will be replaced with values of the other column with valid value.\n",
        "print('Nan values before replacing for ',df[['type_of_shot']].isnull().sum()) \n",
        "print('Nan values before replacing for ',df[['type_of_combined_shot']].isnull().sum()) \n",
        "\n",
        "for ind,r in df.iterrows():\n",
        "    val=''\n",
        "    val1=''\n",
        "    \n",
        "    if r.get('type_of_shot') is np.nan:\n",
        "        \n",
        "        val=r.get('type_of_combined_shot')\n",
        "        df.at[ind,'type_of_shot']=val.replace('cs','ts')\n",
        "              \n",
        "    if r.get('type_of_combined_shot') is np.nan:\n",
        "        val=r.get('type_of_shot')\n",
        "        df.at[ind,'type_of_combined_shot']=val.replace('ts','cs')\n",
        "              "
      ],
      "execution_count": 0,
      "outputs": [
        {
          "output_type": "stream",
          "text": [
            "Nan values before replacing for  type_of_shot    15280\n",
            "dtype: int64\n",
            "Nan values before replacing for  type_of_combined_shot    15417\n",
            "dtype: int64\n"
          ],
          "name": "stdout"
        }
      ]
    },
    {
      "cell_type": "code",
      "metadata": {
        "id": "8mhVWU3k2Mxs",
        "colab_type": "code",
        "outputId": "2757742f-3af6-443c-ac1d-61ca9199fd51",
        "colab": {
          "base_uri": "https://localhost:8080/",
          "height": 84
        }
      },
      "source": [
        "print('Nan values after replacing for ',df[['type_of_shot']].isnull().sum()) \n",
        "print('Nan values after replacing for ',df[['type_of_combined_shot']].isnull().sum()) "
      ],
      "execution_count": 0,
      "outputs": [
        {
          "output_type": "stream",
          "text": [
            "Nan values after replacing for  type_of_shot    0\n",
            "dtype: int64\n",
            "Nan values after replacing for  type_of_combined_shot    0\n",
            "dtype: int64\n"
          ],
          "name": "stdout"
        }
      ]
    },
    {
      "cell_type": "markdown",
      "metadata": {
        "id": "8v4exyTiMYbd",
        "colab_type": "text"
      },
      "source": [
        "**4l) remaining_min.1,remaining_sec.1,power_of_shot.1,knockout_match.1,distance_of_shot.1  columns**.\n",
        "\n",
        "These are duplicate columns with the same name as the original columns. These columns will not be used reason being there are certain values here which are vague and not in the range they should be ie the kind of data they should hold(eg remaining_sec.1 has values greater than 60, seconds cannot be more than 60).\n",
        "Instead, these columns shall be used to replace the nan values of the original columns(appropriate values).\n",
        "\n",
        "These columns will not be part of the predictive algorithm."
      ]
    },
    {
      "cell_type": "markdown",
      "metadata": {
        "id": "FErDCw-eQCMa",
        "colab_type": "text"
      },
      "source": [
        "**CONCLUSION**\n",
        "\n",
        "We analysed all the columns of this data set.Based on the study we have come up with a list of columns.\n",
        "\n",
        "The list are as given below,\n",
        "\n",
        "**A)** These columns are very important and will be the core of predictive models.\n",
        "\n",
        "1. Match_id.\n",
        "2. Remaining_min.\n",
        "3. Remaining_sec.\n",
        "4. Distance_of_shot\n",
        "4. Range_of_shot\n",
        "6. Shot_basics\n",
        "7. Area_of_shot\n",
        "8. Game_of_date\n",
        "9. Home/away\n",
        "10. is_goal\n",
        "\n",
        "\n",
        "**B)** Inclusion and exclusion of these columns will be checked to see the change in accuracy.\n",
        "\n",
        "1. Power_of_shot\n",
        "2. Knockout_match\n",
        "3. Type_of_shot \n",
        "4. Type_of_combined_shot\n",
        "\n",
        "\n",
        "**C)** This list of columns will have no role in predicting the scoring of the goal.\n",
        "\n",
        "1.   Match_event_id\n",
        "2.   Location_x\n",
        "3.   Location_y\n",
        "4.   Game_of_season\n",
        "5.   Team_name\n",
        "6.   Team_id\n",
        "7.   lat/lng\n",
        "8.   Shot_id\n",
        "9.   Remaining_min.1\n",
        "10.  Remaining_sec.1\n",
        "11.  Power_of_shot.1\n",
        "12.  Knockout_match.1\n",
        "13.  Distance_of_shot.1\n",
        "\n",
        "\n",
        "\n",
        "\n",
        "\n",
        "\n",
        "\n",
        "\n",
        "\n",
        "\n",
        "\n"
      ]
    }
  ]
}